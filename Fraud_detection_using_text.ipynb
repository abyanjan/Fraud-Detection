{
  "nbformat": 4,
  "nbformat_minor": 0,
  "metadata": {
    "colab": {
      "name": "Fraud detection using text.ipynb",
      "provenance": [],
      "authorship_tag": "ABX9TyPrjetxuGN6TM92niKTgKik",
      "include_colab_link": true
    },
    "kernelspec": {
      "name": "python3",
      "display_name": "Python 3"
    },
    "language_info": {
      "name": "python"
    }
  },
  "cells": [
    {
      "cell_type": "markdown",
      "metadata": {
        "id": "view-in-github",
        "colab_type": "text"
      },
      "source": [
        "<a href=\"https://colab.research.google.com/github/abyanjan/Fraud-Detection/blob/master/Fraud_detection_using_text.ipynb\" target=\"_parent\"><img src=\"https://colab.research.google.com/assets/colab-badge.svg\" alt=\"Open In Colab\"/></a>"
      ]
    },
    {
      "cell_type": "markdown",
      "metadata": {
        "id": "yX29haZN3gDR"
      },
      "source": [
        "## Fraud detection using text"
      ]
    },
    {
      "cell_type": "code",
      "metadata": {
        "colab": {
          "base_uri": "https://localhost:8080/"
        },
        "id": "fCdKrv1P3XtS",
        "outputId": "93e4c0be-7e49-40b1-edc0-1d8793fcaf66"
      },
      "source": [
        "!unzip chapter_4.zip"
      ],
      "execution_count": null,
      "outputs": [
        {
          "output_type": "stream",
          "text": [
            "Archive:  chapter_4.zip\n",
            "   creating: chapter_4/\n",
            " extracting: chapter_4/cleantext.pickle  \n",
            " extracting: chapter_4/ldamodel.pickle  \n",
            "  inflating: chapter_4/dict.pickle   \n",
            "  inflating: chapter_4/corpus.pickle  \n",
            "  inflating: chapter_4/enron_emails_clean.csv  \n"
          ],
          "name": "stdout"
        }
      ]
    },
    {
      "cell_type": "code",
      "metadata": {
        "id": "CmhgvOoX3ovC"
      },
      "source": [
        "import pandas as pd\n",
        "import numpy as np\n",
        "import matplotlib.pyplot as plt"
      ],
      "execution_count": null,
      "outputs": []
    },
    {
      "cell_type": "code",
      "metadata": {
        "colab": {
          "base_uri": "https://localhost:8080/",
          "height": 431
        },
        "id": "9plrLg6N3rf2",
        "outputId": "30bda779-f12f-4963-b54b-cd8f1f90346c"
      },
      "source": [
        "# load data\n",
        "df = pd.read_csv(\"chapter_4/enron_emails_clean.csv\")\n",
        "df.head()"
      ],
      "execution_count": null,
      "outputs": [
        {
          "output_type": "execute_result",
          "data": {
            "text/html": [
              "<div>\n",
              "<style scoped>\n",
              "    .dataframe tbody tr th:only-of-type {\n",
              "        vertical-align: middle;\n",
              "    }\n",
              "\n",
              "    .dataframe tbody tr th {\n",
              "        vertical-align: top;\n",
              "    }\n",
              "\n",
              "    .dataframe thead th {\n",
              "        text-align: right;\n",
              "    }\n",
              "</style>\n",
              "<table border=\"1\" class=\"dataframe\">\n",
              "  <thead>\n",
              "    <tr style=\"text-align: right;\">\n",
              "      <th></th>\n",
              "      <th>Message-ID</th>\n",
              "      <th>From</th>\n",
              "      <th>To</th>\n",
              "      <th>Date</th>\n",
              "      <th>content</th>\n",
              "      <th>clean_content</th>\n",
              "    </tr>\n",
              "  </thead>\n",
              "  <tbody>\n",
              "    <tr>\n",
              "      <th>0</th>\n",
              "      <td>&lt;8345058.1075840404046.JavaMail.evans@thyme&gt;</td>\n",
              "      <td>('advdfeedback@investools.com')</td>\n",
              "      <td>('advdfeedback@investools.com')</td>\n",
              "      <td>2002-01-29 23:20:55</td>\n",
              "      <td>INVESTools Advisory\\nA Free Digest of Trusted ...</td>\n",
              "      <td>investools advisory free digest trusted invest...</td>\n",
              "    </tr>\n",
              "    <tr>\n",
              "      <th>1</th>\n",
              "      <td>&lt;1512159.1075863666797.JavaMail.evans@thyme&gt;</td>\n",
              "      <td>('richard.sanders@enron.com')</td>\n",
              "      <td>('richard.sanders@enron.com')</td>\n",
              "      <td>2000-09-20 19:07:00</td>\n",
              "      <td>----- Forwarded by Richard B Sanders/HOU/ECT o...</td>\n",
              "      <td>forwarded richard b sanders hou ect pm justin ...</td>\n",
              "    </tr>\n",
              "    <tr>\n",
              "      <th>2</th>\n",
              "      <td>&lt;26118676.1075862176383.JavaMail.evans@thyme&gt;</td>\n",
              "      <td>('m..love@enron.com')</td>\n",
              "      <td>('m..love@enron.com')</td>\n",
              "      <td>2001-10-30 16:15:17</td>\n",
              "      <td>hey you are not wearing your target purple shi...</td>\n",
              "      <td>hey wearing target purple shirt today mine wan...</td>\n",
              "    </tr>\n",
              "    <tr>\n",
              "      <th>3</th>\n",
              "      <td>&lt;10369289.1075860831062.JavaMail.evans@thyme&gt;</td>\n",
              "      <td>('leslie.milosevich@kp.org')</td>\n",
              "      <td>('leslie.milosevich@kp.org')</td>\n",
              "      <td>2002-01-30 17:54:18</td>\n",
              "      <td>Leslie Milosevich\\n1042 Santa Clara Avenue\\nAl...</td>\n",
              "      <td>leslie milosevich santa clara avenue alameda c...</td>\n",
              "    </tr>\n",
              "    <tr>\n",
              "      <th>4</th>\n",
              "      <td>&lt;26728895.1075860815046.JavaMail.evans@thyme&gt;</td>\n",
              "      <td>('rtwait@graphicaljazz.com')</td>\n",
              "      <td>('rtwait@graphicaljazz.com')</td>\n",
              "      <td>2002-01-30 19:36:01</td>\n",
              "      <td>Rini Twait\\n1010 E 5th Ave\\nLongmont, CO 80501...</td>\n",
              "      <td>rini twait e th ave longmont co rtwait graphic...</td>\n",
              "    </tr>\n",
              "  </tbody>\n",
              "</table>\n",
              "</div>"
            ],
            "text/plain": [
              "                                      Message-ID  ...                                      clean_content\n",
              "0   <8345058.1075840404046.JavaMail.evans@thyme>  ...  investools advisory free digest trusted invest...\n",
              "1   <1512159.1075863666797.JavaMail.evans@thyme>  ...  forwarded richard b sanders hou ect pm justin ...\n",
              "2  <26118676.1075862176383.JavaMail.evans@thyme>  ...  hey wearing target purple shirt today mine wan...\n",
              "3  <10369289.1075860831062.JavaMail.evans@thyme>  ...  leslie milosevich santa clara avenue alameda c...\n",
              "4  <26728895.1075860815046.JavaMail.evans@thyme>  ...  rini twait e th ave longmont co rtwait graphic...\n",
              "\n",
              "[5 rows x 6 columns]"
            ]
          },
          "metadata": {
            "tags": []
          },
          "execution_count": 4
        }
      ]
    },
    {
      "cell_type": "markdown",
      "metadata": {
        "id": "sYY1YDMu34-q"
      },
      "source": [
        "The data is related to the text data, containing emails from Enron employees. The Enron scandal is a famous fraud case. Enron employees covered up the bad financial position of the company, thereby keeping the stock price artificially high. Enron employees sold their own stock options, and when the truth came out, Enron investors were left with nothing. The goal is to find all emails that mention specific words, such as \"sell enron stock\".  \n",
        "\n",
        "We will be working with the text cloumn \"clean_content\""
      ]
    },
    {
      "cell_type": "code",
      "metadata": {
        "id": "LkvSYDvS3xhv"
      },
      "source": [
        ""
      ],
      "execution_count": null,
      "outputs": []
    },
    {
      "cell_type": "markdown",
      "metadata": {
        "id": "3oRnq0lM4ifH"
      },
      "source": [
        "**Data Preprocessing**"
      ]
    },
    {
      "cell_type": "code",
      "metadata": {
        "colab": {
          "base_uri": "https://localhost:8080/"
        },
        "id": "xG9SztjH4jyo",
        "outputId": "4b9d3417-6029-408f-c21e-1c7626e0d117"
      },
      "source": [
        "import nltk\n",
        "from nltk import word_tokenize\n",
        "from nltk.corpus import stopwords \n",
        "import string\n",
        "from nltk.stem.wordnet import WordNetLemmatizer\n",
        "from nltk.stem.porter import PorterStemmer"
      ],
      "execution_count": null,
      "outputs": [
        {
          "output_type": "stream",
          "text": [
            "/usr/local/lib/python3.7/dist-packages/nltk/decorators.py:70: DeprecationWarning: `formatargspec` is deprecated since Python 3.5. Use `signature` and the `Signature` object directly\n",
            "  formatvalue=lambda value: \"\")[1:-1]\n",
            "/usr/local/lib/python3.7/dist-packages/sklearn/feature_extraction/image.py:167: DeprecationWarning: `np.int` is a deprecated alias for the builtin `int`. To silence this warning, use `int` by itself. Doing this will not modify any behavior and is safe. When replacing `np.int`, you may wish to use e.g. `np.int64` or `np.int32` to specify the precision. If you wish to review your current use, check the release note link for additional information.\n",
            "Deprecated in NumPy 1.20; for more details and guidance: https://numpy.org/devdocs/release/1.20.0-notes.html#deprecations\n",
            "  dtype=np.int):\n",
            "/usr/local/lib/python3.7/dist-packages/scipy/io/matlab/mio5.py:98: DeprecationWarning: `np.bool` is a deprecated alias for the builtin `bool`. To silence this warning, use `bool` by itself. Doing this will not modify any behavior and is safe. If you specifically wanted the numpy scalar type, use `np.bool_` here.\n",
            "Deprecated in NumPy 1.20; for more details and guidance: https://numpy.org/devdocs/release/1.20.0-notes.html#deprecations\n",
            "  from .mio5_utils import VarReader5\n"
          ],
          "name": "stderr"
        }
      ]
    },
    {
      "cell_type": "code",
      "metadata": {
        "colab": {
          "base_uri": "https://localhost:8080/"
        },
        "id": "Ykap6ljM5Rbn",
        "outputId": "96313966-9244-415f-986f-26651a763c01"
      },
      "source": [
        "nltk.download('stopwords')"
      ],
      "execution_count": null,
      "outputs": [
        {
          "output_type": "stream",
          "text": [
            "[nltk_data] Downloading package stopwords to /root/nltk_data...\n",
            "[nltk_data]   Package stopwords is already up-to-date!\n"
          ],
          "name": "stdout"
        },
        {
          "output_type": "execute_result",
          "data": {
            "text/plain": [
              "True"
            ]
          },
          "metadata": {
            "tags": []
          },
          "execution_count": 6
        }
      ]
    },
    {
      "cell_type": "code",
      "metadata": {
        "colab": {
          "base_uri": "https://localhost:8080/"
        },
        "id": "Q9ZFTBaY6kQP",
        "outputId": "a251499a-4b2e-4927-e31d-11e3afdca13a"
      },
      "source": [
        "nltk.download('wordnet')"
      ],
      "execution_count": null,
      "outputs": [
        {
          "output_type": "stream",
          "text": [
            "[nltk_data] Downloading package wordnet to /root/nltk_data...\n",
            "[nltk_data]   Package wordnet is already up-to-date!\n"
          ],
          "name": "stdout"
        },
        {
          "output_type": "execute_result",
          "data": {
            "text/plain": [
              "True"
            ]
          },
          "metadata": {
            "tags": []
          },
          "execution_count": 7
        }
      ]
    },
    {
      "cell_type": "code",
      "metadata": {
        "id": "2gVfo88x5vmP"
      },
      "source": [
        "# function to clean the text\n",
        "def clean(text, stop):\n",
        "    text = str(text).rstrip()\n",
        "    stop_free = \" \".join([i for i in text.lower().split() if((i not in stop) and (not i.isdigit()))])\n",
        "    punc_free = ''.join(i for i in stop_free if i not in exclude)\n",
        "    normalized = \" \".join(lemma.lemmatize(i) for i in punc_free.split())      \n",
        "    return normalized"
      ],
      "execution_count": null,
      "outputs": []
    },
    {
      "cell_type": "code",
      "metadata": {
        "id": "GPwNcwK_4mHO"
      },
      "source": [
        "# Define stopwords to exclude\n",
        "stop = set(stopwords.words('english'))\n",
        "stop.update((\"to\", \"cc\", \"subject\", \"http\", \"from\", \"sent\", \"ect\", \"u\", \"fwd\", \"www\", \"com\", 'html'))"
      ],
      "execution_count": null,
      "outputs": []
    },
    {
      "cell_type": "code",
      "metadata": {
        "id": "zp-9x2_O5mdP"
      },
      "source": [
        "# Define punctuations to exclude \n",
        "exclude = set(string.punctuation)"
      ],
      "execution_count": null,
      "outputs": []
    },
    {
      "cell_type": "code",
      "metadata": {
        "id": "1gAwQv9v6Sao"
      },
      "source": [
        "# Define the lemmatizer from nltk\n",
        "lemma = WordNetLemmatizer()"
      ],
      "execution_count": null,
      "outputs": []
    },
    {
      "cell_type": "code",
      "metadata": {
        "id": "QT5mpOyz5q-v"
      },
      "source": [
        "# apply the function to clean the text\n",
        "text_clean=[]\n",
        "for text in df['clean_content']:\n",
        "    text_clean.append(clean(text, stop).split())"
      ],
      "execution_count": null,
      "outputs": []
    },
    {
      "cell_type": "code",
      "metadata": {
        "colab": {
          "base_uri": "https://localhost:8080/"
        },
        "id": "t0VOBRMm6qVw",
        "outputId": "6f9eb9df-73ac-4805-dc78-56a7814beab9"
      },
      "source": [
        "text_clean[0][:10]"
      ],
      "execution_count": null,
      "outputs": [
        {
          "output_type": "execute_result",
          "data": {
            "text/plain": [
              "['investools',\n",
              " 'advisory',\n",
              " 'free',\n",
              " 'digest',\n",
              " 'trusted',\n",
              " 'investment',\n",
              " 'advice',\n",
              " 'unsubscribe',\n",
              " 'free',\n",
              " 'newsletter']"
            ]
          },
          "metadata": {
            "tags": []
          },
          "execution_count": 13
        }
      ]
    },
    {
      "cell_type": "markdown",
      "metadata": {
        "id": "y2AqTI6P68nD"
      },
      "source": [
        "Now that you have cleaned your data entirely with the necessary steps, including splitting the text into words, removing stopwords and punctuations, and lemmatizing your words. "
      ]
    },
    {
      "cell_type": "code",
      "metadata": {
        "id": "z8VDSjaF6qTO"
      },
      "source": [
        ""
      ],
      "execution_count": null,
      "outputs": []
    },
    {
      "cell_type": "markdown",
      "metadata": {
        "id": "h3MpEg-W7C0o"
      },
      "source": [
        "**Topic modeling on fraud**"
      ]
    },
    {
      "cell_type": "code",
      "metadata": {
        "colab": {
          "base_uri": "https://localhost:8080/"
        },
        "id": "rg8sVseu6qQC",
        "outputId": "9f6ada28-029b-4afe-a3d3-1d0adcb010d4"
      },
      "source": [
        "import gensim\n",
        "from gensim import corpora"
      ],
      "execution_count": null,
      "outputs": [
        {
          "output_type": "stream",
          "text": [
            "/usr/local/lib/python3.7/dist-packages/scipy/sparse/sparsetools.py:21: DeprecationWarning: `scipy.sparse.sparsetools` is deprecated!\n",
            "scipy.sparse.sparsetools is a private module for scipy.sparse, and should not be used.\n",
            "  _deprecated()\n"
          ],
          "name": "stderr"
        }
      ]
    },
    {
      "cell_type": "code",
      "metadata": {
        "id": "XxpNG2cr6HrA"
      },
      "source": [
        "# Create dictionary number of word counts\n",
        "dictionary = corpora.Dictionary(text_clean)"
      ],
      "execution_count": null,
      "outputs": []
    },
    {
      "cell_type": "code",
      "metadata": {
        "colab": {
          "base_uri": "https://localhost:8080/"
        },
        "id": "3FW4viJ07hXx",
        "outputId": "96c1a2b7-f063-44dd-a4bf-9c91bc8a91e9"
      },
      "source": [
        "print(dictionary)"
      ],
      "execution_count": null,
      "outputs": [
        {
          "output_type": "stream",
          "text": [
            "Dictionary(33980 unique tokens: ['account', 'accurate', 'acquiring', 'acre', 'address']...)\n"
          ],
          "name": "stdout"
        }
      ]
    },
    {
      "cell_type": "code",
      "metadata": {
        "id": "usUOuZ677hTu"
      },
      "source": [
        "# Define the corpus - create bag of words\n",
        "corpus = [dictionary.doc2bow(text) for text in text_clean]"
      ],
      "execution_count": null,
      "outputs": []
    },
    {
      "cell_type": "code",
      "metadata": {
        "colab": {
          "base_uri": "https://localhost:8080/"
        },
        "id": "LO7o_1Av79Hv",
        "outputId": "a4ec8e20-7a07-4394-ccf5-12721d4b935a"
      },
      "source": [
        "corpus[0][:10]"
      ],
      "execution_count": null,
      "outputs": [
        {
          "output_type": "execute_result",
          "data": {
            "text/plain": [
              "[(0, 2),\n",
              " (1, 1),\n",
              " (2, 1),\n",
              " (3, 1),\n",
              " (4, 1),\n",
              " (5, 6),\n",
              " (6, 1),\n",
              " (7, 2),\n",
              " (8, 4),\n",
              " (9, 1)]"
            ]
          },
          "metadata": {
            "tags": []
          },
          "execution_count": 18
        }
      ]
    },
    {
      "cell_type": "code",
      "metadata": {
        "id": "vulo9Nn88NRn"
      },
      "source": [
        ""
      ],
      "execution_count": null,
      "outputs": []
    },
    {
      "cell_type": "markdown",
      "metadata": {
        "id": "-kDK4mgs8Ni9"
      },
      "source": [
        "**LDA model**"
      ]
    },
    {
      "cell_type": "markdown",
      "metadata": {
        "id": "72iNtjeJ8Vep"
      },
      "source": [
        "Using the dictionary and corpus, we are ready to discover which topics are present in the Enron emails. We will create the topics by using the LDA model. "
      ]
    },
    {
      "cell_type": "code",
      "metadata": {
        "id": "hiTUK17JC8nd"
      },
      "source": [
        "import warnings\n",
        "warnings.filterwarnings('ignore')"
      ],
      "execution_count": null,
      "outputs": []
    },
    {
      "cell_type": "code",
      "metadata": {
        "id": "pu-Grsgw8P8_"
      },
      "source": [
        "# Define the LDA model\n",
        "ldamodel = gensim.models.ldamodel.LdaModel(corpus, num_topics=5, id2word=dictionary, passes=5,random_state=1)"
      ],
      "execution_count": null,
      "outputs": []
    },
    {
      "cell_type": "code",
      "metadata": {
        "id": "-Q4ZwfVF8wQu"
      },
      "source": [
        "# Save the topics and top 5 words\n",
        "topics = ldamodel.print_topics(num_words=5)"
      ],
      "execution_count": null,
      "outputs": []
    },
    {
      "cell_type": "code",
      "metadata": {
        "colab": {
          "base_uri": "https://localhost:8080/"
        },
        "id": "0pmfpSf28wND",
        "outputId": "132ecd55-6448-4038-f3de-1e1e182ece9f"
      },
      "source": [
        "# Print the results\n",
        "for topic in topics:\n",
        "    print(topic)"
      ],
      "execution_count": null,
      "outputs": [
        {
          "output_type": "stream",
          "text": [
            "(0, '0.031*\"image\" + 0.012*\"e\" + 0.008*\"mail\" + 0.008*\"enron\" + 0.007*\"se\"')\n",
            "(1, '0.018*\"enron\" + 0.009*\"company\" + 0.005*\"energy\" + 0.005*\"new\" + 0.005*\"stock\"')\n",
            "(2, '0.013*\"message\" + 0.012*\"original\" + 0.008*\"market\" + 0.007*\"gas\" + 0.007*\"team\"')\n",
            "(3, '0.045*\"td\" + 0.033*\"net\" + 0.031*\"money\" + 0.029*\"tr\" + 0.027*\"width\"')\n",
            "(4, '0.070*\"enron\" + 0.018*\"hou\" + 0.012*\"development\" + 0.011*\"corp\" + 0.010*\"pm\"')\n"
          ],
          "name": "stdout"
        }
      ]
    },
    {
      "cell_type": "code",
      "metadata": {
        "colab": {
          "base_uri": "https://localhost:8080/",
          "height": 696
        },
        "id": "8mYjVyIF9h4_",
        "outputId": "73c4cedd-803b-4b81-fa10-3c0943f7747f"
      },
      "source": [
        "!pip install pyLDAvis==2.1.2"
      ],
      "execution_count": null,
      "outputs": [
        {
          "output_type": "stream",
          "text": [
            "Collecting pyLDAvis==2.1.2\n",
            "\u001b[?25l  Downloading https://files.pythonhosted.org/packages/a5/3a/af82e070a8a96e13217c8f362f9a73e82d61ac8fff3a2561946a97f96266/pyLDAvis-2.1.2.tar.gz (1.6MB)\n",
            "\u001b[K     |████████████████████████████████| 1.6MB 5.1MB/s \n",
            "\u001b[?25hRequirement already satisfied: wheel>=0.23.0 in /usr/local/lib/python3.7/dist-packages (from pyLDAvis==2.1.2) (0.36.2)\n",
            "Requirement already satisfied: numpy>=1.9.2 in /usr/local/lib/python3.7/dist-packages (from pyLDAvis==2.1.2) (1.20.3)\n",
            "Requirement already satisfied: scipy>=0.18.0 in /usr/local/lib/python3.7/dist-packages (from pyLDAvis==2.1.2) (1.4.1)\n",
            "Requirement already satisfied: pandas>=0.17.0 in /usr/local/lib/python3.7/dist-packages (from pyLDAvis==2.1.2) (1.2.4)\n",
            "Requirement already satisfied: joblib>=0.8.4 in /usr/local/lib/python3.7/dist-packages (from pyLDAvis==2.1.2) (1.0.1)\n",
            "Requirement already satisfied: jinja2>=2.7.2 in /usr/local/lib/python3.7/dist-packages (from pyLDAvis==2.1.2) (2.11.3)\n",
            "Requirement already satisfied: numexpr in /usr/local/lib/python3.7/dist-packages (from pyLDAvis==2.1.2) (2.7.3)\n",
            "Requirement already satisfied: pytest in /usr/local/lib/python3.7/dist-packages (from pyLDAvis==2.1.2) (3.6.4)\n",
            "Requirement already satisfied: future in /usr/local/lib/python3.7/dist-packages (from pyLDAvis==2.1.2) (0.16.0)\n",
            "Requirement already satisfied: funcy in /usr/local/lib/python3.7/dist-packages (from pyLDAvis==2.1.2) (1.16)\n",
            "Requirement already satisfied: python-dateutil>=2.7.3 in /usr/local/lib/python3.7/dist-packages (from pandas>=0.17.0->pyLDAvis==2.1.2) (2.8.1)\n",
            "Requirement already satisfied: pytz>=2017.3 in /usr/local/lib/python3.7/dist-packages (from pandas>=0.17.0->pyLDAvis==2.1.2) (2018.9)\n",
            "Requirement already satisfied: MarkupSafe>=0.23 in /usr/local/lib/python3.7/dist-packages (from jinja2>=2.7.2->pyLDAvis==2.1.2) (2.0.1)\n",
            "Requirement already satisfied: six>=1.10.0 in /usr/local/lib/python3.7/dist-packages (from pytest->pyLDAvis==2.1.2) (1.15.0)\n",
            "Requirement already satisfied: py>=1.5.0 in /usr/local/lib/python3.7/dist-packages (from pytest->pyLDAvis==2.1.2) (1.10.0)\n",
            "Requirement already satisfied: pluggy<0.8,>=0.5 in /usr/local/lib/python3.7/dist-packages (from pytest->pyLDAvis==2.1.2) (0.7.1)\n",
            "Requirement already satisfied: atomicwrites>=1.0 in /usr/local/lib/python3.7/dist-packages (from pytest->pyLDAvis==2.1.2) (1.4.0)\n",
            "Requirement already satisfied: attrs>=17.4.0 in /usr/local/lib/python3.7/dist-packages (from pytest->pyLDAvis==2.1.2) (21.2.0)\n",
            "Requirement already satisfied: more-itertools>=4.0.0 in /usr/local/lib/python3.7/dist-packages (from pytest->pyLDAvis==2.1.2) (8.7.0)\n",
            "Requirement already satisfied: setuptools in /usr/local/lib/python3.7/dist-packages (from pytest->pyLDAvis==2.1.2) (57.0.0)\n",
            "Building wheels for collected packages: pyLDAvis\n",
            "  Building wheel for pyLDAvis (setup.py) ... \u001b[?25l\u001b[?25hdone\n",
            "  Created wheel for pyLDAvis: filename=pyLDAvis-2.1.2-py2.py3-none-any.whl size=97738 sha256=d309c5cc9626a2e1d29e2187d8bad9f5758553ba100a22d044176e72485c3a82\n",
            "  Stored in directory: /root/.cache/pip/wheels/98/71/24/513a99e58bb6b8465bae4d2d5e9dba8f0bef8179e3051ac414\n",
            "Successfully built pyLDAvis\n",
            "Installing collected packages: pyLDAvis\n",
            "  Found existing installation: pyLDAvis 3.3.1\n",
            "    Uninstalling pyLDAvis-3.3.1:\n",
            "      Successfully uninstalled pyLDAvis-3.3.1\n",
            "Successfully installed pyLDAvis-2.1.2\n"
          ],
          "name": "stdout"
        },
        {
          "output_type": "display_data",
          "data": {
            "application/vnd.colab-display-data+json": {
              "pip_warning": {
                "packages": [
                  "pyLDAvis"
                ]
              }
            }
          },
          "metadata": {
            "tags": []
          }
        }
      ]
    },
    {
      "cell_type": "code",
      "metadata": {
        "id": "nmwJvS778wJh"
      },
      "source": [
        "# visualizing the topics\n",
        "import pyLDAvis.gensim"
      ],
      "execution_count": null,
      "outputs": []
    },
    {
      "cell_type": "code",
      "metadata": {
        "id": "OGailJwG_Qys"
      },
      "source": [
        "lda_display = pyLDAvis.gensim.prepare(ldamodel, corpus, dictionary, sort_topics=False)"
      ],
      "execution_count": null,
      "outputs": []
    },
    {
      "cell_type": "code",
      "metadata": {
        "colab": {
          "base_uri": "https://localhost:8080/",
          "height": 881
        },
        "id": "msRItuWq8v_6",
        "outputId": "942225c7-1b1c-4a5c-d50c-eeb1a85a3f49"
      },
      "source": [
        "pyLDAvis.display(lda_display)"
      ],
      "execution_count": null,
      "outputs": [
        {
          "output_type": "execute_result",
          "data": {
            "text/html": [
              "\n",
              "<link rel=\"stylesheet\" type=\"text/css\" href=\"https://cdn.rawgit.com/bmabey/pyLDAvis/files/ldavis.v1.0.0.css\">\n",
              "\n",
              "\n",
              "<div id=\"ldavis_el4251397371138455847786030358\"></div>\n",
              "<script type=\"text/javascript\">\n",
              "\n",
              "var ldavis_el4251397371138455847786030358_data = {\"mdsDat\": {\"x\": [-0.07460694744043667, -0.05678200662576457, -0.11681277869717535, 0.32138193855780706, -0.07318020579443064], \"y\": [-0.23856310138120798, 0.0441172403768988, 0.10116562600506974, 0.00849119813814143, 0.08478903686109825], \"topics\": [1, 2, 3, 4, 5], \"cluster\": [1, 1, 1, 1, 1], \"Freq\": [4.032770346661339, 70.09392113059562, 5.076673599757412, 3.379148325231836, 17.417486597753797]}, \"tinfo\": {\"Term\": [\"enron\", \"money\", \"hou\", \"td\", \"net\", \"image\", \"e\", \"development\", \"tr\", \"market\", \"message\", \"please\", \"width\", \"pm\", \"corp\", \"time\", \"gas\", \"class\", \"original\", \"mail\", \"would\", \"right\", \"thanks\", \"energy\", \"day\", \"power\", \"service\", \"know\", \"table\", \"height\", \"wj\", \"wscc\", \"ctr\", \"syncrasy\", \"ecar\", \"npcc\", \"std\", \"frcc\", \"eei\", \"sw\", \"epe\", \"enform\", \"rk\", \"mapp\", \"tagline\", \"enlarge\", \"agave\", \"raquel\", \"serc\", \"classmate\", \"maac\", \"shipping\", \"nc\", \"gift\", \"reliantenergy\", \"deviation\", \"sp\", \"mage\", \"min\", \"hp\", \"amazon\", \"matrix\", \"nw\", \"ne\", \"image\", \"temp\", \"delta\", \"se\", \"volatility\", \"range\", \"reg\", \"mail\", \"intended\", \"e\", \"recipient\", \"click\", \"message\", \"standard\", \"enron\", \"doc\", \"day\", \"original\", \"please\", \"see\", \"email\", \"energy\", \"bakernet\", \"alert\", \"investor\", \"court\", \"retirement\", \"worker\", \"declared\", \"reported\", \"donate\", \"largest\", \"mr\", \"income\", \"sec\", \"former\", \"sold\", \"crisis\", \"thousand\", \"profit\", \"earnings\", \"percent\", \"hurt\", \"aggressively\", \"federal\", \"nytimes\", \"scientech\", \"shareholder\", \"devastated\", \"loss\", \"relief\", \"afford\", \"million\", \"said\", \"security\", \"share\", \"lay\", \"lost\", \"president\", \"company\", \"buying\", \"stock\", \"government\", \"chairman\", \"partnership\", \"york\", \"california\", \"business\", \"year\", \"board\", \"industry\", \"executive\", \"employee\", \"energy\", \"fund\", \"state\", \"new\", \"consumer\", \"firm\", \"mailto\", \"one\", \"say\", \"made\", \"well\", \"plan\", \"last\", \"time\", \"market\", \"enron\", \"would\", \"power\", \"may\", \"e\", \"u\", \"price\", \"also\", \"day\", \"please\", \"euci\", \"darrell\", \"schoolcraft\", \"simulation\", \"whitt\", \"sfs\", \"exotica\", \"hanagriff\", \"brochure\", \"kowalke\", \"dynergy\", \"ubswenergy\", \"veggie\", \"vegetarian\", \"permian\", \"blah\", \"pampa\", \"krishna\", \"wyndham\", \"headcount\", \"dietz\", \"lindberg\", \"asarco\", \"bwoertz\", \"ssb\", \"alicia\", \"graf\", \"filet\", \"strick\", \"mawhitt\", \"emailed\", \"devon\", \"barbo\", \"lorraine\", \"lynn\", \"blair\", \"socal\", \"addin\", \"laurel\", \"jerry\", \"overview\", \"original\", \"savita\", \"buchanan\", \"tw\", \"fw\", \"desk\", \"pseg\", \"message\", \"january\", \"conference\", \"team\", \"watson\", \"amy\", \"pdf\", \"kimberly\", \"settlement\", \"michelle\", \"thanks\", \"gas\", \"market\", \"know\", \"file\", \"john\", \"november\", \"monday\", \"like\", \"service\", \"please\", \"would\", \"system\", \"pm\", \"time\", \"power\", \"thursday\", \"let\", \"product\", \"group\", \"also\", \"day\", \"script\", \"bodydefault\", \"scoop\", \"hourahead\", \"stocklookup\", \"coords\", \"rect\", \"linkbarseperator\", \"width\", \"img\", \"height\", \"colspan\", \"underscore\", \"src\", \"href\", \"ffffff\", \"cellpadding\", \"detected\", \"cellspacing\", \"westdesk\", \"doubleclick\", \"parsing\", \"backout\", \"pt\", \"athoc\", \"topbar\", \"tile\", \"mainheadline\", \"ord\", \"sz\", \"tr\", \"td\", \"br\", \"gif\", \"valign\", \"align\", \"bgcolor\", \"nbsp\", \"table\", \"class\", \"border\", \"net\", \"money\", \"outage\", \"clear\", \"center\", \"image\", \"start\", \"thru\", \"fri\", \"wrap\", \"scheduled\", \"right\", \"schedule\", \"f\", \"end\", \"aaaaaaaaaaaaaaaaaaaaaaaaaaaaaaaaaaaaaaaaaaaaaaaaaaaaaaaaaaaaaaaaaaaaaaaaaaaa\", \"fran\", \"breese\", \"kern\", \"bradford\", \"fagan\", \"columbiahouse\", \"royalty\", \"srrs\", \"hannon\", \"nella\", \"itcapps\", \"emaillink\", \"pv\", \"passcode\", \"abel\", \"fuehne\", \"fortine\", \"deana\", \"olc\", \"mtfdnj\", \"gjm\", \"memid\", \"brackett\", \"tk\", \"rohauer\", \"cogen\", \"brenda\", \"franklin\", \"debbie\", \"enronxgate\", \"mckay\", \"hou\", \"pep\", \"tyrell\", \"commoditylogic\", \"na\", \"development\", \"harrison\", \"pdx\", \"ee\", \"kate\", \"citygate\", \"forwarded\", \"corp\", \"whalley\", \"enron\", \"pm\", \"request\", \"cn\", \"attached\", \"thanks\", \"communication\", \"credit\", \"kim\", \"river\", \"feedback\", \"please\", \"kay\", \"mark\", \"greg\", \"font\", \"know\", \"let\", \"agreement\", \"question\", \"review\", \"process\", \"message\", \"john\", \"thank\", \"deal\", \"original\", \"e\", \"call\"], \"Freq\": [11193.0, 792.0, 1521.0, 729.0, 811.0, 819.0, 1643.0, 1044.0, 471.0, 1137.0, 920.0, 1615.0, 412.0, 1232.0, 1251.0, 1339.0, 893.0, 373.0, 624.0, 636.0, 1284.0, 557.0, 764.0, 1606.0, 872.0, 914.0, 823.0, 773.0, 277.0, 261.0, 98.02901490994174, 119.33355335144701, 73.06726344564116, 73.06726344564116, 40.61749267624378, 40.61749267624378, 40.61749267624378, 36.56127443645736, 24.734844298601278, 83.17270064502598, 20.4971757079438, 20.490175979737902, 81.19235742189875, 40.60641736664462, 20.361828300658434, 40.79466035317111, 16.33192324033477, 16.427057416169816, 36.53699076398921, 37.29001241230728, 36.56042949885144, 38.4471668891661, 79.34760183341542, 51.61241308915355, 25.439632020989308, 39.59590098292281, 127.41802405300433, 12.460105384800867, 41.012322907417406, 82.80814320288009, 74.18186868708037, 77.37209629226717, 82.18812467417607, 127.7111925511521, 542.8126034742534, 36.732722217140704, 46.63795890613488, 132.90795644524962, 69.3441452895842, 78.34963940010311, 44.61093288028063, 150.7489962356695, 66.75193055868844, 211.14571616588665, 62.895361963108414, 91.34056337480668, 101.01290378154197, 58.21719095019658, 143.89237726585054, 57.37444852531277, 74.55702926781034, 64.17109349251552, 73.82525531517052, 62.676767492385004, 60.302981558172284, 60.74982929617305, 1095.2329450390368, 351.50086443059047, 398.8893424816765, 273.31260406204245, 353.841758751104, 255.10028499115776, 296.1730385163222, 274.3538114237661, 293.2597528084604, 266.6321788986782, 718.1020342120324, 203.2235990361317, 197.4322486600585, 189.85662957119112, 224.87843728036563, 222.08010138356514, 186.20737351359872, 306.8665384989203, 224.63622739195748, 189.79792183928538, 165.42118293350651, 151.25546795976504, 195.27958982942909, 142.47838307914503, 153.91864289193893, 151.928969107336, 146.47220960920868, 184.80607286555687, 164.35252943715497, 149.29275437822614, 1095.2418717818402, 1226.166449039426, 381.6882289978107, 544.9641860538691, 535.5099375414834, 242.285873706772, 325.19717290688294, 2781.33693084722, 228.7728188157496, 1394.9836816908003, 280.91604723230967, 254.67014556977605, 252.25855720544715, 472.9419292971642, 718.8506567798898, 893.2640932907665, 1123.9415658649011, 376.2860738094939, 360.6760442455725, 384.8602102723227, 1368.536478378553, 1472.9514371141277, 707.1645425919585, 686.7927796460151, 1424.2344581622588, 524.6897893953598, 440.7329454443807, 710.1141831797864, 873.2078619069848, 525.7421011931918, 712.7160407475818, 523.761768093095, 644.8814342238096, 639.1137505146451, 1056.4996640346249, 913.0599373461571, 5626.09001848989, 990.89919086703, 750.4558616657899, 841.0570458621471, 1118.399354401388, 743.7136512039486, 655.2115473839342, 669.6599125506798, 640.3305951405221, 690.9331325400611, 42.10409830281329, 53.925340649483786, 47.99208554403669, 50.45662928895639, 29.983074973941278, 47.67077338868247, 41.74464580804461, 35.7734146038791, 31.091089635361385, 24.390126590695544, 18.080815038208364, 18.879344177886946, 17.90838316332448, 17.90838316332448, 18.593017897785092, 17.905202629210628, 17.93992259095511, 24.298454212351725, 18.25673637613437, 18.28199164189497, 18.834758042901587, 30.54914487132739, 12.017135874634382, 12.008882127909422, 12.172584479448854, 12.121907100236434, 18.161084419655474, 11.965964469836246, 11.965964469836246, 11.965964469836246, 18.123829155103024, 75.50945666020526, 35.03341120238814, 29.871443440535455, 69.95231796268729, 44.5823131304322, 19.60555527140305, 23.81955701963689, 35.95670461366806, 31.593942506741943, 32.33874538635061, 262.9192592127473, 30.157751471671084, 24.32059281538027, 33.68496119693676, 74.05561887479288, 101.54506907263412, 33.75239373414075, 281.82343632317645, 118.08824707251566, 128.35688822855317, 149.47624999538573, 59.456784802554125, 47.75392610679345, 64.33564592334643, 52.58279027411409, 53.89985987864052, 48.812480855748, 146.2344514949154, 152.54101266749265, 169.2657000994584, 127.52960523558875, 75.88901430176576, 94.7703958463822, 75.7719862883471, 79.11781432429213, 102.0177590098366, 110.74735535015262, 134.18915355489997, 121.71448350951464, 86.05010647884195, 115.88894423072009, 117.86976002086513, 100.58254559795647, 76.96981714754621, 84.84097690255312, 73.0112253236305, 77.03225989598471, 79.241657023099, 77.27647277602496, 203.66051800084801, 105.2419340478995, 125.32076317564162, 32.391710400919806, 42.90769734448427, 42.90262687174028, 42.90262687174028, 35.115921660925494, 395.5485158070718, 197.28589606736654, 249.17714883486266, 44.866562216850454, 23.428247723938984, 209.49853746082852, 177.88129058094893, 27.774808970153718, 86.71125455916145, 15.978319425764687, 86.76687358462017, 15.26865453347398, 15.743880339981441, 15.267939600287626, 20.24218441972493, 41.824157101225296, 15.74652142811161, 15.636468569830761, 15.636468569830761, 15.636468569830761, 15.636468569830761, 15.740992842840441, 437.6613844463531, 670.4801123387725, 223.10300800504345, 190.94428600023747, 54.462194152215794, 200.1861509481381, 48.46680262750136, 145.96797806873235, 240.11049110531087, 282.51269251099944, 145.27542298522184, 493.5006370908698, 460.59285945753476, 83.47843774805439, 146.25125819690174, 120.22036041320855, 190.68284256919688, 95.0885015230029, 60.685673657223056, 57.77122769975734, 54.91605525631942, 67.0190724043574, 94.77481938166625, 69.74444629842829, 80.27958373384855, 76.40114754997002, 239.67487050416602, 87.65320583037403, 105.9608152849954, 108.49779508754416, 121.64191247070721, 63.38161160617979, 73.42296839837056, 63.28717318998892, 47.750070327548116, 47.70989699361609, 62.923274249540405, 45.054257604156675, 45.054257604156675, 69.06538480008986, 43.96767245159488, 42.89155213276357, 42.286487968490235, 42.286487968490235, 42.286487968490235, 37.98421593584143, 37.971228808852835, 38.49223889194478, 37.94615345726017, 53.947335918438625, 38.43040245776042, 35.65214339153208, 28.828170660796147, 32.02587502104115, 26.613585999791727, 59.0383791409936, 326.3638537100551, 43.70861862310256, 1416.0057037058014, 106.84298287987058, 105.33790723756624, 83.19997186293625, 387.9017986369354, 884.5224507935935, 108.86360810869209, 97.04563559964676, 266.61747042922906, 76.17422237977773, 53.734103750802085, 403.0579547186796, 830.7756371891752, 171.01799435241423, 5374.920065982517, 780.0330358526159, 373.3841941874021, 67.82664812052869, 232.3840297884399, 467.300227344773, 247.1574770619277, 315.0307786634292, 183.1098324546166, 108.40632170757692, 127.32411146740654, 691.3901340247104, 130.77204162974047, 308.5764269905598, 179.70480811057766, 140.0406196445978, 282.42913654040893, 227.83422418870467, 207.77115229224805, 249.91774242793613, 176.59793314053184, 172.46672089001598, 241.9986896934969, 183.69047867351878, 160.40017727481347, 192.16694032939714, 194.0449576018094, 247.33289271929715, 186.4262187625281], \"Total\": [11193.0, 792.0, 1521.0, 729.0, 811.0, 819.0, 1643.0, 1044.0, 471.0, 1137.0, 920.0, 1615.0, 412.0, 1232.0, 1251.0, 1339.0, 893.0, 373.0, 624.0, 636.0, 1284.0, 557.0, 764.0, 1606.0, 872.0, 914.0, 823.0, 773.0, 277.0, 261.0, 98.95815820106984, 121.20409767731006, 74.44060612048385, 74.44060612048385, 41.78859412289146, 41.78859412289146, 41.78859412289146, 37.70709590929597, 25.73717169502168, 86.8531050524319, 21.450289451248384, 21.459569215470367, 85.1277310387985, 42.60692993894058, 21.440553977708262, 43.00633369757536, 17.250831518479963, 17.355501572321646, 38.667160633993305, 39.55141266411104, 38.801920270132044, 40.995445286000226, 84.69651306026209, 55.35180281596556, 27.291284659338437, 42.51718894040238, 136.88187220717273, 13.40973751438727, 44.39207729316871, 89.70823563769093, 84.01182554192319, 89.9843336000914, 96.90046954559624, 157.6399163943953, 819.2869445810272, 41.23462071293507, 55.57161145243291, 205.5479965173351, 101.41245611977688, 124.21043900345826, 56.56854497470764, 636.0830515163982, 130.31961991061038, 1643.5206959563488, 118.7022594695016, 359.38541594776024, 920.661926409116, 187.39959116275045, 11193.464080428428, 214.77180075729245, 872.294677763473, 624.1520600150892, 1615.3562816201754, 745.4651770687082, 564.2602863823313, 1606.1059831739194, 1096.5161568531764, 352.3430995105792, 399.8883213221222, 274.03108207573774, 354.7942088337925, 255.7882604395654, 297.00007845071013, 275.1212598626484, 294.1354460453837, 267.45029371548986, 720.4351510207142, 203.89835020352865, 198.1106063482253, 190.5133161639129, 225.6841387606417, 222.88151378299818, 186.89628876110658, 308.0020058160892, 225.46825122492695, 190.50722527446646, 166.0734339138814, 151.85978289100007, 196.0776523614046, 143.06753868391536, 154.56013110321845, 152.58284023366687, 147.10960231517657, 185.6122948936472, 165.07597594265442, 149.95095348507277, 1101.6469555069027, 1245.2949913210261, 384.21900783357046, 550.7792395192278, 541.5110483546626, 243.37481513129342, 327.94521401524696, 2866.981035675601, 230.05277561034964, 1436.2544625748951, 283.2255956742316, 256.7088674791138, 254.23451646585013, 482.80333520791476, 743.8179581758914, 934.2749104718235, 1195.143216898898, 384.35557923519707, 368.6493362514519, 394.650141261015, 1481.0867138923415, 1606.1059831739194, 743.8364569349988, 722.048902474482, 1584.6385995971586, 548.3762741745458, 458.4137082713676, 770.6159264026068, 979.8701709050786, 560.1276118274943, 795.9145629548973, 562.5393011196402, 724.2881645500294, 718.0865972724662, 1339.801920832393, 1137.7736464917791, 11193.464080428428, 1284.3521297795348, 914.4306898446755, 1070.470980923503, 1643.5206959563488, 927.5513569536629, 792.0629062025214, 854.8465491492584, 872.294677763473, 1615.3562816201754, 43.34762777792839, 55.5479817712953, 49.46736410228711, 52.04726627432249, 30.956582545324792, 49.251201360875434, 43.187185132370544, 37.181509857903144, 32.37165050283702, 25.437035409291525, 19.03867313882928, 19.879928598863078, 18.86376729859403, 18.86376729859403, 19.58656590886756, 18.911650109164587, 18.95629538108598, 25.729334843227747, 19.351032890755523, 19.41416268290562, 20.029418139577547, 32.5373600291853, 12.916729064354566, 12.914032550737959, 13.091728381138159, 13.055024237811452, 19.568656940691014, 12.900440349601622, 12.900440349601622, 12.900440349601622, 19.66556393734667, 85.3132467367846, 39.60550321531811, 33.586184629302586, 83.47029234391614, 52.528573387616554, 21.954105134731652, 27.153525340451615, 43.11845283285949, 38.092530345728214, 39.36849495810075, 624.1520600150892, 37.317083760242625, 28.314373746255505, 44.5299594671597, 132.1015798025664, 205.47155860377703, 45.198573640839975, 920.661926409116, 266.1522046732304, 301.036574697714, 374.9337442593708, 100.9610804157877, 74.26235777813785, 118.2249465869226, 86.95717363322628, 96.35878368965987, 87.93105497332107, 764.0270192867473, 893.1049415932359, 1137.7736464917791, 773.1183520663242, 252.48256260580612, 441.7187023604955, 257.09966150286755, 303.8479638772761, 627.1025849881358, 823.135288548436, 1615.3562816201754, 1284.3521297795348, 422.7185723396415, 1232.973073757609, 1339.801920832393, 914.4306898446755, 335.9318545212766, 522.9206743604435, 372.5102911203274, 609.3204818327105, 854.8465491492584, 872.294677763473, 207.53421879105335, 107.6497237937792, 128.9813581737812, 33.43102576891823, 44.43417128376827, 44.45977924915205, 44.45977924915205, 36.532231290508875, 412.2154052001106, 206.89450276340625, 261.4797460716661, 47.22182014847853, 24.679310885765116, 220.85104531386497, 187.96961724193355, 29.376677169886687, 91.93049684980014, 16.954289411201607, 92.22645659343988, 16.270921177600542, 16.779739580774717, 16.275883814169894, 21.600953629027927, 44.648505190240385, 16.837057618602696, 16.77736774853873, 16.77736774853873, 16.77736774853873, 16.77736774853873, 16.92030927098344, 471.8679853569399, 729.5119814259368, 241.8490898790746, 207.60319216049567, 59.15106630875353, 223.03695999751173, 53.048113749564756, 165.59475502853618, 277.5178870988875, 373.24493521979997, 191.95921424123452, 811.777313159875, 792.1107527771263, 116.79957229357794, 263.6283881648522, 298.29982784693084, 819.2869445810272, 237.2031720548423, 93.52006343105424, 87.72158852762621, 78.11849802817666, 147.88501542759377, 557.1805968647254, 202.29407556899778, 426.1267339162151, 378.4268174726441, 240.6510887257782, 88.35113052885697, 106.8329125324947, 109.46086103010694, 122.89173460190945, 64.0718324658997, 74.25055562356103, 64.14875600352411, 48.44202613112176, 48.43153313516157, 63.875618314914156, 45.74335722645384, 45.7433573055463, 70.13046821721694, 44.66157094282623, 43.58155722352333, 43.09027404265267, 43.09027404265267, 43.09027404265267, 38.72529973606014, 38.712513721172705, 39.25585817555674, 38.69996318548767, 55.07648265178047, 39.23796235057025, 36.43672264662081, 29.536469204141294, 32.861367137850806, 27.328935043320048, 60.63144817086804, 336.34028380420085, 44.928182933579585, 1521.5213614373736, 110.93007418366767, 110.13056722473823, 86.9816464679619, 436.04998761441124, 1044.8182262183705, 116.55486950675153, 104.35255602164297, 307.2131394337208, 81.51436910931395, 55.840366954558405, 505.8643691852437, 1251.0370111202576, 209.13501529003895, 11193.464080428428, 1232.973073757609, 544.5433667515947, 73.25358931494206, 319.8775337255487, 764.0270192867473, 369.3975790955573, 514.8856537669151, 258.674393243693, 130.29478100653085, 162.95964736644424, 1615.3562816201754, 171.6913430296785, 607.2806727992247, 305.2302745456949, 203.32270140870088, 773.1183520663242, 522.9206743604435, 454.1100397806146, 722.6441508763796, 366.8902784719978, 352.72154776433945, 920.661926409116, 441.7187023604955, 303.1021723950105, 570.2583283728036, 624.1520600150892, 1643.5206959563488, 647.2079193921182], \"Category\": [\"Default\", \"Default\", \"Default\", \"Default\", \"Default\", \"Default\", \"Default\", \"Default\", \"Default\", \"Default\", \"Default\", \"Default\", \"Default\", \"Default\", \"Default\", \"Default\", \"Default\", \"Default\", \"Default\", \"Default\", \"Default\", \"Default\", \"Default\", \"Default\", \"Default\", \"Default\", \"Default\", \"Default\", \"Default\", \"Default\", \"Topic1\", \"Topic1\", \"Topic1\", \"Topic1\", \"Topic1\", \"Topic1\", \"Topic1\", \"Topic1\", \"Topic1\", \"Topic1\", \"Topic1\", \"Topic1\", \"Topic1\", \"Topic1\", \"Topic1\", \"Topic1\", \"Topic1\", \"Topic1\", \"Topic1\", \"Topic1\", \"Topic1\", \"Topic1\", \"Topic1\", \"Topic1\", \"Topic1\", \"Topic1\", \"Topic1\", \"Topic1\", \"Topic1\", \"Topic1\", \"Topic1\", \"Topic1\", \"Topic1\", \"Topic1\", \"Topic1\", \"Topic1\", \"Topic1\", \"Topic1\", \"Topic1\", \"Topic1\", \"Topic1\", \"Topic1\", \"Topic1\", \"Topic1\", \"Topic1\", \"Topic1\", \"Topic1\", \"Topic1\", \"Topic1\", \"Topic1\", \"Topic1\", \"Topic1\", \"Topic1\", \"Topic1\", \"Topic1\", \"Topic1\", \"Topic2\", \"Topic2\", \"Topic2\", \"Topic2\", \"Topic2\", \"Topic2\", \"Topic2\", \"Topic2\", \"Topic2\", \"Topic2\", \"Topic2\", \"Topic2\", \"Topic2\", \"Topic2\", \"Topic2\", \"Topic2\", \"Topic2\", \"Topic2\", \"Topic2\", \"Topic2\", \"Topic2\", \"Topic2\", \"Topic2\", \"Topic2\", \"Topic2\", \"Topic2\", \"Topic2\", \"Topic2\", \"Topic2\", \"Topic2\", \"Topic2\", \"Topic2\", \"Topic2\", \"Topic2\", \"Topic2\", \"Topic2\", \"Topic2\", \"Topic2\", \"Topic2\", \"Topic2\", \"Topic2\", \"Topic2\", \"Topic2\", \"Topic2\", \"Topic2\", \"Topic2\", \"Topic2\", \"Topic2\", \"Topic2\", \"Topic2\", \"Topic2\", \"Topic2\", \"Topic2\", \"Topic2\", \"Topic2\", \"Topic2\", \"Topic2\", \"Topic2\", \"Topic2\", \"Topic2\", \"Topic2\", \"Topic2\", \"Topic2\", \"Topic2\", \"Topic2\", \"Topic2\", \"Topic2\", \"Topic2\", \"Topic2\", \"Topic2\", \"Topic2\", \"Topic2\", \"Topic2\", \"Topic2\", \"Topic2\", \"Topic2\", \"Topic3\", \"Topic3\", \"Topic3\", \"Topic3\", \"Topic3\", \"Topic3\", \"Topic3\", \"Topic3\", \"Topic3\", \"Topic3\", \"Topic3\", \"Topic3\", \"Topic3\", \"Topic3\", \"Topic3\", \"Topic3\", \"Topic3\", \"Topic3\", \"Topic3\", \"Topic3\", \"Topic3\", \"Topic3\", \"Topic3\", \"Topic3\", \"Topic3\", \"Topic3\", \"Topic3\", \"Topic3\", \"Topic3\", \"Topic3\", \"Topic3\", \"Topic3\", \"Topic3\", \"Topic3\", \"Topic3\", \"Topic3\", \"Topic3\", \"Topic3\", \"Topic3\", \"Topic3\", \"Topic3\", \"Topic3\", \"Topic3\", \"Topic3\", \"Topic3\", \"Topic3\", \"Topic3\", \"Topic3\", \"Topic3\", \"Topic3\", \"Topic3\", \"Topic3\", \"Topic3\", \"Topic3\", \"Topic3\", \"Topic3\", \"Topic3\", \"Topic3\", \"Topic3\", \"Topic3\", \"Topic3\", \"Topic3\", \"Topic3\", \"Topic3\", \"Topic3\", \"Topic3\", \"Topic3\", \"Topic3\", \"Topic3\", \"Topic3\", \"Topic3\", \"Topic3\", \"Topic3\", \"Topic3\", \"Topic3\", \"Topic3\", \"Topic3\", \"Topic3\", \"Topic3\", \"Topic3\", \"Topic4\", \"Topic4\", \"Topic4\", \"Topic4\", \"Topic4\", \"Topic4\", \"Topic4\", \"Topic4\", \"Topic4\", \"Topic4\", \"Topic4\", \"Topic4\", \"Topic4\", \"Topic4\", \"Topic4\", \"Topic4\", \"Topic4\", \"Topic4\", \"Topic4\", \"Topic4\", \"Topic4\", \"Topic4\", \"Topic4\", \"Topic4\", \"Topic4\", \"Topic4\", \"Topic4\", \"Topic4\", \"Topic4\", \"Topic4\", \"Topic4\", \"Topic4\", \"Topic4\", \"Topic4\", \"Topic4\", \"Topic4\", \"Topic4\", \"Topic4\", \"Topic4\", \"Topic4\", \"Topic4\", \"Topic4\", \"Topic4\", \"Topic4\", \"Topic4\", \"Topic4\", \"Topic4\", \"Topic4\", \"Topic4\", \"Topic4\", \"Topic4\", \"Topic4\", \"Topic4\", \"Topic4\", \"Topic4\", \"Topic4\", \"Topic5\", \"Topic5\", \"Topic5\", \"Topic5\", \"Topic5\", \"Topic5\", \"Topic5\", \"Topic5\", \"Topic5\", \"Topic5\", \"Topic5\", \"Topic5\", \"Topic5\", \"Topic5\", \"Topic5\", \"Topic5\", \"Topic5\", \"Topic5\", \"Topic5\", \"Topic5\", \"Topic5\", \"Topic5\", \"Topic5\", \"Topic5\", \"Topic5\", \"Topic5\", \"Topic5\", \"Topic5\", \"Topic5\", \"Topic5\", \"Topic5\", \"Topic5\", \"Topic5\", \"Topic5\", \"Topic5\", \"Topic5\", \"Topic5\", \"Topic5\", \"Topic5\", \"Topic5\", \"Topic5\", \"Topic5\", \"Topic5\", \"Topic5\", \"Topic5\", \"Topic5\", \"Topic5\", \"Topic5\", \"Topic5\", \"Topic5\", \"Topic5\", \"Topic5\", \"Topic5\", \"Topic5\", \"Topic5\", \"Topic5\", \"Topic5\", \"Topic5\", \"Topic5\", \"Topic5\", \"Topic5\", \"Topic5\", \"Topic5\", \"Topic5\", \"Topic5\", \"Topic5\", \"Topic5\", \"Topic5\", \"Topic5\", \"Topic5\", \"Topic5\", \"Topic5\", \"Topic5\", \"Topic5\", \"Topic5\"], \"logprob\": [30.0, 29.0, 28.0, 27.0, 26.0, 25.0, 24.0, 23.0, 22.0, 21.0, 20.0, 19.0, 18.0, 17.0, 16.0, 15.0, 14.0, 13.0, 12.0, 11.0, 10.0, 9.0, 8.0, 7.0, 6.0, 5.0, 4.0, 3.0, 2.0, 1.0, -5.201099872589111, -5.00439977645874, -5.494999885559082, -5.494999885559082, -6.082099914550781, -6.082099914550781, -6.082099914550781, -6.187399864196777, -6.578100204467773, -5.3653998374938965, -6.76609992980957, -6.76639986038208, -5.389500141143799, -6.082399845123291, -6.77269983291626, -6.0777997970581055, -6.993199825286865, -6.987400054931641, -6.188000202178955, -6.167600154876709, -6.187399864196777, -6.1371002197265625, -5.412499904632568, -5.842599868774414, -6.550000190734863, -6.107600212097168, -4.938899993896484, -7.263800144195557, -6.072500228881836, -5.369800090789795, -5.479800224304199, -5.437699794769287, -5.377299785614014, -4.936600208282471, -3.4895999431610107, -6.182700157165527, -5.943900108337402, -4.896699905395508, -5.547299861907959, -5.42519998550415, -5.988399982452393, -4.770699977874756, -5.585400104522705, -4.433800220489502, -5.644899845123291, -5.271699905395508, -5.17110013961792, -5.7221999168396, -4.817299842834473, -5.736700057983398, -5.474800109863281, -5.624800205230713, -5.484600067138672, -5.648399829864502, -5.686999797821045, -5.679599761962891, -5.64300012588501, -6.7795000076293945, -6.6529998779296875, -7.031099796295166, -6.772900104522705, -7.100100040435791, -6.950799942016602, -7.027299880981445, -6.960700035095215, -7.0559000968933105, -6.065100193023682, -7.327400207519531, -7.356299877166748, -7.395500183105469, -7.226200103759766, -7.238699913024902, -7.414899826049805, -6.915299892425537, -7.227200031280518, -7.3958001136779785, -7.533199787139893, -7.622799873352051, -7.367300033569336, -7.682499885559082, -7.605299949645996, -7.618299961090088, -7.654900074005127, -7.422399997711182, -7.539700031280518, -7.635799884796143, -5.64300012588501, -5.530099868774414, -6.6971001625061035, -6.341000080108643, -6.358500003814697, -7.151599884033203, -6.8572998046875, -4.710999965667725, -7.209000110626221, -5.401100158691406, -7.003699779510498, -7.101799964904785, -7.111299991607666, -6.482800006866455, -6.0640997886657715, -5.846799850463867, -5.617099761962891, -6.711400032043457, -6.753699779510498, -6.688799858093262, -5.420199871063232, -5.346700191497803, -6.08050012588501, -6.1097002029418945, -5.380300045013428, -6.378900051116943, -6.553299903869629, -6.076300144195557, -5.86959981918335, -6.3769001960754395, -6.0725998878479, -6.38070011138916, -6.172699928283691, -6.181600093841553, -5.678999900817871, -5.824900150299072, -4.0065999031066895, -5.743100166320801, -6.020999908447266, -5.907100200653076, -5.622099876403809, -6.030099868774414, -6.156799793243408, -6.135000228881836, -6.179699897766113, -6.103700160980225, -6.276400089263916, -6.028900146484375, -6.145500183105469, -6.095399856567383, -6.615900039672852, -6.152200222015381, -6.284999847412109, -6.439300060272217, -6.579599857330322, -6.822400093078613, -7.121699810028076, -7.078499794006348, -7.13129997253418, -7.13129997253418, -7.093800067901611, -7.131499767303467, -7.129499912261963, -6.826099872589111, -7.111999988555908, -7.110599994659424, -7.0808000564575195, -6.5971999168396, -7.530200004577637, -7.530900001525879, -7.517399787902832, -7.521500110626221, -7.117300033569336, -7.5345001220703125, -7.5345001220703125, -7.5345001220703125, -7.11929988861084, -5.692299842834473, -6.46019983291626, -6.61959981918335, -5.768700122833252, -6.219200134277344, -7.0406999588012695, -6.8460001945495605, -6.434199810028076, -6.563600063323975, -6.540299892425537, -4.444699764251709, -6.610099792480469, -6.825200080871582, -6.499499797821045, -5.711699962615967, -5.395999908447266, -6.497499942779541, -4.37529993057251, -5.245100021362305, -5.1616997718811035, -5.009399890899658, -5.931300163269043, -6.1504998207092285, -5.852399826049805, -6.054200172424316, -6.029399871826172, -6.128600120544434, -5.031300067901611, -4.989099979400635, -4.8850998878479, -5.1682000160217285, -5.687300205230713, -5.465099811553955, -5.688799858093262, -5.645599842071533, -5.39139986038208, -5.309299945831299, -5.117300033569336, -5.214900016784668, -5.561600208282471, -5.263899803161621, -5.247000217437744, -5.405600070953369, -5.673099994659424, -5.575799942016602, -5.725900173187256, -5.672299861907959, -5.644000053405762, -5.6691999435424805, -4.293099880218506, -4.9532999992370605, -4.778600215911865, -6.1315999031066895, -5.850500106811523, -5.850599765777588, -5.850599765777588, -6.050899982452393, -3.629199981689453, -4.324900150299072, -4.091300010681152, -5.805799961090088, -6.455599784851074, -4.264800071716309, -4.428400039672852, -6.285399913787842, -5.146900177001953, -6.8383002281188965, -5.146299839019775, -6.883699893951416, -6.853099822998047, -6.883800029754639, -6.6016998291015625, -5.875999927520752, -6.85290002822876, -6.859899997711182, -6.859899997711182, -6.859899997711182, -6.859899997711182, -6.8531999588012695, -3.52810001373291, -3.1015000343322754, -4.201900005340576, -4.357500076293945, -5.611999988555908, -4.310299873352051, -5.728600025177002, -4.626100063323975, -4.128399848937988, -3.9658000469207764, -4.630899906158447, -3.4079999923706055, -3.4769999980926514, -5.184899806976318, -4.624199867248535, -4.820199966430664, -4.35890007019043, -5.054699897766113, -5.503799915313721, -5.552999973297119, -5.603700160980225, -5.4045000076293945, -5.058000087738037, -5.364699840545654, -5.223999977111816, -5.273499965667725, -5.770100116729736, -6.776000022888184, -6.586299896240234, -6.562600135803223, -6.448299884796143, -7.100200176239014, -6.953100204467773, -7.1016998291015625, -7.383399963378906, -7.384200096130371, -7.107399940490723, -7.441500186920166, -7.441500186920166, -7.0142998695373535, -7.46589994430542, -7.490699768066406, -7.504899978637695, -7.504899978637695, -7.504899978637695, -7.612199783325195, -7.612500190734863, -7.598899841308594, -7.6132001876831055, -7.26140022277832, -7.600500106811523, -7.675600051879883, -7.888000011444092, -7.782800197601318, -7.967899799346924, -7.171199798583984, -5.461400032043457, -7.471799850463867, -3.993799924850464, -6.578000068664551, -6.592199802398682, -6.828100204467773, -5.288599967956543, -4.464300155639648, -6.559299945831299, -6.674200057983398, -5.66349983215332, -6.916299819946289, -7.2652997970581055, -5.25029993057251, -4.5269999504089355, -6.107600212097168, -2.659899950027466, -4.590000152587891, -5.3267998695373535, -7.032400131225586, -5.801000118255615, -5.102399826049805, -5.739299774169922, -5.496699810028076, -6.039299964904785, -6.563499927520752, -6.402599811553955, -4.710700035095215, -6.375899791717529, -5.517399787902832, -6.058000087738037, -6.307400226593018, -5.605899810791016, -5.820700168609619, -5.912899971008301, -5.7281999588012695, -6.075500011444092, -6.0991997718811035, -5.76039981842041, -6.036099910736084, -6.1717000007629395, -5.991000175476074, -5.981299877166748, -5.73859977722168, -6.021299839019775], \"loglift\": [30.0, 29.0, 28.0, 27.0, 26.0, 25.0, 24.0, 23.0, 22.0, 21.0, 20.0, 19.0, 18.0, 17.0, 16.0, 15.0, 14.0, 13.0, 12.0, 11.0, 10.0, 9.0, 8.0, 7.0, 6.0, 5.0, 4.0, 3.0, 2.0, 1.0, 3.2013, 3.1952, 3.1921, 3.1921, 3.1823, 3.1823, 3.1823, 3.1799, 3.171, 3.1674, 3.1653, 3.1645, 3.1634, 3.1626, 3.1591, 3.1579, 3.156, 3.1557, 3.1541, 3.1518, 3.1512, 3.1465, 3.1455, 3.1408, 3.1405, 3.1395, 3.1391, 3.1373, 3.1315, 3.1307, 3.0863, 3.0597, 3.046, 3.0002, 2.799, 3.0951, 3.0355, 2.7747, 2.8306, 2.7499, 2.9732, 1.771, 2.5417, 1.1587, 2.5756, 1.8409, 1.0009, 2.0417, -1.1433, 1.8907, 0.7512, 0.9359, 0.1251, 0.7347, 0.9746, -0.0641, 0.3542, 0.3529, 0.3528, 0.3527, 0.3526, 0.3526, 0.3525, 0.3525, 0.3524, 0.3523, 0.3521, 0.352, 0.3519, 0.3519, 0.3518, 0.3517, 0.3516, 0.3516, 0.3516, 0.3516, 0.3514, 0.3513, 0.3513, 0.3512, 0.3512, 0.351, 0.351, 0.351, 0.3509, 0.3509, 0.3495, 0.3399, 0.3487, 0.3447, 0.3442, 0.3508, 0.3469, 0.325, 0.3498, 0.3262, 0.3471, 0.3474, 0.3475, 0.3347, 0.3212, 0.3104, 0.2939, 0.3341, 0.3335, 0.3302, 0.2763, 0.2688, 0.3048, 0.3053, 0.2486, 0.3112, 0.316, 0.2736, 0.2401, 0.292, 0.2449, 0.2839, 0.2392, 0.2388, 0.1178, 0.1353, -0.3326, 0.0959, 0.1577, 0.1141, -0.0296, 0.1344, 0.1657, 0.1112, 0.0462, -0.4939, 2.9514, 2.9509, 2.9502, 2.9495, 2.9486, 2.9479, 2.9465, 2.9419, 2.9402, 2.9385, 2.9289, 2.9289, 2.9285, 2.9285, 2.9285, 2.9258, 2.9254, 2.9233, 2.9223, 2.9204, 2.919, 2.9175, 2.9083, 2.9078, 2.9077, 2.9064, 2.9059, 2.9053, 2.9053, 2.9053, 2.8989, 2.8584, 2.8578, 2.8633, 2.8038, 2.8165, 2.8674, 2.8495, 2.7989, 2.7935, 2.7838, 2.116, 2.7675, 2.8285, 2.7014, 2.4018, 2.2757, 2.6885, 1.7967, 2.1679, 2.1281, 2.0609, 2.451, 2.539, 2.372, 2.4775, 2.3996, 2.3919, 1.3271, 1.2132, 1.0752, 1.1784, 1.7784, 1.4413, 1.7588, 1.6349, 1.1646, 0.9746, 0.4925, 0.6242, 1.3887, 0.616, 0.5498, 0.7732, 1.507, 1.1619, 1.3509, 0.9124, 0.6021, 0.5568, 3.3687, 3.3649, 3.3588, 3.356, 3.3526, 3.3519, 3.3519, 3.348, 3.3463, 3.34, 3.3394, 3.3364, 3.3355, 3.3348, 3.3324, 3.3315, 3.3291, 3.3283, 3.3265, 3.324, 3.3238, 3.3236, 3.3226, 3.3222, 3.3206, 3.3171, 3.3171, 3.3171, 3.3171, 3.3153, 3.3123, 3.3032, 3.3069, 3.3039, 3.305, 3.2795, 3.2972, 3.2614, 3.2428, 3.109, 3.1089, 2.8898, 2.8454, 3.0517, 2.7983, 2.4788, 1.9297, 2.4734, 2.9551, 2.9699, 3.0351, 2.5961, 1.6162, 2.3227, 1.7183, 1.7875, 1.7436, 1.7398, 1.7395, 1.7389, 1.7375, 1.7369, 1.7365, 1.7342, 1.7333, 1.7327, 1.7327, 1.7325, 1.7325, 1.7324, 1.732, 1.7317, 1.7289, 1.7289, 1.7289, 1.7284, 1.7284, 1.7281, 1.728, 1.727, 1.7269, 1.7259, 1.7234, 1.7219, 1.7212, 1.7211, 1.7176, 1.7202, 1.6758, 1.7102, 1.7032, 1.7032, 1.6307, 1.5811, 1.6794, 1.6751, 1.606, 1.6799, 1.7092, 1.5205, 1.3383, 1.5465, 1.0141, 1.2898, 1.3704, 1.6707, 1.4281, 1.2561, 1.3458, 1.2564, 1.4022, 1.5638, 1.5009, 0.8991, 1.4755, 1.0707, 1.2179, 1.3748, 0.7407, 0.9169, 0.9658, 0.6859, 1.0165, 1.0322, 0.4115, 0.8703, 1.1113, 0.66, 0.5794, -0.1462, 0.5031]}, \"token.table\": {\"Topic\": [2, 5, 2, 5, 2, 3, 5, 2, 1, 2, 2, 1, 2, 3, 5, 2, 5, 2, 3, 2, 4, 5, 1, 2, 3, 5, 1, 2, 4, 2, 3, 5, 2, 3, 2, 4, 1, 2, 3, 5, 2, 4, 2, 5, 2, 3, 5, 2, 4, 5, 2, 3, 2, 3, 5, 2, 3, 5, 2, 4, 5, 2, 3, 4, 5, 2, 4, 5, 2, 5, 2, 5, 2, 5, 2, 5, 2, 3, 2, 3, 5, 1, 2, 3, 5, 2, 5, 2, 3, 2, 4, 5, 1, 2, 3, 4, 5, 2, 4, 5, 2, 4, 5, 2, 3, 4, 5, 2, 5, 2, 3, 5, 1, 2, 4, 5, 1, 2, 2, 4, 5, 1, 2, 4, 5, 2, 5, 2, 5, 2, 4, 5, 2, 5, 2, 5, 1, 2, 5, 1, 2, 3, 5, 2, 3, 5, 1, 2, 3, 4, 5, 2, 4, 5, 1, 2, 3, 4, 5, 2, 1, 2, 5, 2, 5, 1, 2, 2, 3, 5, 1, 2, 3, 4, 5, 1, 2, 3, 4, 5, 2, 5, 2, 5, 2, 5, 1, 2, 1, 2, 3, 5, 2, 4, 2, 2, 5, 1, 2, 3, 2, 3, 5, 2, 3, 5, 1, 2, 3, 5, 2, 5, 2, 4, 2, 3, 1, 2, 3, 4, 5, 2, 5, 1, 2, 2, 5, 1, 2, 1, 2, 3, 4, 5, 2, 3, 2, 5, 2, 4, 5, 1, 2, 3, 4, 5, 1, 2, 3, 4, 5, 1, 2, 1, 2, 1, 2, 3, 4, 5, 2, 3, 5, 1, 2, 2, 3, 5, 2, 3, 5, 2, 3, 5, 1, 2, 3, 4, 5, 2, 5, 2, 5, 2, 4, 5, 2, 4, 5, 1, 2, 3, 4, 5, 2, 3, 1, 2, 5, 2, 4, 5, 2, 2, 5, 1, 2, 3, 5, 2, 5, 2, 5, 1, 2, 2, 4, 5, 2, 5, 1, 2, 5, 1, 2, 3, 5, 1, 2, 3, 5, 2, 4, 5, 1, 2, 4, 2, 5, 2, 5, 2, 3, 5, 1, 2, 3, 4, 5, 1, 2, 3, 5, 2, 3, 5, 2, 5, 1, 2, 5, 2, 3, 2, 4, 5, 1, 2, 3, 5, 2, 4, 1, 2, 5, 2, 4, 5, 2, 1, 2, 4, 5, 2, 4, 5, 2, 2, 3, 5, 1, 2, 3, 5, 2, 5, 2, 5, 1, 2, 3, 5, 2, 3, 5, 1, 2, 3, 5, 2, 5, 2, 5, 2, 5, 1, 2, 3, 5, 1, 2, 3, 5, 1, 2, 3, 4, 5, 2, 3, 2, 3, 5, 2, 5, 1, 2, 3, 4, 5, 2, 3, 5, 2, 5, 1, 2, 3, 5, 1, 2, 3, 4, 5, 2, 3, 5, 2, 4, 5, 2, 3, 5, 2, 5, 2, 5, 2, 3, 5, 1, 2, 5, 1, 2, 3, 5, 1, 2, 1, 2, 3, 4, 5, 1, 2, 3, 4, 5, 2, 4, 5, 1, 2, 1, 2, 3, 5, 2, 3, 4, 5, 1, 2, 3, 2, 3, 1, 2, 3, 4, 5, 2, 5, 2, 5, 1, 2, 3, 4, 5, 2, 3, 5, 2, 4, 5, 1, 2, 3, 5, 1, 2, 3, 5, 2, 4, 5, 2, 5, 2, 5, 2, 5, 2, 4, 5, 1, 2, 5, 1, 2, 3, 4, 5, 2, 5, 1, 2, 3, 4, 5, 1, 2, 3, 4, 5, 1, 2, 3, 5, 1, 2, 1, 2, 5, 2, 2, 5, 1, 2, 3, 4, 5, 2, 4, 5, 1, 2, 3, 5, 2, 3, 4, 5, 2, 3, 5, 2, 3, 2, 4, 2, 5, 2, 5, 1, 2, 3, 5, 2, 3, 5, 2, 4, 5, 2, 2, 3, 1, 2, 4, 5, 1, 2, 3, 4, 5, 1, 2, 3, 4, 5, 1, 2, 3, 5, 2, 5, 1, 2, 3, 4, 5, 2, 3, 4, 5, 1, 2, 3, 4, 5, 2, 5, 2, 3, 5, 2, 4, 2, 5, 1, 2, 3, 4, 5, 1, 2, 3, 5, 1, 2, 1, 2, 3, 5, 2, 4, 5, 1, 2, 3, 5, 1, 2, 5, 2, 5, 2, 5, 1, 2, 3, 4, 5, 2, 5, 1, 2, 3, 4, 5, 1, 2, 3, 4, 5, 2, 5, 1, 2, 5, 2, 5, 2, 5, 1, 2, 3, 5, 1, 2, 3, 2, 3, 5, 1, 2, 3, 4, 5, 1, 2, 3, 4, 5, 2, 3, 5, 2, 2, 4, 5, 2, 4, 5, 1, 2, 4, 5, 2, 2, 5, 1, 2, 3, 4, 5, 1, 2, 5, 1, 2, 3, 4, 5, 2, 3, 5, 2, 3, 5, 1, 2, 5, 2, 1, 2, 2, 3, 5, 2, 3, 5, 2, 5, 1, 2, 3, 5, 2, 4, 5, 2, 5, 2, 3, 1, 2, 3, 5, 1, 2, 3, 4, 5, 1, 2, 3, 5, 1, 2, 2, 3, 4, 5, 2, 4, 5, 2, 3, 1, 2, 3, 5, 1, 2, 2, 3, 4, 5, 2, 4, 2, 4, 5, 1, 2, 2, 4, 5, 1, 2, 3, 5, 1, 2, 3, 1, 2, 3, 4, 5, 1, 2, 3, 4, 5, 2, 1, 2, 3, 4, 5, 1, 2, 3, 5, 2, 4, 5, 1, 2, 3, 4, 5, 2, 5, 2, 4, 5, 2, 4, 5, 2, 3, 5, 1, 2, 5, 1, 2, 3, 4, 5, 2, 3, 2, 4, 5, 2, 4, 5, 2, 3, 2, 3, 1, 2, 3, 5, 1, 2, 3, 5, 2, 3, 4, 5, 2, 4, 1, 2, 3, 5, 2, 3, 2, 4, 5, 1, 2, 2, 1, 2, 3, 4, 5, 1, 2, 4, 5, 1, 2, 5, 2, 3, 1, 2, 3, 4, 5, 2, 3, 5], \"Freq\": [0.004155393625247627, 0.9972944700594306, 0.022945485744604043, 0.9866558870179738, 0.07365526114653428, 0.8838631337584114, 0.03682763057326714, 0.9936582364901905, 0.9274915231106391, 0.05796822019441494, 0.9943383108112489, 0.011010547140546712, 0.5307083721743515, 0.0022021094281093425, 0.45803876104674324, 0.9990262346245584, 0.0028381427120015863, 0.07659886200009386, 0.9191863440011264, 0.004483561827650253, 0.8967123655300505, 0.09863836020830556, 0.02222621126435939, 0.7837663972168838, 0.09241424683602062, 0.10060285098604776, 0.8808283777034802, 0.05951543092591082, 0.04761234474072866, 0.1481234952553351, 0.6463570702050986, 0.20198658443909331, 0.07741898084396871, 0.9290277701276245, 0.059392800253598575, 0.9502848040575772, 0.031261964175889535, 0.14067883879150292, 0.10316448178043547, 0.7252775688806372, 0.046294252428567495, 0.9258850485713499, 0.998617296385739, 0.0009119792661056977, 0.025249016394601264, 0.8837155738110443, 0.10099606557840506, 0.018850811637165982, 0.9048389585839671, 0.07540324654866393, 0.05287745882710679, 0.9517942588879221, 0.11422354754858964, 0.8566766066144224, 0.03807451584952988, 0.9782608092958524, 0.018212302300720656, 0.0026017574715315223, 0.009289387513113038, 0.9753856888768689, 0.018578775026226076, 0.14065487872892202, 0.03646607967046126, 0.7553687931738404, 0.07293215934092252, 0.02480885912367924, 0.9220625974300783, 0.04961771824735848, 0.01815656977084888, 0.9804547676258394, 0.008137243755565498, 0.9927437381789906, 0.009360411284264446, 0.9922035961320314, 0.030430870261881682, 0.9737878483802138, 0.030891226874958412, 0.9576280331237108, 0.035317750940271, 0.8476260225665041, 0.10595325282081301, 0.004281395074582424, 0.955821450400526, 0.029969765522076964, 0.009633138917810452, 0.9954237647967665, 0.004346828667234789, 0.07743514630856774, 0.9292217557028127, 0.9666343654343141, 0.02016622459181462, 0.013444149727876414, 0.013905886702457433, 0.6149492119531177, 0.07107453203478244, 0.012360788179962164, 0.28738832518412033, 0.010877783045531034, 0.9463671249611999, 0.05438891522765517, 0.010842875644765155, 0.9433301810945685, 0.05421437822382578, 0.529668425021941, 0.02346632262755435, 0.4022798164723603, 0.0469326452551087, 0.9933431692644866, 0.00779092681776068, 0.017908191771264268, 0.017908191771264268, 0.9670423556482705, 0.024112852314258453, 0.19022361270137225, 0.7582152449927936, 0.02947126393964922, 0.9354912380556715, 0.050567093948955213, 0.29966423779293333, 0.5538098571869401, 0.14414229159660083, 0.2532100523890698, 0.4813773523440557, 0.17529926703858675, 0.08625836949517761, 0.06825604105900261, 0.9282821584024354, 0.033856450244221827, 0.981837057082433, 0.02117665089688881, 0.9529492903599965, 0.04235330179377762, 0.013467912685661871, 0.9831576260533167, 0.04598671285756044, 0.9542242917943792, 0.024363992915264455, 0.30590346660276485, 0.6686562500078134, 0.006627180216252344, 0.9700099042840932, 0.004534386463751604, 0.01883514377250666, 0.2956451390976973, 0.42519750342140733, 0.27571400612481883, 0.007294261601709664, 0.9573718352243934, 0.010941392402564497, 0.021882784805128994, 0.003647130800854832, 0.02249223943276939, 0.9671662956090837, 0.02249223943276939, 0.03517082197320415, 0.2837645863747153, 0.000799336863027367, 0.01598673726054734, 0.664248933175742, 0.9962373535588465, 0.015537430381817437, 0.3728983291636185, 0.6117863212840616, 0.9960449219496219, 0.004486688837610909, 0.9806475766982311, 0.013433528447920975, 0.018002454240682333, 0.972132528996846, 0.018002454240682333, 0.08598011877396393, 0.7336970135378255, 0.08827292194126964, 0.01490322058748708, 0.07795530768839395, 0.008767956119583885, 0.6137569283708719, 0.012275138567417439, 0.02981105080658521, 0.3366895149920212, 0.02320709306722337, 0.9746979088233816, 0.016493091129571206, 0.9730923766447012, 0.9966327333786341, 0.0033670024776305207, 0.8457555714437062, 0.14395839513935424, 0.004866853625850764, 0.24334268129253822, 0.49641906983677797, 0.2579432421700905, 0.058982123977387425, 0.9437139836381988, 0.9924573087159919, 0.1531366853917798, 0.847037291073282, 0.9407959697445945, 0.02351989924361486, 0.04703979848722972, 0.011721509123727077, 0.8908346934032578, 0.10549358211354369, 0.04992656267053655, 0.9486046907401945, 0.04992656267053655, 0.2653979703062326, 0.39576890308824153, 0.004656104742214606, 0.33058343669723705, 0.9961397170567179, 0.0033997942561662725, 0.05959568056382376, 0.9535308890211801, 0.05252466874703074, 0.9454440374465534, 0.12838292850168287, 0.6802469860894855, 0.02312109612826516, 0.01764504704525499, 0.15028712483372356, 0.9979232054961928, 0.004435214246649746, 0.9811289625927024, 0.023929974697382984, 0.13020276435354008, 0.8691034520598799, 0.9713577038006755, 0.03885430815202702, 0.10633390555390819, 0.5245806007326137, 0.04253356222156327, 0.06202811157311311, 0.26406253212553865, 0.05085030885389004, 0.9153055593700208, 0.021861097630425826, 0.9837493933691621, 0.9243213021621305, 0.004051079483544765, 0.07224425078988164, 0.01585511312351359, 0.5575714781768945, 0.11362831071851404, 0.20083143289783878, 0.11362831071851404, 0.03798005899925381, 0.9171250312442764, 0.02054658929467829, 0.0006226239180205542, 0.024282332802801614, 0.9319851577254331, 0.04659925788627166, 0.9533479484281527, 0.04650477797210501, 0.012864650207059798, 0.5026147365619336, 0.0032161625517649495, 0.0011613920325817873, 0.480190936548239, 0.011892717561981318, 0.017839076342971976, 0.9692564813014773, 0.932388350537434, 0.046619417526871695, 0.023069313161103985, 0.9689111527663673, 0.023069313161103985, 0.9755476046956929, 0.01520333929395885, 0.007601669646979425, 0.023155016862871657, 0.9725107082406095, 0.023155016862871657, 0.021120477275123457, 0.5796397652172771, 0.018773757577887518, 0.18773757577887515, 0.1900842954761111, 0.015607482438280812, 0.9832713936116911, 0.9945039511212715, 0.005100020262160367, 0.1656851891639506, 0.05522839638798353, 0.7793340379193232, 0.03404060963794352, 0.9531370698624184, 0.03404060963794352, 0.0633707129508993, 0.3208142343139277, 0.30101088651677166, 0.05941004339146809, 0.2574435213630284, 0.0775167337625712, 0.9302008051508546, 0.028358663289153596, 0.9620131161935951, 0.0087257425505088, 0.004918289955187495, 0.30493397722162474, 0.6885605937262493, 0.9973056153016031, 0.02320709306722337, 0.9746979088233816, 0.007907257841548493, 0.1779133014348411, 0.015814515683096986, 0.7966562275360107, 0.011318474296980083, 0.9960257381342473, 0.036591253863894266, 0.9879638543251451, 0.9812476699081552, 0.026520207294815003, 0.27359285670529854, 0.6611827370378048, 0.06839821417632463, 0.02320709306722337, 0.9746979088233816, 0.010755052304056524, 0.9504777473709953, 0.03764268306419784, 0.07569932180179519, 0.21195810104502652, 0.5601749813332844, 0.15139864360359037, 0.00559844623755004, 0.6516591420508246, 0.17131245486903124, 0.17131245486903124, 0.033718171320739516, 0.920024388894464, 0.04816881617248502, 0.9394454625604575, 0.054198776686180235, 0.018066258895393414, 0.025473904952679528, 0.9680083882018221, 0.9921419684229686, 0.007061508672049599, 0.05110212739846252, 0.9198382931723253, 0.05110212739846252, 0.12777238449903977, 0.07207672971740706, 0.19984911421644683, 0.013104859948619464, 0.5897186976878759, 0.014770552227179125, 0.7253982316014638, 0.12637028016586585, 0.13293497004461213, 0.02689508854862827, 0.9682231877506178, 0.02689508854862827, 0.020647704816802386, 0.9910898312065146, 0.034318600474845855, 0.025738950356134393, 0.9351818629395496, 0.051508788523777584, 0.9271581934279965, 0.011473163964209155, 0.9522726090293598, 0.03441949189262746, 0.0026289476450210465, 0.06572369112552616, 0.0006572369112552616, 0.9306474663374505, 0.029912333737893506, 0.9571946796125922, 0.9252216299874204, 0.06688349132439184, 0.011147248554065306, 0.0053200087049861434, 0.9469615494875335, 0.047880078344875295, 0.9935363899656701, 0.6627714546063994, 0.09276359217327138, 0.23312955401440572, 0.010985162231045295, 0.0048333811998066845, 0.9521760963619169, 0.043500430798260166, 0.9955941271587929, 0.9792503729174372, 0.018988234377900443, 0.0027126049111286347, 0.5141205909436893, 0.40669240776142596, 0.007673441655875961, 0.06906097490288365, 0.9977785764805904, 0.002500698186668146, 0.02186109766822471, 0.983749395070112, 0.015028994424115398, 0.3569386175727407, 0.4433553355114042, 0.18034793308938477, 0.1312593297063741, 0.8400597101207942, 0.052503731882549635, 0.020374957980961648, 0.34863816989645485, 0.21506900091015071, 0.4165546964996603, 0.061338878711001306, 0.9323509564072199, 0.23297621938390692, 0.7629971184822952, 0.00913568549150141, 0.9866540330821523, 0.06958555029079547, 0.007731727810088385, 0.21262251477743058, 0.7074530946230873, 0.08049939651356498, 0.02299982757530428, 0.6094954307455634, 0.2759979309036514, 0.06596661412019465, 0.3983866107650971, 0.16556326681146893, 0.005173852087858404, 0.36475657219401747, 0.039312757320561206, 0.943506175693469, 0.03886614271581962, 0.9327874251796708, 0.03886614271581962, 0.9983163461545161, 0.0037390125324139184, 0.0612739468570041, 0.8898648191278551, 0.02088884551943322, 0.005570358805182191, 0.023674024922024313, 0.04638385351516718, 0.8349093632730092, 0.11595963378791796, 0.9898228330310018, 0.011080106339899275, 0.06119475011986761, 0.3403957975417636, 0.16254855500589832, 0.43601259460405667, 0.0637854171829905, 0.6235024529637321, 0.16265281381662577, 0.01913562515489715, 0.1307601052251305, 0.030733900940427307, 0.9527509291532466, 0.030733900940427307, 0.027373088494044476, 0.9580580972915566, 0.027373088494044476, 0.029774147049961147, 0.8932244114988344, 0.059548294099922294, 0.996701215865048, 0.00538757413981107, 0.9943510377992408, 0.004108888585947277, 0.07188186157631589, 0.838621718390352, 0.0838621718390352, 0.9535610542574338, 0.025771920385336048, 0.025771920385336048, 0.016333411405033787, 0.8958247947530068, 0.025128325238513514, 0.06282081309628379, 0.8948721022410195, 0.07457267518675162, 0.23739038422737668, 0.5643917081962134, 0.025153947997602826, 0.012576973998801413, 0.16035641848471802, 0.03373924559458995, 0.9213409373907254, 0.023357939257793038, 0.010381306336796906, 0.010381306336796906, 0.059604105661157585, 0.9536656905785214, 0.059604105661157585, 0.962284775240942, 0.02347036037173029, 0.01811353545848272, 0.36885744933637543, 0.10374115762585559, 0.5088256778791964, 0.8024443199358254, 0.14853569558505422, 0.017578188826633635, 0.03076183044660886, 0.855704508989349, 0.12224350128419273, 0.011113045571290248, 0.0775167337625712, 0.9302008051508546, 0.03736672989069887, 0.7856354959519437, 0.028959215665291624, 0.0009341682472674718, 0.14666441482099307, 0.022257744130858098, 0.9793407417577563, 0.02583981786253988, 0.9819130787765155, 0.10970367851957688, 0.2910949093390753, 0.3063013598269374, 0.030412900975724282, 0.2628543584330456, 0.09098037095571365, 0.5572547721037461, 0.3525489374533904, 0.9939663469556413, 0.003630927294815128, 0.001815463647407564, 0.9235882279000559, 0.045053084287807604, 0.022526542143903802, 0.022526542143903802, 0.07569575160717444, 0.3751876384007776, 0.2599984511724687, 0.28632740825322506, 0.3686353189579275, 0.5819893220534403, 0.04923553917588758, 0.9966198886641441, 0.0027760999684237997, 0.0258314406344809, 0.9815947441102741, 0.11007912249373866, 0.8898062401577208, 0.006038838608310237, 0.8816704368132945, 0.1147379335578945, 0.9327420592131227, 0.04722744603610748, 0.01180686150902687, 0.8119770863095364, 0.1712764166434178, 0.006343570986793253, 0.006343570986793253, 0.006343570986793253, 0.015655425753687186, 0.9862918224822927, 0.02956475822978972, 0.2254312815021466, 0.0012318649262412383, 0.6085412735631717, 0.13673700681277745, 0.02271811377632212, 0.8986276115967416, 0.03092187708443844, 0.010727998172152111, 0.03660140552851897, 0.07001176078872137, 0.3772855998058874, 0.2956052122190458, 0.25670978955864504, 0.9811289625927024, 0.023929974697382984, 0.8462291295855396, 0.11351854177366996, 0.03095960230190999, 0.9925382187061041, 0.02582291181257978, 0.9812706488780317, 0.018369780542838554, 0.8909343563276698, 0.035719017722186074, 0.004082173453964123, 0.0500066248110605, 0.059604105661157585, 0.9536656905785214, 0.059604105661157585, 0.10253911522530706, 0.16502388856572855, 0.4213716766289962, 0.31082169302671203, 0.0684934014988672, 0.21404187968396002, 0.7106190405507473, 0.0085616751873584, 0.10160408733575249, 0.8128326986860199, 0.07620306550181437, 0.05275292349568312, 0.9495526229222961, 0.061440595879001865, 0.921608938185028, 0.9912108060820676, 0.00786675242922276, 0.02239061409819542, 0.9851870203205986, 0.07612606526646154, 0.37217187463603424, 0.5413409085615043, 0.01691690339254701, 0.009582898954507618, 0.05749739372704571, 0.9295411985872389, 0.00901468792263037, 0.027044063767891112, 0.9645716077214497, 0.9973375011171587, 0.05105540219009312, 0.9700526416117693, 0.005522663762544065, 0.8905295317102304, 0.005522663762544065, 0.09802728178515716, 0.045810327320347705, 0.42776940781567924, 0.08295383595846746, 0.015476461932549899, 0.42776940781567924, 0.03730819510908733, 0.18005259378733451, 0.09408153549248109, 0.055962292663630994, 0.6326172214149591, 0.019684378706774884, 0.8201824461156202, 0.11045123607690352, 0.049210946766937214, 0.9910191889090657, 0.006098579624055789, 0.02777557164679904, 0.8269545194842441, 0.02903809763074445, 0.032825675582580684, 0.08332671494039712, 0.32036602446385737, 0.1757760488208775, 0.017010585369762337, 0.48763678059985366, 0.03489836471605229, 0.5583738354568366, 0.19596774032860131, 0.016106937561254902, 0.19596774032860131, 0.9967467555497431, 0.0032467321027678927, 0.044249183965240545, 0.7522361274090892, 0.19912132784358244, 0.04479433278848438, 0.9406809885581721, 0.014259137653304605, 0.9838804980780177, 0.015221876474970229, 0.5701284643352486, 0.06365511980442096, 0.006919034761350105, 0.34595173806750523, 0.6279665431166243, 0.3059324184414323, 0.05635597181815859, 0.008050853116879798, 0.9218978739004936, 0.05761861711878085, 0.5307396866879919, 0.08424439471237967, 0.008424439471237968, 0.3790997762057085, 0.02249223943276939, 0.9671662956090837, 0.02249223943276939, 0.7954950939629073, 0.05303300626419381, 0.12374368128311891, 0.03535533750946254, 0.9160433564070274, 0.036641734256281096, 0.036641734256281096, 0.9934819349907814, 0.0060578166767730575, 0.9959244884847933, 0.0036347609068788076, 0.02387321339997193, 0.2534233422458559, 0.012854807215369501, 0.02387321339997193, 0.6849775844761177, 0.9977614943704887, 0.0028185352948318886, 0.03815854717739141, 0.34070131408385185, 0.13355491512086992, 0.00545122102534163, 0.48243306074273423, 0.014358001777190875, 0.73943709152533, 0.016152751999339732, 0.17050127110414165, 0.05922675733091236, 0.16884789881873533, 0.8288896851101553, 0.9515113231795499, 0.03524116011776111, 0.011747053372587036, 0.02744483936435324, 0.9880142171167167, 0.015588766833530854, 0.9820923105124438, 0.006424180660610776, 0.9845056862386014, 0.000803022582576347, 0.008833248408339817, 0.10718951206636285, 0.05359475603318142, 0.8039213404977213, 0.9390717202529112, 0.030350226700189147, 0.030350226700189147, 0.024716492492112635, 0.33614429789273187, 0.08403607447318297, 0.3460308948895769, 0.21256183543216867, 0.027048041266618028, 0.41248262931592494, 0.04733407221658155, 0.45305469121585196, 0.054096082533236056, 0.020215348404904503, 0.9703367234354162, 0.020215348404904503, 0.9963759664331264, 0.0077530583811395775, 0.9691322976424472, 0.023259175143418732, 0.004818482493274065, 0.9829704286279092, 0.014455447479822194, 0.6470508214794656, 0.2578473198376818, 0.004865043770522297, 0.08757078786940135, 0.994394008636402, 0.9942246276516032, 0.005205364542678551, 0.0845109898328536, 0.7995007927044563, 0.061706437020813736, 0.0013414442830611683, 0.05365777132244673, 0.9568843275105217, 0.02586173858136545, 0.02586173858136545, 0.01579327260154882, 0.728920273917638, 0.13485025067476303, 0.038875747942274025, 0.08018123013094018, 0.40473736287089557, 0.5604055793597016, 0.04151152439701493, 0.020304073248340864, 0.9745955159203614, 0.020304073248340864, 0.0072624378571196305, 0.9895071580325496, 0.0018156094642799076, 0.996180171815033, 0.9269322417380069, 0.048785907459895105, 0.01921330497416249, 0.9606652487081246, 0.01921330497416249, 0.04554956778529717, 0.9109913557059434, 0.09109913557059433, 0.9969686006096897, 0.004430971558265288, 0.9278072980166696, 0.05844455420577446, 0.007305569275721808, 0.007305569275721808, 0.0045279387225848925, 0.9463391930202426, 0.04527938722584893, 0.020643232330811744, 0.9908751518789637, 0.07638410841464943, 0.9166093009757932, 0.309499074358326, 0.6563514852771397, 0.005336190937212518, 0.02668095468606259, 0.059021133143882014, 0.3709899797615441, 0.037942157021067006, 0.4005005463334851, 0.13068965196145302, 0.018004320698291533, 0.9514591015174063, 0.00969463422215698, 0.02215916393635881, 0.9811289625927024, 0.023929974697382984, 0.9712763555136777, 0.000696255451981131, 0.005570043615849048, 0.022280174463396193, 0.022505201990012096, 0.9677236855705201, 0.022505201990012096, 0.0775167337625712, 0.9302008051508546, 0.9556365307825686, 0.023027386283917314, 0.011513693141958657, 0.011513693141958657, 0.9806475766982311, 0.013433528447920975, 0.6836699849747725, 0.20344504743193922, 0.06860356250611904, 0.04258152155552216, 0.05910057458080245, 0.9456091932928392, 0.09008428343608638, 0.8648091209864291, 0.046843827386764916, 0.9328117184282643, 0.04664058592141321, 0.0013707794052201243, 0.9184222014974832, 0.07950520550276721, 0.09868410236877538, 0.35739647884907844, 0.3974035473769603, 0.14402544670037487, 0.8973042399876691, 0.04850293189122536, 0.04850293189122536, 0.08248043820490789, 0.3068272301222573, 0.052787480451141046, 0.02969295775376684, 0.5278748045114104, 0.041883335526371045, 0.14920938281269686, 0.1910927183390679, 0.005235416940796381, 0.6112349278379775, 0.9952043522798238, 0.04277157064749981, 0.06415735597124972, 0.010692892661874953, 0.6522664523743721, 0.23524363856124897, 0.13097894530634102, 0.3274473632658526, 0.22921315428609682, 0.3125633922083138, 0.059604105661157585, 0.9536656905785214, 0.059604105661157585, 0.029108780479856346, 0.7881762099161103, 0.08807272042623202, 0.028362401493193364, 0.0664277298130055, 0.025485523204939485, 0.9684498817877004, 0.059604105661157585, 0.9536656905785214, 0.059604105661157585, 0.023311604816078288, 0.9282257190402082, 0.04874244643361824, 0.08982716462946595, 0.7635308993504606, 0.1571975381015654, 0.03632052481703276, 0.00908013120425819, 0.95341377644711, 0.030187007749047774, 0.8021119201889837, 0.02479647065100353, 0.030187007749047774, 0.11320127905892916, 0.050301991530150136, 0.9557378390728526, 0.0405197699655704, 0.9319547092081193, 0.0405197699655704, 0.016905865986933426, 0.912916763294405, 0.0676234639477337, 0.05301168023179192, 0.9542102441722545, 0.05301168023179192, 0.9542102441722545, 0.6803897927341888, 0.22679659757806292, 0.06902505143680175, 0.019721443267657644, 0.06933364788859155, 0.24762017103068407, 0.5843836036324144, 0.08914326157104627, 0.9314904735670305, 0.014221228604076801, 0.028442457208153603, 0.026664803632644004, 0.06145933528192957, 0.9218900292289436, 0.1051952011454863, 0.07172400078101339, 0.004781600052067559, 0.8176536089035525, 0.032303307334905565, 0.969099220047167, 0.0024259161287641553, 0.9606627869906056, 0.038814658060226485, 0.9903175420956908, 0.010105281041792763, 0.9969183087675298, 0.0264724908470672, 0.7715952479248116, 0.0949895259806529, 0.006228821375780518, 0.10121834735643341, 0.217618111319399, 0.025602130743458705, 0.7040585954451144, 0.05120426148691741, 0.9818149904207184, 0.00825054613798923, 0.00825054613798923, 0.05167682808692477, 0.9301829055646459, 0.007530478249588181, 0.9404730613930128, 0.015060956499176362, 0.00418359902754899, 0.03263207241488212, 0.9796949720662285, 0.012427420364476471, 0.006213710182238236], \"Term\": [\"aaaaaaaaaaaaaaaaaaaaaaaaaaaaaaaaaaaaaaaaaaaaaaaaaaaaaaaaaaaaaaaaaaaaaaaaaaaa\", \"aaaaaaaaaaaaaaaaaaaaaaaaaaaaaaaaaaaaaaaaaaaaaaaaaaaaaaaaaaaaaaaaaaaaaaaaaaaa\", \"abel\", \"abel\", \"addin\", \"addin\", \"addin\", \"afford\", \"agave\", \"agave\", \"aggressively\", \"agreement\", \"agreement\", \"agreement\", \"agreement\", \"alert\", \"alert\", \"alicia\", \"alicia\", \"align\", \"align\", \"align\", \"also\", \"also\", \"also\", \"also\", \"amazon\", \"amazon\", \"amazon\", \"amy\", \"amy\", \"amy\", \"asarco\", \"asarco\", \"athoc\", \"athoc\", \"attached\", \"attached\", \"attached\", \"attached\", \"backout\", \"backout\", \"bakernet\", \"bakernet\", \"barbo\", \"barbo\", \"barbo\", \"bgcolor\", \"bgcolor\", \"bgcolor\", \"blah\", \"blah\", \"blair\", \"blair\", \"blair\", \"board\", \"board\", \"board\", \"bodydefault\", \"bodydefault\", \"bodydefault\", \"border\", \"border\", \"border\", \"border\", \"br\", \"br\", \"br\", \"brackett\", \"brackett\", \"bradford\", \"bradford\", \"breese\", \"breese\", \"brenda\", \"brenda\", \"brochure\", \"brochure\", \"buchanan\", \"buchanan\", \"buchanan\", \"business\", \"business\", \"business\", \"business\", \"buying\", \"buying\", \"bwoertz\", \"bwoertz\", \"california\", \"california\", \"california\", \"call\", \"call\", \"call\", \"call\", \"call\", \"cellpadding\", \"cellpadding\", \"cellpadding\", \"cellspacing\", \"cellspacing\", \"cellspacing\", \"center\", \"center\", \"center\", \"center\", \"chairman\", \"chairman\", \"citygate\", \"citygate\", \"citygate\", \"class\", \"class\", \"class\", \"class\", \"classmate\", \"classmate\", \"clear\", \"clear\", \"clear\", \"click\", \"click\", \"click\", \"click\", \"cn\", \"cn\", \"cogen\", \"cogen\", \"colspan\", \"colspan\", \"colspan\", \"columbiahouse\", \"columbiahouse\", \"commoditylogic\", \"commoditylogic\", \"communication\", \"communication\", \"communication\", \"company\", \"company\", \"company\", \"company\", \"conference\", \"conference\", \"conference\", \"consumer\", \"consumer\", \"consumer\", \"consumer\", \"consumer\", \"coords\", \"coords\", \"coords\", \"corp\", \"corp\", \"corp\", \"corp\", \"corp\", \"court\", \"credit\", \"credit\", \"credit\", \"crisis\", \"crisis\", \"ctr\", \"ctr\", \"darrell\", \"darrell\", \"darrell\", \"day\", \"day\", \"day\", \"day\", \"day\", \"deal\", \"deal\", \"deal\", \"deal\", \"deal\", \"deana\", \"deana\", \"debbie\", \"debbie\", \"declared\", \"declared\", \"delta\", \"delta\", \"desk\", \"desk\", \"desk\", \"desk\", \"detected\", \"detected\", \"devastated\", \"development\", \"development\", \"deviation\", \"deviation\", \"deviation\", \"devon\", \"devon\", \"devon\", \"dietz\", \"dietz\", \"dietz\", \"doc\", \"doc\", \"doc\", \"doc\", \"donate\", \"donate\", \"doubleclick\", \"doubleclick\", \"dynergy\", \"dynergy\", \"e\", \"e\", \"e\", \"e\", \"e\", \"earnings\", \"earnings\", \"ecar\", \"ecar\", \"ee\", \"ee\", \"eei\", \"eei\", \"email\", \"email\", \"email\", \"email\", \"email\", \"emailed\", \"emailed\", \"emaillink\", \"emaillink\", \"employee\", \"employee\", \"employee\", \"end\", \"end\", \"end\", \"end\", \"end\", \"energy\", \"energy\", \"energy\", \"energy\", \"energy\", \"enform\", \"enform\", \"enlarge\", \"enlarge\", \"enron\", \"enron\", \"enron\", \"enron\", \"enron\", \"enronxgate\", \"enronxgate\", \"enronxgate\", \"epe\", \"epe\", \"euci\", \"euci\", \"euci\", \"executive\", \"executive\", \"executive\", \"exotica\", \"exotica\", \"exotica\", \"f\", \"f\", \"f\", \"f\", \"f\", \"fagan\", \"fagan\", \"federal\", \"federal\", \"feedback\", \"feedback\", \"feedback\", \"ffffff\", \"ffffff\", \"ffffff\", \"file\", \"file\", \"file\", \"file\", \"file\", \"filet\", \"filet\", \"firm\", \"firm\", \"firm\", \"font\", \"font\", \"font\", \"former\", \"fortine\", \"fortine\", \"forwarded\", \"forwarded\", \"forwarded\", \"forwarded\", \"fran\", \"fran\", \"franklin\", \"franklin\", \"frcc\", \"frcc\", \"fri\", \"fri\", \"fri\", \"fuehne\", \"fuehne\", \"fund\", \"fund\", \"fund\", \"fw\", \"fw\", \"fw\", \"fw\", \"gas\", \"gas\", \"gas\", \"gas\", \"gif\", \"gif\", \"gif\", \"gift\", \"gift\", \"gift\", \"gjm\", \"gjm\", \"government\", \"government\", \"graf\", \"graf\", \"graf\", \"greg\", \"greg\", \"greg\", \"greg\", \"greg\", \"group\", \"group\", \"group\", \"group\", \"hanagriff\", \"hanagriff\", \"hanagriff\", \"hannon\", \"hannon\", \"harrison\", \"harrison\", \"harrison\", \"headcount\", \"headcount\", \"height\", \"height\", \"height\", \"hou\", \"hou\", \"hou\", \"hou\", \"hourahead\", \"hourahead\", \"hp\", \"hp\", \"hp\", \"href\", \"href\", \"href\", \"hurt\", \"image\", \"image\", \"image\", \"image\", \"img\", \"img\", \"img\", \"income\", \"industry\", \"industry\", \"industry\", \"intended\", \"intended\", \"intended\", \"intended\", \"investor\", \"investor\", \"itcapps\", \"itcapps\", \"january\", \"january\", \"january\", \"january\", \"jerry\", \"jerry\", \"jerry\", \"john\", \"john\", \"john\", \"john\", \"kate\", \"kate\", \"kay\", \"kay\", \"kern\", \"kern\", \"kim\", \"kim\", \"kim\", \"kim\", \"kimberly\", \"kimberly\", \"kimberly\", \"kimberly\", \"know\", \"know\", \"know\", \"know\", \"know\", \"kowalke\", \"kowalke\", \"krishna\", \"krishna\", \"krishna\", \"largest\", \"largest\", \"last\", \"last\", \"last\", \"last\", \"last\", \"laurel\", \"laurel\", \"laurel\", \"lay\", \"lay\", \"let\", \"let\", \"let\", \"let\", \"like\", \"like\", \"like\", \"like\", \"like\", \"lindberg\", \"lindberg\", \"lindberg\", \"linkbarseperator\", \"linkbarseperator\", \"linkbarseperator\", \"lorraine\", \"lorraine\", \"lorraine\", \"loss\", \"loss\", \"lost\", \"lost\", \"lynn\", \"lynn\", \"lynn\", \"maac\", \"maac\", \"maac\", \"made\", \"made\", \"made\", \"made\", \"mage\", \"mage\", \"mail\", \"mail\", \"mail\", \"mail\", \"mail\", \"mailto\", \"mailto\", \"mailto\", \"mailto\", \"mailto\", \"mainheadline\", \"mainheadline\", \"mainheadline\", \"mapp\", \"mapp\", \"mark\", \"mark\", \"mark\", \"mark\", \"market\", \"market\", \"market\", \"market\", \"matrix\", \"matrix\", \"matrix\", \"mawhitt\", \"mawhitt\", \"may\", \"may\", \"may\", \"may\", \"may\", \"mckay\", \"mckay\", \"memid\", \"memid\", \"message\", \"message\", \"message\", \"message\", \"message\", \"michelle\", \"michelle\", \"michelle\", \"million\", \"million\", \"million\", \"min\", \"min\", \"min\", \"min\", \"monday\", \"monday\", \"monday\", \"monday\", \"money\", \"money\", \"money\", \"mr\", \"mr\", \"mtfdnj\", \"mtfdnj\", \"na\", \"na\", \"nbsp\", \"nbsp\", \"nbsp\", \"nc\", \"nc\", \"nc\", \"ne\", \"ne\", \"ne\", \"ne\", \"ne\", \"nella\", \"nella\", \"net\", \"net\", \"net\", \"net\", \"net\", \"new\", \"new\", \"new\", \"new\", \"new\", \"november\", \"november\", \"november\", \"november\", \"npcc\", \"npcc\", \"nw\", \"nw\", \"nw\", \"nytimes\", \"olc\", \"olc\", \"one\", \"one\", \"one\", \"one\", \"one\", \"ord\", \"ord\", \"ord\", \"original\", \"original\", \"original\", \"original\", \"outage\", \"outage\", \"outage\", \"outage\", \"overview\", \"overview\", \"overview\", \"pampa\", \"pampa\", \"parsing\", \"parsing\", \"partnership\", \"partnership\", \"passcode\", \"passcode\", \"pdf\", \"pdf\", \"pdf\", \"pdf\", \"pdx\", \"pdx\", \"pdx\", \"pep\", \"pep\", \"pep\", \"percent\", \"permian\", \"permian\", \"plan\", \"plan\", \"plan\", \"plan\", \"please\", \"please\", \"please\", \"please\", \"please\", \"pm\", \"pm\", \"pm\", \"pm\", \"pm\", \"power\", \"power\", \"power\", \"power\", \"president\", \"president\", \"price\", \"price\", \"price\", \"price\", \"price\", \"process\", \"process\", \"process\", \"process\", \"product\", \"product\", \"product\", \"product\", \"product\", \"profit\", \"profit\", \"pseg\", \"pseg\", \"pseg\", \"pt\", \"pt\", \"pv\", \"pv\", \"question\", \"question\", \"question\", \"question\", \"question\", \"range\", \"range\", \"range\", \"range\", \"raquel\", \"raquel\", \"recipient\", \"recipient\", \"recipient\", \"recipient\", \"rect\", \"rect\", \"rect\", \"reg\", \"reg\", \"reg\", \"reg\", \"reliantenergy\", \"reliantenergy\", \"reliantenergy\", \"relief\", \"relief\", \"reported\", \"reported\", \"request\", \"request\", \"request\", \"request\", \"request\", \"retirement\", \"retirement\", \"review\", \"review\", \"review\", \"review\", \"review\", \"right\", \"right\", \"right\", \"right\", \"right\", \"river\", \"river\", \"rk\", \"rk\", \"rk\", \"rohauer\", \"rohauer\", \"royalty\", \"royalty\", \"said\", \"said\", \"said\", \"said\", \"savita\", \"savita\", \"savita\", \"say\", \"say\", \"say\", \"schedule\", \"schedule\", \"schedule\", \"schedule\", \"schedule\", \"scheduled\", \"scheduled\", \"scheduled\", \"scheduled\", \"scheduled\", \"schoolcraft\", \"schoolcraft\", \"schoolcraft\", \"scientech\", \"scoop\", \"scoop\", \"scoop\", \"script\", \"script\", \"script\", \"se\", \"se\", \"se\", \"se\", \"sec\", \"security\", \"security\", \"see\", \"see\", \"see\", \"see\", \"see\", \"serc\", \"serc\", \"serc\", \"service\", \"service\", \"service\", \"service\", \"service\", \"settlement\", \"settlement\", \"settlement\", \"sfs\", \"sfs\", \"sfs\", \"share\", \"share\", \"share\", \"shareholder\", \"shipping\", \"shipping\", \"simulation\", \"simulation\", \"simulation\", \"socal\", \"socal\", \"socal\", \"sold\", \"sold\", \"sp\", \"sp\", \"sp\", \"sp\", \"src\", \"src\", \"src\", \"srrs\", \"srrs\", \"ssb\", \"ssb\", \"standard\", \"standard\", \"standard\", \"standard\", \"start\", \"start\", \"start\", \"start\", \"start\", \"state\", \"state\", \"state\", \"state\", \"std\", \"std\", \"stock\", \"stock\", \"stock\", \"stock\", \"stocklookup\", \"stocklookup\", \"stocklookup\", \"strick\", \"strick\", \"sw\", \"sw\", \"sw\", \"sw\", \"syncrasy\", \"syncrasy\", \"system\", \"system\", \"system\", \"system\", \"sz\", \"sz\", \"table\", \"table\", \"table\", \"tagline\", \"tagline\", \"td\", \"td\", \"td\", \"team\", \"team\", \"team\", \"team\", \"temp\", \"temp\", \"temp\", \"thank\", \"thank\", \"thank\", \"thank\", \"thank\", \"thanks\", \"thanks\", \"thanks\", \"thanks\", \"thanks\", \"thousand\", \"thru\", \"thru\", \"thru\", \"thru\", \"thru\", \"thursday\", \"thursday\", \"thursday\", \"thursday\", \"tile\", \"tile\", \"tile\", \"time\", \"time\", \"time\", \"time\", \"time\", \"tk\", \"tk\", \"topbar\", \"topbar\", \"topbar\", \"tr\", \"tr\", \"tr\", \"tw\", \"tw\", \"tw\", \"tyrell\", \"tyrell\", \"tyrell\", \"u\", \"u\", \"u\", \"u\", \"u\", \"ubswenergy\", \"ubswenergy\", \"underscore\", \"underscore\", \"underscore\", \"valign\", \"valign\", \"valign\", \"vegetarian\", \"vegetarian\", \"veggie\", \"veggie\", \"volatility\", \"volatility\", \"volatility\", \"volatility\", \"watson\", \"watson\", \"watson\", \"watson\", \"well\", \"well\", \"well\", \"well\", \"westdesk\", \"westdesk\", \"whalley\", \"whalley\", \"whalley\", \"whalley\", \"whitt\", \"whitt\", \"width\", \"width\", \"width\", \"wj\", \"wj\", \"worker\", \"would\", \"would\", \"would\", \"would\", \"would\", \"wrap\", \"wrap\", \"wrap\", \"wrap\", \"wscc\", \"wscc\", \"wscc\", \"wyndham\", \"wyndham\", \"year\", \"year\", \"year\", \"year\", \"year\", \"york\", \"york\", \"york\"]}, \"R\": 30, \"lambda.step\": 0.01, \"plot.opts\": {\"xlab\": \"PC1\", \"ylab\": \"PC2\"}, \"topic.order\": [1, 2, 3, 4, 5]};\n",
              "\n",
              "function LDAvis_load_lib(url, callback){\n",
              "  var s = document.createElement('script');\n",
              "  s.src = url;\n",
              "  s.async = true;\n",
              "  s.onreadystatechange = s.onload = callback;\n",
              "  s.onerror = function(){console.warn(\"failed to load library \" + url);};\n",
              "  document.getElementsByTagName(\"head\")[0].appendChild(s);\n",
              "}\n",
              "\n",
              "if(typeof(LDAvis) !== \"undefined\"){\n",
              "   // already loaded: just create the visualization\n",
              "   !function(LDAvis){\n",
              "       new LDAvis(\"#\" + \"ldavis_el4251397371138455847786030358\", ldavis_el4251397371138455847786030358_data);\n",
              "   }(LDAvis);\n",
              "}else if(typeof define === \"function\" && define.amd){\n",
              "   // require.js is available: use it to load d3/LDAvis\n",
              "   require.config({paths: {d3: \"https://cdnjs.cloudflare.com/ajax/libs/d3/3.5.5/d3.min\"}});\n",
              "   require([\"d3\"], function(d3){\n",
              "      window.d3 = d3;\n",
              "      LDAvis_load_lib(\"https://cdn.rawgit.com/bmabey/pyLDAvis/files/ldavis.v1.0.0.js\", function(){\n",
              "        new LDAvis(\"#\" + \"ldavis_el4251397371138455847786030358\", ldavis_el4251397371138455847786030358_data);\n",
              "      });\n",
              "    });\n",
              "}else{\n",
              "    // require.js not available: dynamically load d3 & LDAvis\n",
              "    LDAvis_load_lib(\"https://cdnjs.cloudflare.com/ajax/libs/d3/3.5.5/d3.min.js\", function(){\n",
              "         LDAvis_load_lib(\"https://cdn.rawgit.com/bmabey/pyLDAvis/files/ldavis.v1.0.0.js\", function(){\n",
              "                 new LDAvis(\"#\" + \"ldavis_el4251397371138455847786030358\", ldavis_el4251397371138455847786030358_data);\n",
              "            })\n",
              "         });\n",
              "}\n",
              "</script>"
            ],
            "text/plain": [
              "<IPython.core.display.HTML object>"
            ]
          },
          "metadata": {
            "tags": []
          },
          "execution_count": 70
        }
      ]
    },
    {
      "cell_type": "code",
      "metadata": {
        "id": "idWSn9JXAGyG"
      },
      "source": [
        "# get the topic details\n",
        "def get_topic_details(ldamodel, corpus):\n",
        "    topic_details_df = pd.DataFrame()\n",
        "    for i, row in enumerate(ldamodel[corpus]):\n",
        "        row = sorted(row, key=lambda x: (x[1]), reverse=True)\n",
        "        for j, (topic_num, prop_topic) in enumerate(row):\n",
        "            if j == 0:  # => dominant topic\n",
        "                wp = ldamodel.show_topic(topic_num)\n",
        "                topic_details_df = topic_details_df.append(pd.Series([topic_num, prop_topic]), ignore_index=True)\n",
        "    topic_details_df.columns = ['Dominant_Topic', '% Score']\n",
        "    return topic_details_df"
      ],
      "execution_count": null,
      "outputs": []
    },
    {
      "cell_type": "code",
      "metadata": {
        "id": "VgCWzNzmAOIh"
      },
      "source": [
        "# Run get_topic_details function and check the results\n",
        "topic_details_df = get_topic_details(ldamodel, corpus)"
      ],
      "execution_count": null,
      "outputs": []
    },
    {
      "cell_type": "code",
      "metadata": {
        "colab": {
          "base_uri": "https://localhost:8080/",
          "height": 206
        },
        "id": "LS5cTZ2fAQva",
        "outputId": "1891bb24-a5f2-4de8-815a-a614d796a6f5"
      },
      "source": [
        "topic_details_df.head()"
      ],
      "execution_count": null,
      "outputs": [
        {
          "output_type": "execute_result",
          "data": {
            "text/html": [
              "<div>\n",
              "<style scoped>\n",
              "    .dataframe tbody tr th:only-of-type {\n",
              "        vertical-align: middle;\n",
              "    }\n",
              "\n",
              "    .dataframe tbody tr th {\n",
              "        vertical-align: top;\n",
              "    }\n",
              "\n",
              "    .dataframe thead th {\n",
              "        text-align: right;\n",
              "    }\n",
              "</style>\n",
              "<table border=\"1\" class=\"dataframe\">\n",
              "  <thead>\n",
              "    <tr style=\"text-align: right;\">\n",
              "      <th></th>\n",
              "      <th>Dominant_Topic</th>\n",
              "      <th>% Score</th>\n",
              "    </tr>\n",
              "  </thead>\n",
              "  <tbody>\n",
              "    <tr>\n",
              "      <th>0</th>\n",
              "      <td>1.0</td>\n",
              "      <td>0.999217</td>\n",
              "    </tr>\n",
              "    <tr>\n",
              "      <th>1</th>\n",
              "      <td>4.0</td>\n",
              "      <td>0.600867</td>\n",
              "    </tr>\n",
              "    <tr>\n",
              "      <th>2</th>\n",
              "      <td>4.0</td>\n",
              "      <td>0.639140</td>\n",
              "    </tr>\n",
              "    <tr>\n",
              "      <th>3</th>\n",
              "      <td>1.0</td>\n",
              "      <td>0.993458</td>\n",
              "    </tr>\n",
              "    <tr>\n",
              "      <th>4</th>\n",
              "      <td>1.0</td>\n",
              "      <td>0.993393</td>\n",
              "    </tr>\n",
              "  </tbody>\n",
              "</table>\n",
              "</div>"
            ],
            "text/plain": [
              "   Dominant_Topic   % Score\n",
              "0             1.0  0.999217\n",
              "1             4.0  0.600867\n",
              "2             4.0  0.639140\n",
              "3             1.0  0.993458\n",
              "4             1.0  0.993393"
            ]
          },
          "metadata": {
            "tags": []
          },
          "execution_count": 73
        }
      ]
    },
    {
      "cell_type": "code",
      "metadata": {
        "colab": {
          "base_uri": "https://localhost:8080/",
          "height": 206
        },
        "id": "rHIQVpBNASwI",
        "outputId": "0e4d6396-6da7-4e24-9d2e-3f5a74ed4003"
      },
      "source": [
        "topic_details_df.tail()"
      ],
      "execution_count": null,
      "outputs": [
        {
          "output_type": "execute_result",
          "data": {
            "text/html": [
              "<div>\n",
              "<style scoped>\n",
              "    .dataframe tbody tr th:only-of-type {\n",
              "        vertical-align: middle;\n",
              "    }\n",
              "\n",
              "    .dataframe tbody tr th {\n",
              "        vertical-align: top;\n",
              "    }\n",
              "\n",
              "    .dataframe thead th {\n",
              "        text-align: right;\n",
              "    }\n",
              "</style>\n",
              "<table border=\"1\" class=\"dataframe\">\n",
              "  <thead>\n",
              "    <tr style=\"text-align: right;\">\n",
              "      <th></th>\n",
              "      <th>Dominant_Topic</th>\n",
              "      <th>% Score</th>\n",
              "    </tr>\n",
              "  </thead>\n",
              "  <tbody>\n",
              "    <tr>\n",
              "      <th>2085</th>\n",
              "      <td>1.0</td>\n",
              "      <td>0.763446</td>\n",
              "    </tr>\n",
              "    <tr>\n",
              "      <th>2086</th>\n",
              "      <td>4.0</td>\n",
              "      <td>0.599738</td>\n",
              "    </tr>\n",
              "    <tr>\n",
              "      <th>2087</th>\n",
              "      <td>0.0</td>\n",
              "      <td>0.999324</td>\n",
              "    </tr>\n",
              "    <tr>\n",
              "      <th>2088</th>\n",
              "      <td>2.0</td>\n",
              "      <td>0.998145</td>\n",
              "    </tr>\n",
              "    <tr>\n",
              "      <th>2089</th>\n",
              "      <td>4.0</td>\n",
              "      <td>0.988398</td>\n",
              "    </tr>\n",
              "  </tbody>\n",
              "</table>\n",
              "</div>"
            ],
            "text/plain": [
              "      Dominant_Topic   % Score\n",
              "2085             1.0  0.763446\n",
              "2086             4.0  0.599738\n",
              "2087             0.0  0.999324\n",
              "2088             2.0  0.998145\n",
              "2089             4.0  0.988398"
            ]
          },
          "metadata": {
            "tags": []
          },
          "execution_count": 74
        }
      ]
    },
    {
      "cell_type": "code",
      "metadata": {
        "id": "nmkTJl2JAcLS"
      },
      "source": [
        "# Add original text to topic details in a dataframe\n",
        "contents = pd.DataFrame({'Original text': df['clean_content']})\n",
        "topic_details = pd.concat([get_topic_details(ldamodel, corpus), contents], axis=1)"
      ],
      "execution_count": null,
      "outputs": []
    },
    {
      "cell_type": "code",
      "metadata": {
        "colab": {
          "base_uri": "https://localhost:8080/",
          "height": 206
        },
        "id": "rBx-OFxbAe16",
        "outputId": "4b9d5830-4eb4-4abb-e4e3-2496b9051f16"
      },
      "source": [
        "topic_details.sort_values(by=['% Score'], ascending=False).head(10).head()"
      ],
      "execution_count": null,
      "outputs": [
        {
          "output_type": "execute_result",
          "data": {
            "text/html": [
              "<div>\n",
              "<style scoped>\n",
              "    .dataframe tbody tr th:only-of-type {\n",
              "        vertical-align: middle;\n",
              "    }\n",
              "\n",
              "    .dataframe tbody tr th {\n",
              "        vertical-align: top;\n",
              "    }\n",
              "\n",
              "    .dataframe thead th {\n",
              "        text-align: right;\n",
              "    }\n",
              "</style>\n",
              "<table border=\"1\" class=\"dataframe\">\n",
              "  <thead>\n",
              "    <tr style=\"text-align: right;\">\n",
              "      <th></th>\n",
              "      <th>Dominant_Topic</th>\n",
              "      <th>% Score</th>\n",
              "      <th>Original text</th>\n",
              "    </tr>\n",
              "  </thead>\n",
              "  <tbody>\n",
              "    <tr>\n",
              "      <th>154</th>\n",
              "      <td>1.0</td>\n",
              "      <td>0.999957</td>\n",
              "      <td>joint venture enron meeting belies officers cl...</td>\n",
              "    </tr>\n",
              "    <tr>\n",
              "      <th>135</th>\n",
              "      <td>1.0</td>\n",
              "      <td>0.999953</td>\n",
              "      <td>lawyers agree order safeguard documents housto...</td>\n",
              "    </tr>\n",
              "    <tr>\n",
              "      <th>107</th>\n",
              "      <td>1.0</td>\n",
              "      <td>0.999907</td>\n",
              "      <td>sample articles original message schmidt ann s...</td>\n",
              "    </tr>\n",
              "    <tr>\n",
              "      <th>849</th>\n",
              "      <td>4.0</td>\n",
              "      <td>0.999877</td>\n",
              "      <td>original message received thu aug cdt ecthou g...</td>\n",
              "    </tr>\n",
              "    <tr>\n",
              "      <th>263</th>\n",
              "      <td>1.0</td>\n",
              "      <td>0.999807</td>\n",
              "      <td>original message cook mary sent thursday octob...</td>\n",
              "    </tr>\n",
              "  </tbody>\n",
              "</table>\n",
              "</div>"
            ],
            "text/plain": [
              "     Dominant_Topic  ...                                      Original text\n",
              "154             1.0  ...  joint venture enron meeting belies officers cl...\n",
              "135             1.0  ...  lawyers agree order safeguard documents housto...\n",
              "107             1.0  ...  sample articles original message schmidt ann s...\n",
              "849             4.0  ...  original message received thu aug cdt ecthou g...\n",
              "263             1.0  ...  original message cook mary sent thursday octob...\n",
              "\n",
              "[5 rows x 3 columns]"
            ]
          },
          "metadata": {
            "tags": []
          },
          "execution_count": 82
        }
      ]
    },
    {
      "cell_type": "code",
      "metadata": {
        "colab": {
          "base_uri": "https://localhost:8080/",
          "height": 206
        },
        "id": "04OPbzbEAers",
        "outputId": "c918cdfc-7d99-4233-9505-387634fa9225"
      },
      "source": [
        "topic_details.sort_values(by=['% Score'], ascending=False).head(10).tail()"
      ],
      "execution_count": null,
      "outputs": [
        {
          "output_type": "execute_result",
          "data": {
            "text/html": [
              "<div>\n",
              "<style scoped>\n",
              "    .dataframe tbody tr th:only-of-type {\n",
              "        vertical-align: middle;\n",
              "    }\n",
              "\n",
              "    .dataframe tbody tr th {\n",
              "        vertical-align: top;\n",
              "    }\n",
              "\n",
              "    .dataframe thead th {\n",
              "        text-align: right;\n",
              "    }\n",
              "</style>\n",
              "<table border=\"1\" class=\"dataframe\">\n",
              "  <thead>\n",
              "    <tr style=\"text-align: right;\">\n",
              "      <th></th>\n",
              "      <th>Dominant_Topic</th>\n",
              "      <th>% Score</th>\n",
              "      <th>Original text</th>\n",
              "    </tr>\n",
              "  </thead>\n",
              "  <tbody>\n",
              "    <tr>\n",
              "      <th>285</th>\n",
              "      <td>1.0</td>\n",
              "      <td>0.999802</td>\n",
              "      <td>original message vann suzanne sent wednesday o...</td>\n",
              "    </tr>\n",
              "    <tr>\n",
              "      <th>1782</th>\n",
              "      <td>1.0</td>\n",
              "      <td>0.999790</td>\n",
              "      <td>national journal congressdaily issue date octo...</td>\n",
              "    </tr>\n",
              "    <tr>\n",
              "      <th>271</th>\n",
              "      <td>1.0</td>\n",
              "      <td>0.999775</td>\n",
              "      <td>nancy sheed nancy sheed businessweek com pm pl...</td>\n",
              "    </tr>\n",
              "    <tr>\n",
              "      <th>149</th>\n",
              "      <td>1.0</td>\n",
              "      <td>0.999769</td>\n",
              "      <td>electricity trading builds oh slowly france do...</td>\n",
              "    </tr>\n",
              "    <tr>\n",
              "      <th>520</th>\n",
              "      <td>1.0</td>\n",
              "      <td>0.999750</td>\n",
              "      <td>venturewire monday november contents companies...</td>\n",
              "    </tr>\n",
              "  </tbody>\n",
              "</table>\n",
              "</div>"
            ],
            "text/plain": [
              "      Dominant_Topic  ...                                      Original text\n",
              "285              1.0  ...  original message vann suzanne sent wednesday o...\n",
              "1782             1.0  ...  national journal congressdaily issue date octo...\n",
              "271              1.0  ...  nancy sheed nancy sheed businessweek com pm pl...\n",
              "149              1.0  ...  electricity trading builds oh slowly france do...\n",
              "520              1.0  ...  venturewire monday november contents companies...\n",
              "\n",
              "[5 rows x 3 columns]"
            ]
          },
          "metadata": {
            "tags": []
          },
          "execution_count": 83
        }
      ]
    },
    {
      "cell_type": "code",
      "metadata": {
        "id": "X6J4McwjA8dv"
      },
      "source": [
        ""
      ],
      "execution_count": null,
      "outputs": []
    },
    {
      "cell_type": "markdown",
      "metadata": {
        "id": "A5htuZEDDiZZ"
      },
      "source": [
        "From the visualization above Topic 4 seems to be more related to fraud cases, as it includes words related to price, stocks and comuunication between employees."
      ]
    },
    {
      "cell_type": "code",
      "metadata": {
        "id": "qcOJZ_5wA8aa"
      },
      "source": [
        "# Create flag for text highest associated with topic 3\n",
        "topic_details['flag'] = np.where((topic_details['Dominant_Topic'] == 4.0), 1, 0)"
      ],
      "execution_count": null,
      "outputs": []
    },
    {
      "cell_type": "code",
      "metadata": {
        "id": "m9qqnQTeA8Xv"
      },
      "source": [
        "topic_details_fraud = topic_details[topic_details.flag == 1]"
      ],
      "execution_count": null,
      "outputs": []
    },
    {
      "cell_type": "code",
      "metadata": {
        "id": "LR0KgGWCEH3m"
      },
      "source": [
        "pd.set_option('display.max_colwidth', 100)"
      ],
      "execution_count": null,
      "outputs": []
    },
    {
      "cell_type": "code",
      "metadata": {
        "colab": {
          "base_uri": "https://localhost:8080/",
          "height": 363
        },
        "id": "_a1FvopBBKzh",
        "outputId": "dfde6215-712c-4894-f06b-f74a36c5fb2d"
      },
      "source": [
        "topic_details_fraud.sort_values(by=['% Score'], ascending=False).head(10)"
      ],
      "execution_count": null,
      "outputs": [
        {
          "output_type": "execute_result",
          "data": {
            "text/html": [
              "<div>\n",
              "<style scoped>\n",
              "    .dataframe tbody tr th:only-of-type {\n",
              "        vertical-align: middle;\n",
              "    }\n",
              "\n",
              "    .dataframe tbody tr th {\n",
              "        vertical-align: top;\n",
              "    }\n",
              "\n",
              "    .dataframe thead th {\n",
              "        text-align: right;\n",
              "    }\n",
              "</style>\n",
              "<table border=\"1\" class=\"dataframe\">\n",
              "  <thead>\n",
              "    <tr style=\"text-align: right;\">\n",
              "      <th></th>\n",
              "      <th>Dominant_Topic</th>\n",
              "      <th>% Score</th>\n",
              "      <th>Original text</th>\n",
              "      <th>flag</th>\n",
              "    </tr>\n",
              "  </thead>\n",
              "  <tbody>\n",
              "    <tr>\n",
              "      <th>849</th>\n",
              "      <td>4.0</td>\n",
              "      <td>0.999877</td>\n",
              "      <td>original message received thu aug cdt ecthou gt corp enron com following addresses permanent fat...</td>\n",
              "      <td>1</td>\n",
              "    </tr>\n",
              "    <tr>\n",
              "      <th>1411</th>\n",
              "      <td>4.0</td>\n",
              "      <td>0.999135</td>\n",
              "      <td>inline attachment follows scasey tfsbrokers com enron mckay jonathan enron ou na cn recipients c...</td>\n",
              "      <td>1</td>\n",
              "    </tr>\n",
              "    <tr>\n",
              "      <th>1138</th>\n",
              "      <td>4.0</td>\n",
              "      <td>0.998678</td>\n",
              "      <td>greg great time million club lavo dave forwarded john j lavorato corp enron rosalee fleming pm j...</td>\n",
              "      <td>1</td>\n",
              "    </tr>\n",
              "    <tr>\n",
              "      <th>974</th>\n",
              "      <td>4.0</td>\n",
              "      <td>0.998223</td>\n",
              "      <td>forwarded vince j kaminski hou ect pm shirley crenshaw vince j kaminski hou ect ect stinson gibn...</td>\n",
              "      <td>1</td>\n",
              "    </tr>\n",
              "    <tr>\n",
              "      <th>1769</th>\n",
              "      <td>4.0</td>\n",
              "      <td>0.998020</td>\n",
              "      <td>please make sure knows asst forwarded jeffrey shankman hou ect tracy l arthur kenneth lay corp e...</td>\n",
              "      <td>1</td>\n",
              "    </tr>\n",
              "    <tr>\n",
              "      <th>769</th>\n",
              "      <td>4.0</td>\n",
              "      <td>0.997890</td>\n",
              "      <td>congratulations mark haedicke michael guerriero enron andrea calo sa enron enron carolina waingo...</td>\n",
              "      <td>1</td>\n",
              "    </tr>\n",
              "    <tr>\n",
              "      <th>1084</th>\n",
              "      <td>4.0</td>\n",
              "      <td>0.997863</td>\n",
              "      <td>forwarded steven j kean na enron pm katherine brown james bannantine enron development enron dev...</td>\n",
              "      <td>1</td>\n",
              "    </tr>\n",
              "    <tr>\n",
              "      <th>1044</th>\n",
              "      <td>4.0</td>\n",
              "      <td>0.997862</td>\n",
              "      <td>forwarded steven j kean na enron pm katherine brown james bannantine enron development enron dev...</td>\n",
              "      <td>1</td>\n",
              "    </tr>\n",
              "    <tr>\n",
              "      <th>1749</th>\n",
              "      <td>4.0</td>\n",
              "      <td>0.997672</td>\n",
              "      <td>please check master section changes ss forwarded sara shackleton hou ect pm brent hendry enron d...</td>\n",
              "      <td>1</td>\n",
              "    </tr>\n",
              "    <tr>\n",
              "      <th>921</th>\n",
              "      <td>4.0</td>\n",
              "      <td>0.997520</td>\n",
              "      <td>fyi vince forwarded vince j kaminski hou ect pm cathy phillips mark frevert na enron enron mike ...</td>\n",
              "      <td>1</td>\n",
              "    </tr>\n",
              "  </tbody>\n",
              "</table>\n",
              "</div>"
            ],
            "text/plain": [
              "      Dominant_Topic  ...  flag\n",
              "849              4.0  ...     1\n",
              "1411             4.0  ...     1\n",
              "1138             4.0  ...     1\n",
              "974              4.0  ...     1\n",
              "1769             4.0  ...     1\n",
              "769              4.0  ...     1\n",
              "1084             4.0  ...     1\n",
              "1044             4.0  ...     1\n",
              "1749             4.0  ...     1\n",
              "921              4.0  ...     1\n",
              "\n",
              "[10 rows x 4 columns]"
            ]
          },
          "metadata": {
            "tags": []
          },
          "execution_count": 94
        }
      ]
    },
    {
      "cell_type": "code",
      "metadata": {
        "id": "FcYL6rvuDw8f"
      },
      "source": [
        ""
      ],
      "execution_count": null,
      "outputs": []
    }
  ]
}