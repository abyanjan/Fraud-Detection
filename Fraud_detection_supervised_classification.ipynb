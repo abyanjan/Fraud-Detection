{
  "nbformat": 4,
  "nbformat_minor": 0,
  "metadata": {
    "colab": {
      "name": "Fraud detection-supervised classification.ipynb",
      "provenance": [],
      "authorship_tag": "ABX9TyOD9rIcC+E57saktEq3uvby",
      "include_colab_link": true
    },
    "kernelspec": {
      "name": "python3",
      "display_name": "Python 3"
    },
    "language_info": {
      "name": "python"
    }
  },
  "cells": [
    {
      "cell_type": "markdown",
      "metadata": {
        "id": "view-in-github",
        "colab_type": "text"
      },
      "source": [
        "<a href=\"https://colab.research.google.com/github/abyanjan/Fraud-Detection/blob/master/Fraud_detection_supervised_classification.ipynb\" target=\"_parent\"><img src=\"https://colab.research.google.com/assets/colab-badge.svg\" alt=\"Open In Colab\"/></a>"
      ]
    },
    {
      "cell_type": "markdown",
      "metadata": {
        "id": "khCYQZvsxeFc"
      },
      "source": [
        "## Fraud Detection with Supervised Classification"
      ]
    },
    {
      "cell_type": "code",
      "metadata": {
        "id": "yjJmJegdfRyB"
      },
      "source": [
        ""
      ],
      "execution_count": null,
      "outputs": []
    },
    {
      "cell_type": "markdown",
      "metadata": {
        "id": "q8DexEFjfSHZ"
      },
      "source": [
        "### Downloading Data From kaggle"
      ]
    },
    {
      "cell_type": "markdown",
      "metadata": {
        "id": "kXIu4y_HfWUC"
      },
      "source": [
        "The data is accessed through the Kaggle at https://www.kaggle.com/mlg-ulb/creditcardfraud"
      ]
    },
    {
      "cell_type": "code",
      "metadata": {
        "id": "hqwnU0vvevlv"
      },
      "source": [
        "!pip install -q kaggle"
      ],
      "execution_count": null,
      "outputs": []
    },
    {
      "cell_type": "code",
      "metadata": {
        "id": "__UyuNorevh9"
      },
      "source": [
        "# upload the kaggle.json file that has the api key\n",
        "from google.colab import files\n",
        "files.upload()"
      ],
      "execution_count": null,
      "outputs": []
    },
    {
      "cell_type": "code",
      "metadata": {
        "id": "7ILd2D4vevfH"
      },
      "source": [
        "!mkdir ~/.kaggle"
      ],
      "execution_count": null,
      "outputs": []
    },
    {
      "cell_type": "code",
      "metadata": {
        "id": "lAgXbV4fevcF"
      },
      "source": [
        "! cp kaggle.json ~/.kaggle/\n",
        "! chmod 600 ~/.kaggle/kaggle.json"
      ],
      "execution_count": null,
      "outputs": []
    },
    {
      "cell_type": "code",
      "metadata": {
        "colab": {
          "base_uri": "https://localhost:8080/"
        },
        "id": "ALhskUEcevZg",
        "outputId": "4b8a174a-5b9d-4257-efe0-ec0d594db7c4"
      },
      "source": [
        "# download data\n",
        "!kaggle datasets download -d mlg-ulb/creditcardfraud"
      ],
      "execution_count": null,
      "outputs": [
        {
          "output_type": "stream",
          "text": [
            "Downloading creditcardfraud.zip to /content\n",
            " 86% 57.0M/66.0M [00:02<00:00, 16.1MB/s]\n",
            "100% 66.0M/66.0M [00:02<00:00, 26.4MB/s]\n"
          ],
          "name": "stdout"
        }
      ]
    },
    {
      "cell_type": "code",
      "metadata": {
        "colab": {
          "base_uri": "https://localhost:8080/"
        },
        "id": "GwRL7ptbxYDx",
        "outputId": "29b3afb7-6bc6-4b86-bee3-589934002703"
      },
      "source": [
        "# unzipping the file\n",
        "!unzip creditcardfraud.zip"
      ],
      "execution_count": null,
      "outputs": [
        {
          "output_type": "stream",
          "text": [
            "Archive:  creditcardfraud.zip\n",
            "  inflating: creditcard.csv          \n"
          ],
          "name": "stdout"
        }
      ]
    },
    {
      "cell_type": "code",
      "metadata": {
        "id": "4M7cg8jwfKb8"
      },
      "source": [
        ""
      ],
      "execution_count": null,
      "outputs": []
    },
    {
      "cell_type": "markdown",
      "metadata": {
        "id": "QEU6D5hOfh2r"
      },
      "source": [
        "### Loading and Exploring the Data"
      ]
    },
    {
      "cell_type": "code",
      "metadata": {
        "id": "SxWaZkNcxwAA"
      },
      "source": [
        "import pandas as pd\n",
        "import numpy as np\n",
        "import matplotlib.pyplot as plt"
      ],
      "execution_count": null,
      "outputs": []
    },
    {
      "cell_type": "code",
      "metadata": {
        "colab": {
          "base_uri": "https://localhost:8080/",
          "height": 226
        },
        "id": "sJp-DMMfxv8D",
        "outputId": "b5b061b0-10b9-4fe1-e0de-06c32fc07b0f"
      },
      "source": [
        "df = pd.read_csv(\"creditcard.csv\")\n",
        "df.head()"
      ],
      "execution_count": null,
      "outputs": [
        {
          "output_type": "execute_result",
          "data": {
            "text/html": [
              "<div>\n",
              "<style scoped>\n",
              "    .dataframe tbody tr th:only-of-type {\n",
              "        vertical-align: middle;\n",
              "    }\n",
              "\n",
              "    .dataframe tbody tr th {\n",
              "        vertical-align: top;\n",
              "    }\n",
              "\n",
              "    .dataframe thead th {\n",
              "        text-align: right;\n",
              "    }\n",
              "</style>\n",
              "<table border=\"1\" class=\"dataframe\">\n",
              "  <thead>\n",
              "    <tr style=\"text-align: right;\">\n",
              "      <th></th>\n",
              "      <th>Time</th>\n",
              "      <th>V1</th>\n",
              "      <th>V2</th>\n",
              "      <th>V3</th>\n",
              "      <th>V4</th>\n",
              "      <th>V5</th>\n",
              "      <th>V6</th>\n",
              "      <th>V7</th>\n",
              "      <th>V8</th>\n",
              "      <th>V9</th>\n",
              "      <th>V10</th>\n",
              "      <th>V11</th>\n",
              "      <th>V12</th>\n",
              "      <th>V13</th>\n",
              "      <th>V14</th>\n",
              "      <th>V15</th>\n",
              "      <th>V16</th>\n",
              "      <th>V17</th>\n",
              "      <th>V18</th>\n",
              "      <th>V19</th>\n",
              "      <th>V20</th>\n",
              "      <th>V21</th>\n",
              "      <th>V22</th>\n",
              "      <th>V23</th>\n",
              "      <th>V24</th>\n",
              "      <th>V25</th>\n",
              "      <th>V26</th>\n",
              "      <th>V27</th>\n",
              "      <th>V28</th>\n",
              "      <th>Amount</th>\n",
              "      <th>Class</th>\n",
              "    </tr>\n",
              "  </thead>\n",
              "  <tbody>\n",
              "    <tr>\n",
              "      <th>0</th>\n",
              "      <td>0.0</td>\n",
              "      <td>-1.359807</td>\n",
              "      <td>-0.072781</td>\n",
              "      <td>2.536347</td>\n",
              "      <td>1.378155</td>\n",
              "      <td>-0.338321</td>\n",
              "      <td>0.462388</td>\n",
              "      <td>0.239599</td>\n",
              "      <td>0.098698</td>\n",
              "      <td>0.363787</td>\n",
              "      <td>0.090794</td>\n",
              "      <td>-0.551600</td>\n",
              "      <td>-0.617801</td>\n",
              "      <td>-0.991390</td>\n",
              "      <td>-0.311169</td>\n",
              "      <td>1.468177</td>\n",
              "      <td>-0.470401</td>\n",
              "      <td>0.207971</td>\n",
              "      <td>0.025791</td>\n",
              "      <td>0.403993</td>\n",
              "      <td>0.251412</td>\n",
              "      <td>-0.018307</td>\n",
              "      <td>0.277838</td>\n",
              "      <td>-0.110474</td>\n",
              "      <td>0.066928</td>\n",
              "      <td>0.128539</td>\n",
              "      <td>-0.189115</td>\n",
              "      <td>0.133558</td>\n",
              "      <td>-0.021053</td>\n",
              "      <td>149.62</td>\n",
              "      <td>0</td>\n",
              "    </tr>\n",
              "    <tr>\n",
              "      <th>1</th>\n",
              "      <td>0.0</td>\n",
              "      <td>1.191857</td>\n",
              "      <td>0.266151</td>\n",
              "      <td>0.166480</td>\n",
              "      <td>0.448154</td>\n",
              "      <td>0.060018</td>\n",
              "      <td>-0.082361</td>\n",
              "      <td>-0.078803</td>\n",
              "      <td>0.085102</td>\n",
              "      <td>-0.255425</td>\n",
              "      <td>-0.166974</td>\n",
              "      <td>1.612727</td>\n",
              "      <td>1.065235</td>\n",
              "      <td>0.489095</td>\n",
              "      <td>-0.143772</td>\n",
              "      <td>0.635558</td>\n",
              "      <td>0.463917</td>\n",
              "      <td>-0.114805</td>\n",
              "      <td>-0.183361</td>\n",
              "      <td>-0.145783</td>\n",
              "      <td>-0.069083</td>\n",
              "      <td>-0.225775</td>\n",
              "      <td>-0.638672</td>\n",
              "      <td>0.101288</td>\n",
              "      <td>-0.339846</td>\n",
              "      <td>0.167170</td>\n",
              "      <td>0.125895</td>\n",
              "      <td>-0.008983</td>\n",
              "      <td>0.014724</td>\n",
              "      <td>2.69</td>\n",
              "      <td>0</td>\n",
              "    </tr>\n",
              "    <tr>\n",
              "      <th>2</th>\n",
              "      <td>1.0</td>\n",
              "      <td>-1.358354</td>\n",
              "      <td>-1.340163</td>\n",
              "      <td>1.773209</td>\n",
              "      <td>0.379780</td>\n",
              "      <td>-0.503198</td>\n",
              "      <td>1.800499</td>\n",
              "      <td>0.791461</td>\n",
              "      <td>0.247676</td>\n",
              "      <td>-1.514654</td>\n",
              "      <td>0.207643</td>\n",
              "      <td>0.624501</td>\n",
              "      <td>0.066084</td>\n",
              "      <td>0.717293</td>\n",
              "      <td>-0.165946</td>\n",
              "      <td>2.345865</td>\n",
              "      <td>-2.890083</td>\n",
              "      <td>1.109969</td>\n",
              "      <td>-0.121359</td>\n",
              "      <td>-2.261857</td>\n",
              "      <td>0.524980</td>\n",
              "      <td>0.247998</td>\n",
              "      <td>0.771679</td>\n",
              "      <td>0.909412</td>\n",
              "      <td>-0.689281</td>\n",
              "      <td>-0.327642</td>\n",
              "      <td>-0.139097</td>\n",
              "      <td>-0.055353</td>\n",
              "      <td>-0.059752</td>\n",
              "      <td>378.66</td>\n",
              "      <td>0</td>\n",
              "    </tr>\n",
              "    <tr>\n",
              "      <th>3</th>\n",
              "      <td>1.0</td>\n",
              "      <td>-0.966272</td>\n",
              "      <td>-0.185226</td>\n",
              "      <td>1.792993</td>\n",
              "      <td>-0.863291</td>\n",
              "      <td>-0.010309</td>\n",
              "      <td>1.247203</td>\n",
              "      <td>0.237609</td>\n",
              "      <td>0.377436</td>\n",
              "      <td>-1.387024</td>\n",
              "      <td>-0.054952</td>\n",
              "      <td>-0.226487</td>\n",
              "      <td>0.178228</td>\n",
              "      <td>0.507757</td>\n",
              "      <td>-0.287924</td>\n",
              "      <td>-0.631418</td>\n",
              "      <td>-1.059647</td>\n",
              "      <td>-0.684093</td>\n",
              "      <td>1.965775</td>\n",
              "      <td>-1.232622</td>\n",
              "      <td>-0.208038</td>\n",
              "      <td>-0.108300</td>\n",
              "      <td>0.005274</td>\n",
              "      <td>-0.190321</td>\n",
              "      <td>-1.175575</td>\n",
              "      <td>0.647376</td>\n",
              "      <td>-0.221929</td>\n",
              "      <td>0.062723</td>\n",
              "      <td>0.061458</td>\n",
              "      <td>123.50</td>\n",
              "      <td>0</td>\n",
              "    </tr>\n",
              "    <tr>\n",
              "      <th>4</th>\n",
              "      <td>2.0</td>\n",
              "      <td>-1.158233</td>\n",
              "      <td>0.877737</td>\n",
              "      <td>1.548718</td>\n",
              "      <td>0.403034</td>\n",
              "      <td>-0.407193</td>\n",
              "      <td>0.095921</td>\n",
              "      <td>0.592941</td>\n",
              "      <td>-0.270533</td>\n",
              "      <td>0.817739</td>\n",
              "      <td>0.753074</td>\n",
              "      <td>-0.822843</td>\n",
              "      <td>0.538196</td>\n",
              "      <td>1.345852</td>\n",
              "      <td>-1.119670</td>\n",
              "      <td>0.175121</td>\n",
              "      <td>-0.451449</td>\n",
              "      <td>-0.237033</td>\n",
              "      <td>-0.038195</td>\n",
              "      <td>0.803487</td>\n",
              "      <td>0.408542</td>\n",
              "      <td>-0.009431</td>\n",
              "      <td>0.798278</td>\n",
              "      <td>-0.137458</td>\n",
              "      <td>0.141267</td>\n",
              "      <td>-0.206010</td>\n",
              "      <td>0.502292</td>\n",
              "      <td>0.219422</td>\n",
              "      <td>0.215153</td>\n",
              "      <td>69.99</td>\n",
              "      <td>0</td>\n",
              "    </tr>\n",
              "  </tbody>\n",
              "</table>\n",
              "</div>"
            ],
            "text/plain": [
              "   Time        V1        V2        V3  ...       V27       V28  Amount  Class\n",
              "0   0.0 -1.359807 -0.072781  2.536347  ...  0.133558 -0.021053  149.62      0\n",
              "1   0.0  1.191857  0.266151  0.166480  ... -0.008983  0.014724    2.69      0\n",
              "2   1.0 -1.358354 -1.340163  1.773209  ... -0.055353 -0.059752  378.66      0\n",
              "3   1.0 -0.966272 -0.185226  1.792993  ...  0.062723  0.061458  123.50      0\n",
              "4   2.0 -1.158233  0.877737  1.548718  ...  0.219422  0.215153   69.99      0\n",
              "\n",
              "[5 rows x 31 columns]"
            ]
          },
          "metadata": {
            "tags": []
          },
          "execution_count": 8
        }
      ]
    },
    {
      "cell_type": "code",
      "metadata": {
        "colab": {
          "base_uri": "https://localhost:8080/"
        },
        "id": "md8_qnCryN4t",
        "outputId": "992fd85c-88b1-41e6-d08a-20cfd7691a53"
      },
      "source": [
        "# data size\n",
        "df.shape"
      ],
      "execution_count": null,
      "outputs": [
        {
          "output_type": "execute_result",
          "data": {
            "text/plain": [
              "(284807, 31)"
            ]
          },
          "metadata": {
            "tags": []
          },
          "execution_count": 9
        }
      ]
    },
    {
      "cell_type": "code",
      "metadata": {
        "colab": {
          "base_uri": "https://localhost:8080/"
        },
        "id": "ZdHBUVEXynnX",
        "outputId": "cacd3841-2537-4c73-deab-48204df2fbdf"
      },
      "source": [
        "# class distribution\n",
        "df.Class.value_counts()"
      ],
      "execution_count": null,
      "outputs": [
        {
          "output_type": "execute_result",
          "data": {
            "text/plain": [
              "0    284315\n",
              "1       492\n",
              "Name: Class, dtype: int64"
            ]
          },
          "metadata": {
            "tags": []
          },
          "execution_count": 10
        }
      ]
    },
    {
      "cell_type": "code",
      "metadata": {
        "colab": {
          "base_uri": "https://localhost:8080/"
        },
        "id": "DNzTUFqDy3T2",
        "outputId": "4e2da266-734d-485e-c947-5a9e13db3793"
      },
      "source": [
        "# percentage of the class labels\n",
        "df.Class.value_counts(normalize=True)*100"
      ],
      "execution_count": null,
      "outputs": [
        {
          "output_type": "execute_result",
          "data": {
            "text/plain": [
              "0    99.827251\n",
              "1     0.172749\n",
              "Name: Class, dtype: float64"
            ]
          },
          "metadata": {
            "tags": []
          },
          "execution_count": 11
        }
      ]
    },
    {
      "cell_type": "markdown",
      "metadata": {
        "id": "Z6J5X1a9zMV4"
      },
      "source": [
        "We have around only 0.17% of the data to be fradulent cases, which represents very highly imbalnce data."
      ]
    },
    {
      "cell_type": "code",
      "metadata": {
        "colab": {
          "base_uri": "https://localhost:8080/",
          "height": 350
        },
        "id": "m4Ov_7uYgnCd",
        "outputId": "5ca15535-9971-4421-f21a-650dafc6e016"
      },
      "source": [
        "# Distribution of Amount in the transations\n",
        "fig, ax = plt.subplots(1,2, figsize = (10,5))\n",
        "\n",
        "#non-fraudlent cases\n",
        "ax[0].hist(df.loc[df['Class'] == 0, 'Amount'], bins=200, label = 'Non-fraud')\n",
        "ax[0].set_title(\"Non-Fraud\")\n",
        "ax[0].set_xlabel(\"Amount\")\n",
        "\n",
        "# fraud cases\n",
        "ax[1].hist(df.loc[df['Class'] == 1, 'Amount'], bins=100, label = 'Fraud')\n",
        "ax[1].set_title(\"Fraud\")\n",
        "ax[1].set_xlabel(\"Amount\")\n",
        "\n",
        "plt.show()"
      ],
      "execution_count": null,
      "outputs": [
        {
          "output_type": "display_data",
          "data": {
            "image/png": "[encoded data removed]",
            "text/plain": [
              "<Figure size 720x360 with 2 Axes>"
            ]
          },
          "metadata": {
            "tags": [],
            "needs_background": "light"
          }
        }
      ]
    },
    {
      "cell_type": "markdown",
      "metadata": {
        "id": "vtn_16VNi9wy"
      },
      "source": [
        "We can see from the plots, for the non-fraud cases, while majority of the transactions are of very low Amount, some have high Amount. For the fraud cases also, majority of the transactions have low Amount and the maximum is only around 2000. It is hard to distinguisgh beteween the two cases from the plot above. So we can print some descriptive statistics."
      ]
    },
    {
      "cell_type": "code",
      "metadata": {
        "colab": {
          "base_uri": "https://localhost:8080/",
          "height": 143
        },
        "id": "_KVX5G3zgm_T",
        "outputId": "73053c43-1d5b-4396-bf49-e9b4d84b258e"
      },
      "source": [
        "# desscriptive statistics for the cases\n",
        "df.groupby('Class')['Amount'].describe()"
      ],
      "execution_count": null,
      "outputs": [
        {
          "output_type": "execute_result",
          "data": {
            "text/html": [
              "<div>\n",
              "<style scoped>\n",
              "    .dataframe tbody tr th:only-of-type {\n",
              "        vertical-align: middle;\n",
              "    }\n",
              "\n",
              "    .dataframe tbody tr th {\n",
              "        vertical-align: top;\n",
              "    }\n",
              "\n",
              "    .dataframe thead th {\n",
              "        text-align: right;\n",
              "    }\n",
              "</style>\n",
              "<table border=\"1\" class=\"dataframe\">\n",
              "  <thead>\n",
              "    <tr style=\"text-align: right;\">\n",
              "      <th></th>\n",
              "      <th>count</th>\n",
              "      <th>mean</th>\n",
              "      <th>std</th>\n",
              "      <th>min</th>\n",
              "      <th>25%</th>\n",
              "      <th>50%</th>\n",
              "      <th>75%</th>\n",
              "      <th>max</th>\n",
              "    </tr>\n",
              "    <tr>\n",
              "      <th>Class</th>\n",
              "      <th></th>\n",
              "      <th></th>\n",
              "      <th></th>\n",
              "      <th></th>\n",
              "      <th></th>\n",
              "      <th></th>\n",
              "      <th></th>\n",
              "      <th></th>\n",
              "    </tr>\n",
              "  </thead>\n",
              "  <tbody>\n",
              "    <tr>\n",
              "      <th>0</th>\n",
              "      <td>284315.0</td>\n",
              "      <td>88.291022</td>\n",
              "      <td>250.105092</td>\n",
              "      <td>0.0</td>\n",
              "      <td>5.65</td>\n",
              "      <td>22.00</td>\n",
              "      <td>77.05</td>\n",
              "      <td>25691.16</td>\n",
              "    </tr>\n",
              "    <tr>\n",
              "      <th>1</th>\n",
              "      <td>492.0</td>\n",
              "      <td>122.211321</td>\n",
              "      <td>256.683288</td>\n",
              "      <td>0.0</td>\n",
              "      <td>1.00</td>\n",
              "      <td>9.25</td>\n",
              "      <td>105.89</td>\n",
              "      <td>2125.87</td>\n",
              "    </tr>\n",
              "  </tbody>\n",
              "</table>\n",
              "</div>"
            ],
            "text/plain": [
              "          count        mean         std  min   25%    50%     75%       max\n",
              "Class                                                                      \n",
              "0      284315.0   88.291022  250.105092  0.0  5.65  22.00   77.05  25691.16\n",
              "1         492.0  122.211321  256.683288  0.0  1.00   9.25  105.89   2125.87"
            ]
          },
          "metadata": {
            "tags": []
          },
          "execution_count": 13
        }
      ]
    },
    {
      "cell_type": "markdown",
      "metadata": {
        "id": "1-31RnIvkYzT"
      },
      "source": [
        "From the summary statistics, fraud cases are seen to have on average higher amount in transactions."
      ]
    },
    {
      "cell_type": "code",
      "metadata": {
        "id": "LweFYCX1kkJj"
      },
      "source": [
        ""
      ],
      "execution_count": null,
      "outputs": []
    },
    {
      "cell_type": "code",
      "metadata": {
        "id": "Kv_i9UmFzfvP"
      },
      "source": [
        ""
      ],
      "execution_count": null,
      "outputs": []
    },
    {
      "cell_type": "markdown",
      "metadata": {
        "id": "q3NQIG4xzgCp"
      },
      "source": [
        "### Modeling with Supervised Classification"
      ]
    },
    {
      "cell_type": "code",
      "metadata": {
        "colab": {
          "base_uri": "https://localhost:8080/"
        },
        "id": "_pYmTdGRmRUa",
        "outputId": "3bd1bbbe-0376-457b-f4e9-43fd1a6f98d2"
      },
      "source": [
        "# separate the features and class label\n",
        "X = df.iloc[:,1:30]\n",
        "y = df.Class\n",
        "print(f'X shape: {X.shape}\\ny shape: {y.shape}')"
      ],
      "execution_count": null,
      "outputs": [
        {
          "output_type": "stream",
          "text": [
            "X shape: (284807, 29)\n",
            "y shape: (284807,)\n"
          ],
          "name": "stdout"
        }
      ]
    },
    {
      "cell_type": "code",
      "metadata": {
        "id": "ZgEkZoZDzpgP"
      },
      "source": [
        "from sklearn.model_selection import train_test_split\n",
        "from sklearn.metrics import confusion_matrix, classification_report, accuracy_score"
      ],
      "execution_count": null,
      "outputs": []
    },
    {
      "cell_type": "code",
      "metadata": {
        "id": "6JDQrdcwz1Ka"
      },
      "source": [
        "# train test split\n",
        "X_train, X_test, y_train, y_test = train_test_split(X, y, test_size=0.3, random_state=0)"
      ],
      "execution_count": null,
      "outputs": []
    },
    {
      "cell_type": "code",
      "metadata": {
        "colab": {
          "base_uri": "https://localhost:8080/",
          "height": 226
        },
        "id": "EV7LfzF0nh9u",
        "outputId": "883ed32b-07f0-4759-8844-074c43574c01"
      },
      "source": [
        "X_train.head()"
      ],
      "execution_count": null,
      "outputs": [
        {
          "output_type": "execute_result",
          "data": {
            "text/html": [
              "<div>\n",
              "<style scoped>\n",
              "    .dataframe tbody tr th:only-of-type {\n",
              "        vertical-align: middle;\n",
              "    }\n",
              "\n",
              "    .dataframe tbody tr th {\n",
              "        vertical-align: top;\n",
              "    }\n",
              "\n",
              "    .dataframe thead th {\n",
              "        text-align: right;\n",
              "    }\n",
              "</style>\n",
              "<table border=\"1\" class=\"dataframe\">\n",
              "  <thead>\n",
              "    <tr style=\"text-align: right;\">\n",
              "      <th></th>\n",
              "      <th>V1</th>\n",
              "      <th>V2</th>\n",
              "      <th>V3</th>\n",
              "      <th>V4</th>\n",
              "      <th>V5</th>\n",
              "      <th>V6</th>\n",
              "      <th>V7</th>\n",
              "      <th>V8</th>\n",
              "      <th>V9</th>\n",
              "      <th>V10</th>\n",
              "      <th>V11</th>\n",
              "      <th>V12</th>\n",
              "      <th>V13</th>\n",
              "      <th>V14</th>\n",
              "      <th>V15</th>\n",
              "      <th>V16</th>\n",
              "      <th>V17</th>\n",
              "      <th>V18</th>\n",
              "      <th>V19</th>\n",
              "      <th>V20</th>\n",
              "      <th>V21</th>\n",
              "      <th>V22</th>\n",
              "      <th>V23</th>\n",
              "      <th>V24</th>\n",
              "      <th>V25</th>\n",
              "      <th>V26</th>\n",
              "      <th>V27</th>\n",
              "      <th>V28</th>\n",
              "      <th>Amount</th>\n",
              "    </tr>\n",
              "  </thead>\n",
              "  <tbody>\n",
              "    <tr>\n",
              "      <th>161145</th>\n",
              "      <td>-0.132066</td>\n",
              "      <td>0.107044</td>\n",
              "      <td>-0.650588</td>\n",
              "      <td>-0.996032</td>\n",
              "      <td>1.814333</td>\n",
              "      <td>1.740740</td>\n",
              "      <td>0.496852</td>\n",
              "      <td>0.633016</td>\n",
              "      <td>0.017181</td>\n",
              "      <td>-0.362707</td>\n",
              "      <td>0.527911</td>\n",
              "      <td>0.505396</td>\n",
              "      <td>-0.742107</td>\n",
              "      <td>0.492430</td>\n",
              "      <td>-0.163585</td>\n",
              "      <td>-0.950404</td>\n",
              "      <td>0.262987</td>\n",
              "      <td>-1.760767</td>\n",
              "      <td>-0.939037</td>\n",
              "      <td>-0.062612</td>\n",
              "      <td>-0.062489</td>\n",
              "      <td>0.005292</td>\n",
              "      <td>0.251519</td>\n",
              "      <td>-2.466810</td>\n",
              "      <td>-0.889690</td>\n",
              "      <td>0.337462</td>\n",
              "      <td>0.306395</td>\n",
              "      <td>0.074817</td>\n",
              "      <td>47.89</td>\n",
              "    </tr>\n",
              "    <tr>\n",
              "      <th>204520</th>\n",
              "      <td>2.125994</td>\n",
              "      <td>0.014207</td>\n",
              "      <td>-1.514760</td>\n",
              "      <td>0.115021</td>\n",
              "      <td>0.598510</td>\n",
              "      <td>-0.333235</td>\n",
              "      <td>0.199289</td>\n",
              "      <td>-0.264353</td>\n",
              "      <td>0.384111</td>\n",
              "      <td>0.028747</td>\n",
              "      <td>-1.208334</td>\n",
              "      <td>0.838156</td>\n",
              "      <td>1.511476</td>\n",
              "      <td>-0.042076</td>\n",
              "      <td>-0.002894</td>\n",
              "      <td>0.080270</td>\n",
              "      <td>-0.658905</td>\n",
              "      <td>-0.747678</td>\n",
              "      <td>0.431762</td>\n",
              "      <td>-0.086076</td>\n",
              "      <td>-0.329368</td>\n",
              "      <td>-0.788150</td>\n",
              "      <td>0.267730</td>\n",
              "      <td>0.066122</td>\n",
              "      <td>-0.135785</td>\n",
              "      <td>0.203841</td>\n",
              "      <td>-0.068267</td>\n",
              "      <td>-0.057678</td>\n",
              "      <td>1.98</td>\n",
              "    </tr>\n",
              "    <tr>\n",
              "      <th>182659</th>\n",
              "      <td>-0.086694</td>\n",
              "      <td>0.166240</td>\n",
              "      <td>1.573127</td>\n",
              "      <td>0.687266</td>\n",
              "      <td>0.222359</td>\n",
              "      <td>1.102606</td>\n",
              "      <td>1.575093</td>\n",
              "      <td>-1.098608</td>\n",
              "      <td>0.763887</td>\n",
              "      <td>1.404677</td>\n",
              "      <td>1.346697</td>\n",
              "      <td>0.140822</td>\n",
              "      <td>0.159637</td>\n",
              "      <td>-1.147153</td>\n",
              "      <td>0.664997</td>\n",
              "      <td>-0.133032</td>\n",
              "      <td>-1.267675</td>\n",
              "      <td>0.818995</td>\n",
              "      <td>0.405276</td>\n",
              "      <td>0.052960</td>\n",
              "      <td>0.015324</td>\n",
              "      <td>1.063663</td>\n",
              "      <td>-0.410841</td>\n",
              "      <td>0.722723</td>\n",
              "      <td>-0.171733</td>\n",
              "      <td>-0.613543</td>\n",
              "      <td>-1.201571</td>\n",
              "      <td>-1.139931</td>\n",
              "      <td>170.10</td>\n",
              "    </tr>\n",
              "    <tr>\n",
              "      <th>25117</th>\n",
              "      <td>1.352339</td>\n",
              "      <td>-0.534984</td>\n",
              "      <td>0.555143</td>\n",
              "      <td>-0.629355</td>\n",
              "      <td>-1.144170</td>\n",
              "      <td>-0.852967</td>\n",
              "      <td>-0.642128</td>\n",
              "      <td>-0.032659</td>\n",
              "      <td>-0.654482</td>\n",
              "      <td>0.619206</td>\n",
              "      <td>0.103615</td>\n",
              "      <td>-1.067971</td>\n",
              "      <td>-1.227629</td>\n",
              "      <td>0.197196</td>\n",
              "      <td>1.151364</td>\n",
              "      <td>0.846905</td>\n",
              "      <td>0.710309</td>\n",
              "      <td>-1.963506</td>\n",
              "      <td>0.130406</td>\n",
              "      <td>-0.066712</td>\n",
              "      <td>-0.014814</td>\n",
              "      <td>-0.180379</td>\n",
              "      <td>0.178112</td>\n",
              "      <td>0.347720</td>\n",
              "      <td>0.151810</td>\n",
              "      <td>-0.404361</td>\n",
              "      <td>0.013746</td>\n",
              "      <td>0.016152</td>\n",
              "      <td>5.96</td>\n",
              "    </tr>\n",
              "    <tr>\n",
              "      <th>227642</th>\n",
              "      <td>-1.526760</td>\n",
              "      <td>0.647782</td>\n",
              "      <td>0.615391</td>\n",
              "      <td>-0.561114</td>\n",
              "      <td>0.836950</td>\n",
              "      <td>-0.514251</td>\n",
              "      <td>0.984325</td>\n",
              "      <td>-0.097430</td>\n",
              "      <td>-0.062634</td>\n",
              "      <td>-1.033567</td>\n",
              "      <td>-0.706095</td>\n",
              "      <td>-0.612354</td>\n",
              "      <td>-0.336939</td>\n",
              "      <td>-1.384147</td>\n",
              "      <td>0.314279</td>\n",
              "      <td>0.552201</td>\n",
              "      <td>0.512582</td>\n",
              "      <td>0.370183</td>\n",
              "      <td>-0.163736</td>\n",
              "      <td>-0.073333</td>\n",
              "      <td>-0.221533</td>\n",
              "      <td>-0.393158</td>\n",
              "      <td>-0.214990</td>\n",
              "      <td>0.588447</td>\n",
              "      <td>0.679496</td>\n",
              "      <td>0.518434</td>\n",
              "      <td>0.065022</td>\n",
              "      <td>0.147294</td>\n",
              "      <td>89.95</td>\n",
              "    </tr>\n",
              "  </tbody>\n",
              "</table>\n",
              "</div>"
            ],
            "text/plain": [
              "              V1        V2        V3  ...       V27       V28  Amount\n",
              "161145 -0.132066  0.107044 -0.650588  ...  0.306395  0.074817   47.89\n",
              "204520  2.125994  0.014207 -1.514760  ... -0.068267 -0.057678    1.98\n",
              "182659 -0.086694  0.166240  1.573127  ... -1.201571 -1.139931  170.10\n",
              "25117   1.352339 -0.534984  0.555143  ...  0.013746  0.016152    5.96\n",
              "227642 -1.526760  0.647782  0.615391  ...  0.065022  0.147294   89.95\n",
              "\n",
              "[5 rows x 29 columns]"
            ]
          },
          "metadata": {
            "tags": []
          },
          "execution_count": 38
        }
      ]
    },
    {
      "cell_type": "markdown",
      "metadata": {
        "id": "QeWRrjyCzmwg"
      },
      "source": [
        "**Random Forest**"
      ]
    },
    {
      "cell_type": "code",
      "metadata": {
        "id": "qecg4Q-RzlRv"
      },
      "source": [
        "from sklearn.ensemble import RandomForestClassifier"
      ],
      "execution_count": null,
      "outputs": []
    },
    {
      "cell_type": "code",
      "metadata": {
        "colab": {
          "base_uri": "https://localhost:8080/"
        },
        "id": "0zlycRzez0g-",
        "outputId": "4613b7c0-0580-4f23-a683-5edb063735c2"
      },
      "source": [
        "# Define the model as the random forest\n",
        "model = RandomForestClassifier(random_state=5, n_estimators=50)\n",
        "\n",
        "# Fit the model to our training set\n",
        "model.fit(X_train, y_train)"
      ],
      "execution_count": null,
      "outputs": [
        {
          "output_type": "execute_result",
          "data": {
            "text/plain": [
              "RandomForestClassifier(bootstrap=True, ccp_alpha=0.0, class_weight=None,\n",
              "                       criterion='gini', max_depth=None, max_features='auto',\n",
              "                       max_leaf_nodes=None, max_samples=None,\n",
              "                       min_impurity_decrease=0.0, min_impurity_split=None,\n",
              "                       min_samples_leaf=1, min_samples_split=2,\n",
              "                       min_weight_fraction_leaf=0.0, n_estimators=50,\n",
              "                       n_jobs=None, oob_score=False, random_state=5, verbose=0,\n",
              "                       warm_start=False)"
            ]
          },
          "metadata": {
            "tags": []
          },
          "execution_count": 18
        }
      ]
    },
    {
      "cell_type": "code",
      "metadata": {
        "id": "Kpdt_eWqz_ch"
      },
      "source": [
        "# Obtain predictions from the test data \n",
        "predicted = model.predict(X_test)"
      ],
      "execution_count": null,
      "outputs": []
    },
    {
      "cell_type": "code",
      "metadata": {
        "colab": {
          "base_uri": "https://localhost:8080/"
        },
        "id": "3uhAKSNJ0CEt",
        "outputId": "60e004ec-ea41-42ab-9be0-d744a7fc4f3d"
      },
      "source": [
        "#Accuracy score\n",
        "print(f'Accuracy Score:\\n{accuracy_score(y_test, predicted):0.5f}')"
      ],
      "execution_count": null,
      "outputs": [
        {
          "output_type": "stream",
          "text": [
            "Accuracy Score:\n",
            "0.99947\n"
          ],
          "name": "stdout"
        }
      ]
    },
    {
      "cell_type": "markdown",
      "metadata": {
        "id": "zwb48APYoQ3Z"
      },
      "source": [
        "While we recieve a very high Accuracy score, it is not a good evaluation metric for an unbalanced dataset. As we saw we had only 0.17 % of the fraud cases and 99.83% of non-fraud cases. So, if we were to predict all cases to be non-fruad, we could already achieve a high accuracy of 99.83%, but it would completely misclassify all of the fraud cases. "
      ]
    },
    {
      "cell_type": "code",
      "metadata": {
        "colab": {
          "base_uri": "https://localhost:8080/"
        },
        "id": "jpu7NQ690CBe",
        "outputId": "811ead1f-be64-45d2-a2f2-5028de2eb2b4"
      },
      "source": [
        "# confusion matrix\n",
        "confusion_matrix(y_test, predicted)"
      ],
      "execution_count": null,
      "outputs": [
        {
          "output_type": "execute_result",
          "data": {
            "text/plain": [
              "array([[85291,     5],\n",
              "       [   40,   107]])"
            ]
          },
          "metadata": {
            "tags": []
          },
          "execution_count": 21
        }
      ]
    },
    {
      "cell_type": "markdown",
      "metadata": {
        "id": "zQp1yORupDZc"
      },
      "source": [
        "From the confusion matrix, we see that even we had a very high accuracy of about 99.9%, our model still misclassified 40 of the fraud cases as non fraud, but we want the model to make less mistake in correctly classifying fraud cases becuases they cost more to us.   \n",
        "\n",
        "Therefore, for imbalanced datasets we need to explore other measures of evaluation, such as AUC socre, Precision, Recall and F1 score"
      ]
    },
    {
      "cell_type": "code",
      "metadata": {
        "id": "g2cKKjNN0B_I"
      },
      "source": [
        "from sklearn.metrics import f1_score, roc_auc_score, roc_curve, precision_recall_curve, average_precision_score, recall_score"
      ],
      "execution_count": null,
      "outputs": []
    },
    {
      "cell_type": "code",
      "metadata": {
        "id": "qZi5MFXBp5Ru"
      },
      "source": [
        "# make predictions in form of probablities\n",
        "pred_prob = model.predict_proba(X_test)"
      ],
      "execution_count": null,
      "outputs": []
    },
    {
      "cell_type": "code",
      "metadata": {
        "colab": {
          "base_uri": "https://localhost:8080/"
        },
        "id": "IAnHkSv6qBEy",
        "outputId": "393815ca-2122-49dd-cb92-c6d63025b476"
      },
      "source": [
        "# auc score\n",
        "print(f'Auc_score: {round(roc_auc_score(y_test, pred_prob[:,1]), 3)}') \n",
        "\n",
        "# Precison \n",
        "print(f'PR_AUC_score: {round(average_precision_score(y_test, pred_prob[:,1]),3)}')\n",
        "\n",
        "# F1 score\n",
        "print(f'F1_score: {round(f1_score(y_test, predicted),3)}')\n",
        "\n",
        "# Recall\n",
        "print(f'Recall: {round(recall_score(y_test, predicted), 3)}')\n"
      ],
      "execution_count": null,
      "outputs": [
        {
          "output_type": "stream",
          "text": [
            "Auc_score: 0.945\n",
            "PR_AUC_score: 0.827\n",
            "F1_score: 0.826\n",
            "Recall: 0.728\n"
          ],
          "name": "stdout"
        }
      ]
    },
    {
      "cell_type": "markdown",
      "metadata": {
        "id": "sITXE381uxNX"
      },
      "source": [
        "**ROC-AUC curve and PR-Curve**"
      ]
    },
    {
      "cell_type": "code",
      "metadata": {
        "id": "4PiX7CSQuwBX"
      },
      "source": [
        "from sklearn.metrics import plot_roc_curve, plot_precision_recall_curve"
      ],
      "execution_count": null,
      "outputs": []
    },
    {
      "cell_type": "code",
      "metadata": {
        "colab": {
          "base_uri": "https://localhost:8080/",
          "height": 279
        },
        "id": "GmC4WhWmt7UP",
        "outputId": "310ac542-10cf-44af-f25d-d5d783ac02b0"
      },
      "source": [
        "# roc curve\n",
        "plot_roc_curve(model, X_test, y_test,color='darkorange')\n",
        "plt.plot([0, 1], [0, 1], color='navy', lw=2, linestyle='--');"
      ],
      "execution_count": null,
      "outputs": [
        {
          "output_type": "display_data",
          "data": {
            "image/png": "[encoded data removed]",
            "text/plain": [
              "<Figure size 432x288 with 1 Axes>"
            ]
          },
          "metadata": {
            "tags": [],
            "needs_background": "light"
          }
        }
      ]
    },
    {
      "cell_type": "code",
      "metadata": {
        "colab": {
          "base_uri": "https://localhost:8080/",
          "height": 297
        },
        "id": "_BTQtKBhu4cC",
        "outputId": "67f80052-6546-465c-f1b0-269ccfce13fd"
      },
      "source": [
        "# pr curve\n",
        "plot_precision_recall_curve(model, X_test, y_test, color = 'darkorange')\n",
        "plt.axhline(y = 0.0017, color = \"navy\", lw = 2, linestyle=\"--\")\n",
        "plt.legend(loc=\"center left\")"
      ],
      "execution_count": null,
      "outputs": [
        {
          "output_type": "execute_result",
          "data": {
            "text/plain": [
              "<matplotlib.legend.Legend at 0x7fa73005cb90>"
            ]
          },
          "metadata": {
            "tags": []
          },
          "execution_count": 27
        },
        {
          "output_type": "display_data",
          "data": {
            "image/png": "[encoded data removed]",
            "text/plain": [
              "<Figure size 432x288 with 1 Axes>"
            ]
          },
          "metadata": {
            "tags": [],
            "needs_background": "light"
          }
        }
      ]
    },
    {
      "cell_type": "code",
      "metadata": {
        "id": "elWlgsDRwHQT"
      },
      "source": [
        ""
      ],
      "execution_count": null,
      "outputs": []
    },
    {
      "cell_type": "markdown",
      "metadata": {
        "id": "MjD20QqAxOuC"
      },
      "source": [
        "**Using Class weights**  \n",
        "Since are data is very imbalanced, we can assign class weights in our model to give more importance to the class of interest, which is the fraud class in this case."
      ]
    },
    {
      "cell_type": "code",
      "metadata": {
        "colab": {
          "base_uri": "https://localhost:8080/"
        },
        "id": "FGDMDo4txgRR",
        "outputId": "4dfabe50-0167-42d4-bb7d-fbd49d003e0d"
      },
      "source": [
        "model = RandomForestClassifier(bootstrap=True,\n",
        "                               class_weight={0:1, 1:12},\n",
        "                               criterion='entropy',\n",
        "                               # Change depth of model\n",
        "                               max_depth=10,\n",
        "                               # Change the number of samples in leaf nodes\n",
        "                               min_samples_leaf=10, \n",
        "                               # Change the number of trees to use\n",
        "                               n_estimators=50,\n",
        "                               n_jobs=-1,\n",
        "                               random_state=5)\n",
        "\n",
        "model.fit(X_train, y_train)"
      ],
      "execution_count": null,
      "outputs": [
        {
          "output_type": "execute_result",
          "data": {
            "text/plain": [
              "RandomForestClassifier(bootstrap=True, ccp_alpha=0.0,\n",
              "                       class_weight={0: 1, 1: 12}, criterion='entropy',\n",
              "                       max_depth=10, max_features='auto', max_leaf_nodes=None,\n",
              "                       max_samples=None, min_impurity_decrease=0.0,\n",
              "                       min_impurity_split=None, min_samples_leaf=10,\n",
              "                       min_samples_split=2, min_weight_fraction_leaf=0.0,\n",
              "                       n_estimators=50, n_jobs=-1, oob_score=False,\n",
              "                       random_state=5, verbose=0, warm_start=False)"
            ]
          },
          "metadata": {
            "tags": []
          },
          "execution_count": 28
        }
      ]
    },
    {
      "cell_type": "code",
      "metadata": {
        "id": "W0mMp8GWyOPZ"
      },
      "source": [
        "#make predictions\n",
        "predicted = model.predict(X_test)\n",
        "pred_prob = model.predict_proba(X_test)"
      ],
      "execution_count": null,
      "outputs": []
    },
    {
      "cell_type": "code",
      "metadata": {
        "colab": {
          "base_uri": "https://localhost:8080/"
        },
        "id": "PFil4QbZyOKu",
        "outputId": "7f40021e-d296-4287-d298-13b7b8fcbc27"
      },
      "source": [
        "# confusion matrix, classification report\n",
        "print(classification_report(y_test, predicted))\n",
        "print()\n",
        "confusion_matrix(y_test, predicted)"
      ],
      "execution_count": null,
      "outputs": [
        {
          "output_type": "stream",
          "text": [
            "              precision    recall  f1-score   support\n",
            "\n",
            "           0       1.00      1.00      1.00     85296\n",
            "           1       0.87      0.81      0.84       147\n",
            "\n",
            "    accuracy                           1.00     85443\n",
            "   macro avg       0.93      0.90      0.92     85443\n",
            "weighted avg       1.00      1.00      1.00     85443\n",
            "\n",
            "\n"
          ],
          "name": "stdout"
        },
        {
          "output_type": "execute_result",
          "data": {
            "text/plain": [
              "array([[85278,    18],\n",
              "       [   28,   119]])"
            ]
          },
          "metadata": {
            "tags": []
          },
          "execution_count": 30
        }
      ]
    },
    {
      "cell_type": "code",
      "metadata": {
        "colab": {
          "base_uri": "https://localhost:8080/"
        },
        "id": "YY-gaWJWyOII",
        "outputId": "73565ef3-1316-460d-ff56-695a5f797c5b"
      },
      "source": [
        "# Auc score\n",
        "print(f'AUC Score: {round(roc_auc_score(y_test, pred_prob[:,1]),3)}')"
      ],
      "execution_count": null,
      "outputs": [
        {
          "output_type": "stream",
          "text": [
            "AUC Score: 0.985\n"
          ],
          "name": "stdout"
        }
      ]
    },
    {
      "cell_type": "markdown",
      "metadata": {
        "id": "yGrDII8uzybL"
      },
      "source": [
        "With class weights, we have improved our results. The model now only misclassified 28 cases of fraud as non-frauds compared to 40 earlier. Also, our AUC score has increased from 0.945 to 0.985"
      ]
    },
    {
      "cell_type": "markdown",
      "metadata": {
        "id": "9KgnsXOF0MOD"
      },
      "source": [
        "We can further try to improve the model results through hyperparameter tuninig of the model."
      ]
    },
    {
      "cell_type": "markdown",
      "metadata": {
        "id": "jyC2pCQn0Uwh"
      },
      "source": [
        "**Grid Search**"
      ]
    },
    {
      "cell_type": "code",
      "metadata": {
        "id": "1zTHRLKY0wuG"
      },
      "source": [
        "from sklearn.model_selection import GridSearchCV, RandomizedSearchCV"
      ],
      "execution_count": null,
      "outputs": []
    },
    {
      "cell_type": "code",
      "metadata": {
        "id": "guSXcIWqyOBp"
      },
      "source": [
        "# Define the parameter sets to test\n",
        "param_grid = {'n_estimators': [20, 50,100],\n",
        "              'max_features': ['auto', 'log2'], \n",
        "              'max_depth': [4, 8, 10, 12],\n",
        "              'criterion': ['gini', 'entropy']}\n",
        "\n",
        "# Define the model to use\n",
        "model = RandomForestClassifier(class_weight={0:1, 1:12},min_samples_leaf=10,random_state=5)"
      ],
      "execution_count": null,
      "outputs": []
    },
    {
      "cell_type": "code",
      "metadata": {
        "id": "hvDnCJkZ0q-E"
      },
      "source": [
        "# Combine the parameter sets with the defined model\n",
        "CV_model = RandomizedSearchCV(estimator=model, param_distributions=param_grid, cv=3, scoring='roc_auc', n_jobs=-1)"
      ],
      "execution_count": null,
      "outputs": []
    },
    {
      "cell_type": "code",
      "metadata": {
        "colab": {
          "base_uri": "https://localhost:8080/"
        },
        "id": "pEi5JQKHfcNX",
        "outputId": "423a6d4d-e9ef-48ad-a7e8-002a95aafd2a"
      },
      "source": [
        "# Fit the model to our training data and obtain best parameters\n",
        "CV_model.fit(X_train, y_train)"
      ],
      "execution_count": null,
      "outputs": [
        {
          "output_type": "execute_result",
          "data": {
            "text/plain": [
              "RandomizedSearchCV(cv=3, error_score=nan,\n",
              "                   estimator=RandomForestClassifier(bootstrap=True,\n",
              "                                                    ccp_alpha=0.0,\n",
              "                                                    class_weight={0: 1, 1: 12},\n",
              "                                                    criterion='gini',\n",
              "                                                    max_depth=None,\n",
              "                                                    max_features='auto',\n",
              "                                                    max_leaf_nodes=None,\n",
              "                                                    max_samples=None,\n",
              "                                                    min_impurity_decrease=0.0,\n",
              "                                                    min_impurity_split=None,\n",
              "                                                    min_samples_leaf=10,\n",
              "                                                    min_samples_split=2,\n",
              "                                                    min_weight_fraction_leaf=0.0,\n",
              "                                                    n_estimators=100,\n",
              "                                                    n_jobs=None,\n",
              "                                                    oob_score=False,\n",
              "                                                    random_state=5, verbose=0,\n",
              "                                                    warm_start=False),\n",
              "                   iid='deprecated', n_iter=10, n_jobs=-1,\n",
              "                   param_distributions={'criterion': ['gini', 'entropy'],\n",
              "                                        'max_depth': [4, 8, 10, 12],\n",
              "                                        'max_features': ['auto', 'log2'],\n",
              "                                        'n_estimators': [20, 50, 100]},\n",
              "                   pre_dispatch='2*n_jobs', random_state=None, refit=True,\n",
              "                   return_train_score=False, scoring='roc_auc', verbose=0)"
            ]
          },
          "metadata": {
            "tags": []
          },
          "execution_count": 56
        }
      ]
    },
    {
      "cell_type": "code",
      "metadata": {
        "colab": {
          "base_uri": "https://localhost:8080/"
        },
        "id": "Ag_NY3IwiMoV",
        "outputId": "aea686ad-a328-49ff-f975-8fd41694e72a"
      },
      "source": [
        "# best parameters\n",
        "CV_model.best_params_"
      ],
      "execution_count": null,
      "outputs": [
        {
          "output_type": "execute_result",
          "data": {
            "text/plain": [
              "{'criterion': 'entropy',\n",
              " 'max_depth': 8,\n",
              " 'max_features': 'log2',\n",
              " 'n_estimators': 100}"
            ]
          },
          "metadata": {
            "tags": []
          },
          "execution_count": 57
        }
      ]
    },
    {
      "cell_type": "code",
      "metadata": {
        "id": "Dduly-_litHR"
      },
      "source": [
        "model = CV_model.best_estimator_"
      ],
      "execution_count": null,
      "outputs": []
    },
    {
      "cell_type": "code",
      "metadata": {
        "id": "gArLtB6Ae4AT"
      },
      "source": [
        "#make predictions\n",
        "predicted = model.predict(X_test)\n",
        "pred_prob = model.predict_proba(X_test)"
      ],
      "execution_count": null,
      "outputs": []
    },
    {
      "cell_type": "code",
      "metadata": {
        "colab": {
          "base_uri": "https://localhost:8080/"
        },
        "id": "ylc5hgCpe4AU",
        "outputId": "3e6f7b27-e68c-445f-e029-97a115977206"
      },
      "source": [
        "# confusion matrix, classification report\n",
        "print(classification_report(y_test, predicted))\n",
        "print()\n",
        "confusion_matrix(y_test, predicted)"
      ],
      "execution_count": null,
      "outputs": [
        {
          "output_type": "stream",
          "text": [
            "              precision    recall  f1-score   support\n",
            "\n",
            "           0       1.00      1.00      1.00     85296\n",
            "           1       0.85      0.80      0.82       147\n",
            "\n",
            "    accuracy                           1.00     85443\n",
            "   macro avg       0.93      0.90      0.91     85443\n",
            "weighted avg       1.00      1.00      1.00     85443\n",
            "\n",
            "\n"
          ],
          "name": "stdout"
        },
        {
          "output_type": "execute_result",
          "data": {
            "text/plain": [
              "array([[85276,    20],\n",
              "       [   30,   117]])"
            ]
          },
          "metadata": {
            "tags": []
          },
          "execution_count": 60
        }
      ]
    },
    {
      "cell_type": "code",
      "metadata": {
        "colab": {
          "base_uri": "https://localhost:8080/"
        },
        "id": "x8hmAFzUe4AV",
        "outputId": "ddeb9f14-66a8-4a53-85b4-9258b1d8c45d"
      },
      "source": [
        "# Auc score\n",
        "print(f'AUC Score: {round(roc_auc_score(y_test, pred_prob[:,1]),3)}')"
      ],
      "execution_count": null,
      "outputs": [
        {
          "output_type": "stream",
          "text": [
            "AUC Score: 0.984\n"
          ],
          "name": "stdout"
        }
      ]
    },
    {
      "cell_type": "markdown",
      "metadata": {
        "id": "eWVDghovn7u3"
      },
      "source": [
        "With the grid search we did not receive any improvement, we could try searching with more parameters specifications."
      ]
    },
    {
      "cell_type": "code",
      "metadata": {
        "id": "DKAH8cF1oGGg"
      },
      "source": [
        ""
      ],
      "execution_count": null,
      "outputs": []
    }
  ]
}