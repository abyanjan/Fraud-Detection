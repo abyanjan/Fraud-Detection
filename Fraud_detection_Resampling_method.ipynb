{
  "nbformat": 4,
  "nbformat_minor": 0,
  "metadata": {
    "colab": {
      "name": "Fraud detection-Resampling method.ipynb",
      "provenance": [],
      "authorship_tag": "ABX9TyNblmOzs1ik5Yv51PL02vv2",
      "include_colab_link": true
    },
    "kernelspec": {
      "name": "python3",
      "display_name": "Python 3"
    },
    "language_info": {
      "name": "python"
    }
  },
  "cells": [
    {
      "cell_type": "markdown",
      "metadata": {
        "id": "view-in-github",
        "colab_type": "text"
      },
      "source": [
        "<a href=\"https://colab.research.google.com/github/abyanjan/Fraud-Detection/blob/master/Fraud_detection_Resampling_method.ipynb\" target=\"_parent\"><img src=\"https://colab.research.google.com/assets/colab-badge.svg\" alt=\"Open In Colab\"/></a>"
      ]
    },
    {
      "cell_type": "markdown",
      "metadata": {
        "id": "dSJUgG4mgLjU"
      },
      "source": [
        "## FRAUD DETECTION"
      ]
    },
    {
      "cell_type": "code",
      "metadata": {
        "colab": {
          "base_uri": "https://localhost:8080/"
        },
        "id": "tVBDx0IYgRWk",
        "outputId": "b5b3fc16-99e1-4190-e6d4-0922d2a867c5"
      },
      "source": [
        "!unzip chapter_1.zip"
      ],
      "execution_count": null,
      "outputs": [
        {
          "output_type": "stream",
          "text": [
            "Archive:  chapter_1.zip\n",
            "   creating: chapter_1/\n",
            "  inflating: chapter_1/creditcard_sampledata_3.csv  \n",
            "  inflating: chapter_1/creditcard_sampledata.csv  \n"
          ],
          "name": "stdout"
        }
      ]
    },
    {
      "cell_type": "code",
      "metadata": {
        "id": "AgYhTJd0f9X_"
      },
      "source": [
        "import pandas as pd\n",
        "import numpy as np\n",
        "import matplotlib.pyplot as plt"
      ],
      "execution_count": null,
      "outputs": []
    },
    {
      "cell_type": "code",
      "metadata": {
        "colab": {
          "base_uri": "https://localhost:8080/",
          "height": 226
        },
        "id": "HiqgII0rgYiE",
        "outputId": "cf439db0-249e-4fb8-81a6-e47e6cf2f63e"
      },
      "source": [
        "# load data\n",
        "df = pd.read_csv(\"chapter_1/creditcard_sampledata_3.csv\", index_col=0)\n",
        "df.head()"
      ],
      "execution_count": null,
      "outputs": [
        {
          "output_type": "execute_result",
          "data": {
            "text/html": [
              "<div>\n",
              "<style scoped>\n",
              "    .dataframe tbody tr th:only-of-type {\n",
              "        vertical-align: middle;\n",
              "    }\n",
              "\n",
              "    .dataframe tbody tr th {\n",
              "        vertical-align: top;\n",
              "    }\n",
              "\n",
              "    .dataframe thead th {\n",
              "        text-align: right;\n",
              "    }\n",
              "</style>\n",
              "<table border=\"1\" class=\"dataframe\">\n",
              "  <thead>\n",
              "    <tr style=\"text-align: right;\">\n",
              "      <th></th>\n",
              "      <th>V1</th>\n",
              "      <th>V2</th>\n",
              "      <th>V3</th>\n",
              "      <th>V4</th>\n",
              "      <th>V5</th>\n",
              "      <th>V6</th>\n",
              "      <th>V7</th>\n",
              "      <th>V8</th>\n",
              "      <th>V9</th>\n",
              "      <th>V10</th>\n",
              "      <th>V11</th>\n",
              "      <th>V12</th>\n",
              "      <th>V13</th>\n",
              "      <th>V14</th>\n",
              "      <th>V15</th>\n",
              "      <th>V16</th>\n",
              "      <th>V17</th>\n",
              "      <th>V18</th>\n",
              "      <th>V19</th>\n",
              "      <th>V20</th>\n",
              "      <th>V21</th>\n",
              "      <th>V22</th>\n",
              "      <th>V23</th>\n",
              "      <th>V24</th>\n",
              "      <th>V25</th>\n",
              "      <th>V26</th>\n",
              "      <th>V27</th>\n",
              "      <th>V28</th>\n",
              "      <th>Amount</th>\n",
              "      <th>Class</th>\n",
              "    </tr>\n",
              "  </thead>\n",
              "  <tbody>\n",
              "    <tr>\n",
              "      <th>258647</th>\n",
              "      <td>1.725265</td>\n",
              "      <td>-1.337256</td>\n",
              "      <td>-1.012687</td>\n",
              "      <td>-0.361656</td>\n",
              "      <td>-1.431611</td>\n",
              "      <td>-1.098681</td>\n",
              "      <td>-0.842274</td>\n",
              "      <td>-0.026594</td>\n",
              "      <td>-0.032409</td>\n",
              "      <td>0.215113</td>\n",
              "      <td>1.618952</td>\n",
              "      <td>-0.654046</td>\n",
              "      <td>-1.442665</td>\n",
              "      <td>-1.546538</td>\n",
              "      <td>-0.230008</td>\n",
              "      <td>1.785539</td>\n",
              "      <td>1.419793</td>\n",
              "      <td>0.071666</td>\n",
              "      <td>0.233031</td>\n",
              "      <td>0.275911</td>\n",
              "      <td>0.414524</td>\n",
              "      <td>0.793434</td>\n",
              "      <td>0.028887</td>\n",
              "      <td>0.419421</td>\n",
              "      <td>-0.367529</td>\n",
              "      <td>-0.155634</td>\n",
              "      <td>-0.015768</td>\n",
              "      <td>0.010790</td>\n",
              "      <td>189.00</td>\n",
              "      <td>0</td>\n",
              "    </tr>\n",
              "    <tr>\n",
              "      <th>69263</th>\n",
              "      <td>0.683254</td>\n",
              "      <td>-1.681875</td>\n",
              "      <td>0.533349</td>\n",
              "      <td>-0.326064</td>\n",
              "      <td>-1.455603</td>\n",
              "      <td>0.101832</td>\n",
              "      <td>-0.520590</td>\n",
              "      <td>0.114036</td>\n",
              "      <td>-0.601760</td>\n",
              "      <td>0.444011</td>\n",
              "      <td>1.521570</td>\n",
              "      <td>0.499202</td>\n",
              "      <td>-0.127849</td>\n",
              "      <td>-0.237253</td>\n",
              "      <td>-0.752351</td>\n",
              "      <td>0.667190</td>\n",
              "      <td>0.724785</td>\n",
              "      <td>-1.736615</td>\n",
              "      <td>0.702088</td>\n",
              "      <td>0.638186</td>\n",
              "      <td>0.116898</td>\n",
              "      <td>-0.304605</td>\n",
              "      <td>-0.125547</td>\n",
              "      <td>0.244848</td>\n",
              "      <td>0.069163</td>\n",
              "      <td>-0.460712</td>\n",
              "      <td>-0.017068</td>\n",
              "      <td>0.063542</td>\n",
              "      <td>315.17</td>\n",
              "      <td>0</td>\n",
              "    </tr>\n",
              "    <tr>\n",
              "      <th>96552</th>\n",
              "      <td>1.067973</td>\n",
              "      <td>-0.656667</td>\n",
              "      <td>1.029738</td>\n",
              "      <td>0.253899</td>\n",
              "      <td>-1.172715</td>\n",
              "      <td>0.073232</td>\n",
              "      <td>-0.745771</td>\n",
              "      <td>0.249803</td>\n",
              "      <td>1.383057</td>\n",
              "      <td>-0.483771</td>\n",
              "      <td>-0.782780</td>\n",
              "      <td>0.005242</td>\n",
              "      <td>-1.273288</td>\n",
              "      <td>-0.269260</td>\n",
              "      <td>0.091287</td>\n",
              "      <td>-0.347973</td>\n",
              "      <td>0.495328</td>\n",
              "      <td>-0.925949</td>\n",
              "      <td>0.099138</td>\n",
              "      <td>-0.083859</td>\n",
              "      <td>-0.189315</td>\n",
              "      <td>-0.426743</td>\n",
              "      <td>0.079539</td>\n",
              "      <td>0.129692</td>\n",
              "      <td>0.002778</td>\n",
              "      <td>0.970498</td>\n",
              "      <td>-0.035056</td>\n",
              "      <td>0.017313</td>\n",
              "      <td>59.98</td>\n",
              "      <td>0</td>\n",
              "    </tr>\n",
              "    <tr>\n",
              "      <th>281898</th>\n",
              "      <td>0.119513</td>\n",
              "      <td>0.729275</td>\n",
              "      <td>-1.678879</td>\n",
              "      <td>-1.551408</td>\n",
              "      <td>3.128914</td>\n",
              "      <td>3.210632</td>\n",
              "      <td>0.356276</td>\n",
              "      <td>0.920374</td>\n",
              "      <td>-0.160589</td>\n",
              "      <td>-0.801748</td>\n",
              "      <td>0.137341</td>\n",
              "      <td>-0.156740</td>\n",
              "      <td>-0.429388</td>\n",
              "      <td>-0.752392</td>\n",
              "      <td>0.155272</td>\n",
              "      <td>0.215068</td>\n",
              "      <td>0.352222</td>\n",
              "      <td>-0.376168</td>\n",
              "      <td>-0.398920</td>\n",
              "      <td>0.043715</td>\n",
              "      <td>-0.335825</td>\n",
              "      <td>-0.906171</td>\n",
              "      <td>0.108350</td>\n",
              "      <td>0.593062</td>\n",
              "      <td>-0.424303</td>\n",
              "      <td>0.164201</td>\n",
              "      <td>0.245881</td>\n",
              "      <td>0.071029</td>\n",
              "      <td>0.89</td>\n",
              "      <td>0</td>\n",
              "    </tr>\n",
              "    <tr>\n",
              "      <th>86917</th>\n",
              "      <td>1.271253</td>\n",
              "      <td>0.275694</td>\n",
              "      <td>0.159568</td>\n",
              "      <td>1.003096</td>\n",
              "      <td>-0.128535</td>\n",
              "      <td>-0.608730</td>\n",
              "      <td>0.088777</td>\n",
              "      <td>-0.145336</td>\n",
              "      <td>0.156047</td>\n",
              "      <td>0.022707</td>\n",
              "      <td>-0.963306</td>\n",
              "      <td>-0.228074</td>\n",
              "      <td>-0.324933</td>\n",
              "      <td>0.390609</td>\n",
              "      <td>1.065923</td>\n",
              "      <td>0.285930</td>\n",
              "      <td>-0.627072</td>\n",
              "      <td>0.170175</td>\n",
              "      <td>-0.215912</td>\n",
              "      <td>-0.147394</td>\n",
              "      <td>0.031958</td>\n",
              "      <td>0.123503</td>\n",
              "      <td>-0.174528</td>\n",
              "      <td>-0.147535</td>\n",
              "      <td>0.735909</td>\n",
              "      <td>-0.262270</td>\n",
              "      <td>0.015577</td>\n",
              "      <td>0.015955</td>\n",
              "      <td>6.53</td>\n",
              "      <td>0</td>\n",
              "    </tr>\n",
              "  </tbody>\n",
              "</table>\n",
              "</div>"
            ],
            "text/plain": [
              "              V1        V2        V3  ...       V28  Amount  Class\n",
              "258647  1.725265 -1.337256 -1.012687  ...  0.010790  189.00      0\n",
              "69263   0.683254 -1.681875  0.533349  ...  0.063542  315.17      0\n",
              "96552   1.067973 -0.656667  1.029738  ...  0.017313   59.98      0\n",
              "281898  0.119513  0.729275 -1.678879  ...  0.071029    0.89      0\n",
              "86917   1.271253  0.275694  0.159568  ...  0.015955    6.53      0\n",
              "\n",
              "[5 rows x 30 columns]"
            ]
          },
          "metadata": {
            "tags": []
          },
          "execution_count": 31
        }
      ]
    },
    {
      "cell_type": "code",
      "metadata": {
        "colab": {
          "base_uri": "https://localhost:8080/"
        },
        "id": "82obYLxdg7ZF",
        "outputId": "e3292f86-4724-4588-a919-b17fe319628d"
      },
      "source": [
        "# Explore the features available in your dataframe\n",
        "print(df.info())"
      ],
      "execution_count": null,
      "outputs": [
        {
          "output_type": "stream",
          "text": [
            "<class 'pandas.core.frame.DataFrame'>\n",
            "Int64Index: 5050 entries, 258647 to 63421\n",
            "Data columns (total 30 columns):\n",
            " #   Column  Non-Null Count  Dtype  \n",
            "---  ------  --------------  -----  \n",
            " 0   V1      5050 non-null   float64\n",
            " 1   V2      5050 non-null   float64\n",
            " 2   V3      5050 non-null   float64\n",
            " 3   V4      5050 non-null   float64\n",
            " 4   V5      5050 non-null   float64\n",
            " 5   V6      5050 non-null   float64\n",
            " 6   V7      5050 non-null   float64\n",
            " 7   V8      5050 non-null   float64\n",
            " 8   V9      5050 non-null   float64\n",
            " 9   V10     5050 non-null   float64\n",
            " 10  V11     5050 non-null   float64\n",
            " 11  V12     5050 non-null   float64\n",
            " 12  V13     5050 non-null   float64\n",
            " 13  V14     5050 non-null   float64\n",
            " 14  V15     5050 non-null   float64\n",
            " 15  V16     5050 non-null   float64\n",
            " 16  V17     5050 non-null   float64\n",
            " 17  V18     5050 non-null   float64\n",
            " 18  V19     5050 non-null   float64\n",
            " 19  V20     5050 non-null   float64\n",
            " 20  V21     5050 non-null   float64\n",
            " 21  V22     5050 non-null   float64\n",
            " 22  V23     5050 non-null   float64\n",
            " 23  V24     5050 non-null   float64\n",
            " 24  V25     5050 non-null   float64\n",
            " 25  V26     5050 non-null   float64\n",
            " 26  V27     5050 non-null   float64\n",
            " 27  V28     5050 non-null   float64\n",
            " 28  Amount  5050 non-null   float64\n",
            " 29  Class   5050 non-null   int64  \n",
            "dtypes: float64(29), int64(1)\n",
            "memory usage: 1.2 MB\n",
            "None\n"
          ],
          "name": "stdout"
        }
      ]
    },
    {
      "cell_type": "code",
      "metadata": {
        "colab": {
          "base_uri": "https://localhost:8080/"
        },
        "id": "QOYxjieNhAEt",
        "outputId": "b1eaabaf-1a57-4cbe-c193-91f05b044eb5"
      },
      "source": [
        "# Count the occurrences of fraud and no fraud and print them\n",
        "occ = df['Class'].value_counts()\n",
        "print(occ)"
      ],
      "execution_count": null,
      "outputs": [
        {
          "output_type": "stream",
          "text": [
            "0    5000\n",
            "1      50\n",
            "Name: Class, dtype: int64\n"
          ],
          "name": "stdout"
        }
      ]
    },
    {
      "cell_type": "code",
      "metadata": {
        "colab": {
          "base_uri": "https://localhost:8080/"
        },
        "id": "0OQrKFV8geEd",
        "outputId": "383eea85-bc97-4030-fcde-37831b23138f"
      },
      "source": [
        "# Print the ratio of fraud cases\n",
        "print(occ / len(df))"
      ],
      "execution_count": null,
      "outputs": [
        {
          "output_type": "stream",
          "text": [
            "0    0.990099\n",
            "1    0.009901\n",
            "Name: Class, dtype: float64\n"
          ],
          "name": "stdout"
        }
      ]
    },
    {
      "cell_type": "code",
      "metadata": {
        "colab": {
          "base_uri": "https://localhost:8080/",
          "height": 267
        },
        "id": "JzLmMm2ThRDt",
        "outputId": "87f9b3cf-5e3e-4101-81c8-d8a726f84d37"
      },
      "source": [
        "# plot to look at the data and visualize the fraud to non-fraud ratio. \n",
        "\n",
        "# separate features and labels\n",
        "X = df.iloc[:,2:30].values\n",
        "y = df.Class.values\n",
        "\n",
        "plt.scatter(X[y == 0, 0], X[y == 0, 1], label=\"Class #0\", alpha=0.5, linewidth=0.15)\n",
        "plt.scatter(X[y == 1, 0], X[y == 1, 1], label=\"Class #1\", alpha=0.5, linewidth=0.15, c='r')\n",
        "plt.legend()\n",
        "plt.show()"
      ],
      "execution_count": null,
      "outputs": [
        {
          "output_type": "display_data",
          "data": {
            "image/png": "[encoded data removed]",
            "text/plain": [
              "<Figure size 432x288 with 1 Axes>"
            ]
          },
          "metadata": {
            "tags": [],
            "needs_background": "light"
          }
        }
      ]
    },
    {
      "cell_type": "markdown",
      "metadata": {
        "id": "9OY66-IxmWZH"
      },
      "source": [
        "By visualizing the data, we can immediately see how our fraud cases are scattered over our data, and there are few cases of fraud."
      ]
    },
    {
      "cell_type": "code",
      "metadata": {
        "id": "5x6Sg8chn1tn"
      },
      "source": [
        ""
      ],
      "execution_count": null,
      "outputs": []
    },
    {
      "cell_type": "markdown",
      "metadata": {
        "id": "QgTBYQ2hn18t"
      },
      "source": [
        "### Data Resampling with SMOTE"
      ]
    },
    {
      "cell_type": "markdown",
      "metadata": {
        "id": "3IeyETNxn-bM"
      },
      "source": [
        "Since, our data is very highly imbalanced, it may be difficult to apply machine learning to imbalanced data. So, here we resample our data to create a balanced distribution of the classes.  \n",
        "Synthetic Minority Over-sampling Technique (SMOTE) creates new, synthetic, samples that are quite similar to the existing observations in the minority class. "
      ]
    },
    {
      "cell_type": "code",
      "metadata": {
        "colab": {
          "base_uri": "https://localhost:8080/"
        },
        "id": "5-MOpcpdn1CW",
        "outputId": "df8d9028-e1d6-4148-be0f-d144a477913a"
      },
      "source": [
        "from imblearn.over_sampling import SMOTE"
      ],
      "execution_count": null,
      "outputs": [
        {
          "output_type": "stream",
          "text": [
            "/usr/local/lib/python3.7/dist-packages/sklearn/externals/six.py:31: FutureWarning: The module is deprecated in version 0.21 and will be removed in version 0.23 since we've dropped support for Python 2.7. Please rely on the official version of six (https://pypi.org/project/six/).\n",
            "  \"(https://pypi.org/project/six/).\", FutureWarning)\n",
            "/usr/local/lib/python3.7/dist-packages/sklearn/utils/deprecation.py:144: FutureWarning: The sklearn.neighbors.base module is  deprecated in version 0.22 and will be removed in version 0.24. The corresponding classes / functions should instead be imported from sklearn.neighbors. Anything that cannot be imported from sklearn.neighbors is now part of the private API.\n",
            "  warnings.warn(message, FutureWarning)\n"
          ],
          "name": "stderr"
        }
      ]
    },
    {
      "cell_type": "code",
      "metadata": {
        "id": "vqbQcbdJn0-t"
      },
      "source": [
        "# Define the resampling method\n",
        "method = SMOTE(kind='regular')"
      ],
      "execution_count": null,
      "outputs": []
    },
    {
      "cell_type": "code",
      "metadata": {
        "colab": {
          "base_uri": "https://localhost:8080/"
        },
        "id": "zkXEV2oWofcH",
        "outputId": "cbff2811-38b8-4cec-98d9-dc1209a43eed"
      },
      "source": [
        "# Create the resampled feature set\n",
        "X_resampled, y_resampled = method.fit_sample(X, y)"
      ],
      "execution_count": null,
      "outputs": [
        {
          "output_type": "stream",
          "text": [
            "/usr/local/lib/python3.7/dist-packages/sklearn/utils/deprecation.py:87: FutureWarning: Function safe_indexing is deprecated; safe_indexing is deprecated in version 0.22 and will be removed in version 0.24.\n",
            "  warnings.warn(msg, category=FutureWarning)\n"
          ],
          "name": "stderr"
        }
      ]
    },
    {
      "cell_type": "code",
      "metadata": {
        "colab": {
          "base_uri": "https://localhost:8080/"
        },
        "id": "D7dZGhURhRAe",
        "outputId": "179f0f73-abc4-40cf-ed95-2a9dc3e67b2c"
      },
      "source": [
        "# Plot the resampled data\n"
      ],
      "execution_count": null,
      "outputs": [
        {
          "output_type": "execute_result",
          "data": {
            "text/plain": [
              "0       1.212511\n",
              "1      -0.658305\n",
              "2       1.105253\n",
              "3       1.239495\n",
              "4      -1.571359\n",
              "          ...   \n",
              "7995   -0.942732\n",
              "7996   -0.195044\n",
              "7997    2.038001\n",
              "7998   -0.484304\n",
              "7999    1.975178\n",
              "Name: V1, Length: 7983, dtype: float64"
            ]
          },
          "metadata": {
            "tags": []
          },
          "execution_count": 26
        }
      ]
    },
    {
      "cell_type": "code",
      "metadata": {
        "colab": {
          "base_uri": "https://localhost:8080/",
          "height": 267
        },
        "id": "c80Eh2hIhQ8G",
        "outputId": "789e88ad-7118-468e-c669-1941346f5fe8"
      },
      "source": [
        "plt.scatter(X_resampled[y_resampled == 0, 0], X_resampled[y_resampled == 0, 1], label=\"Class #0\", alpha=0.5, linewidth=0.15)\n",
        "plt.scatter(X_resampled[y_resampled == 1, 0], X_resampled[y_resampled == 1, 1], label=\"Class #1\", alpha=0.5, linewidth=0.15, c='r')\n",
        "plt.legend()\n",
        "plt.show()"
      ],
      "execution_count": null,
      "outputs": [
        {
          "output_type": "display_data",
          "data": {
            "image/png": "[encoded data removed]",
            "text/plain": [
              "<Figure size 432x288 with 1 Axes>"
            ]
          },
          "metadata": {
            "tags": [],
            "needs_background": "light"
          }
        }
      ]
    },
    {
      "cell_type": "markdown",
      "metadata": {
        "id": "dRa4NdnWpiQx"
      },
      "source": [
        "We see that after resampling, now we have more cases of fraud."
      ]
    },
    {
      "cell_type": "code",
      "metadata": {
        "colab": {
          "base_uri": "https://localhost:8080/"
        },
        "id": "x632nd6xhQws",
        "outputId": "e2c5b3df-874b-45a3-cd07-0b3b1a2e1670"
      },
      "source": [
        "# Print the value_counts on the original labels y\n",
        "print(\"__Original__\")\n",
        "print(pd.value_counts(pd.Series(y)))\n",
        "\n",
        "# Print the value_counts on resampled data labels y\n",
        "print(\"__Resampled__\")\n",
        "print(pd.value_counts(pd.Series(y_resampled)))"
      ],
      "execution_count": null,
      "outputs": [
        {
          "output_type": "stream",
          "text": [
            "__Original__\n",
            "0    5000\n",
            "1      50\n",
            "dtype: int64\n",
            "__Resampled__\n",
            "1    5000\n",
            "0    5000\n",
            "dtype: int64\n"
          ],
          "name": "stdout"
        }
      ]
    },
    {
      "cell_type": "code",
      "metadata": {
        "id": "_Gf_dHOUpBl_"
      },
      "source": [
        ""
      ],
      "execution_count": null,
      "outputs": []
    },
    {
      "cell_type": "markdown",
      "metadata": {
        "id": "6a14wG14r4sF"
      },
      "source": [
        "### Rule Based method to Detect Fraud"
      ]
    },
    {
      "cell_type": "markdown",
      "metadata": {
        "id": "3Dbfv84tsFqN"
      },
      "source": [
        "For rule based methods threshold values are determined using common statistics, to split fraud and non-fraud. Then, those thresholds are compared against the  features to detect fraud."
      ]
    },
    {
      "cell_type": "code",
      "metadata": {
        "colab": {
          "base_uri": "https://localhost:8080/",
          "height": 163
        },
        "id": "EAHm7_r1r9AO",
        "outputId": "600396a1-a8ad-4741-bb6a-a8c2a7f3c0c8"
      },
      "source": [
        "# Get the mean of all features for each class label\n",
        "df.groupby(\"Class\").mean()"
      ],
      "execution_count": null,
      "outputs": [
        {
          "output_type": "execute_result",
          "data": {
            "text/html": [
              "<div>\n",
              "<style scoped>\n",
              "    .dataframe tbody tr th:only-of-type {\n",
              "        vertical-align: middle;\n",
              "    }\n",
              "\n",
              "    .dataframe tbody tr th {\n",
              "        vertical-align: top;\n",
              "    }\n",
              "\n",
              "    .dataframe thead th {\n",
              "        text-align: right;\n",
              "    }\n",
              "</style>\n",
              "<table border=\"1\" class=\"dataframe\">\n",
              "  <thead>\n",
              "    <tr style=\"text-align: right;\">\n",
              "      <th></th>\n",
              "      <th>V1</th>\n",
              "      <th>V2</th>\n",
              "      <th>V3</th>\n",
              "      <th>V4</th>\n",
              "      <th>V5</th>\n",
              "      <th>V6</th>\n",
              "      <th>V7</th>\n",
              "      <th>V8</th>\n",
              "      <th>V9</th>\n",
              "      <th>V10</th>\n",
              "      <th>V11</th>\n",
              "      <th>V12</th>\n",
              "      <th>V13</th>\n",
              "      <th>V14</th>\n",
              "      <th>V15</th>\n",
              "      <th>V16</th>\n",
              "      <th>V17</th>\n",
              "      <th>V18</th>\n",
              "      <th>V19</th>\n",
              "      <th>V20</th>\n",
              "      <th>V21</th>\n",
              "      <th>V22</th>\n",
              "      <th>V23</th>\n",
              "      <th>V24</th>\n",
              "      <th>V25</th>\n",
              "      <th>V26</th>\n",
              "      <th>V27</th>\n",
              "      <th>V28</th>\n",
              "      <th>Amount</th>\n",
              "    </tr>\n",
              "    <tr>\n",
              "      <th>Class</th>\n",
              "      <th></th>\n",
              "      <th></th>\n",
              "      <th></th>\n",
              "      <th></th>\n",
              "      <th></th>\n",
              "      <th></th>\n",
              "      <th></th>\n",
              "      <th></th>\n",
              "      <th></th>\n",
              "      <th></th>\n",
              "      <th></th>\n",
              "      <th></th>\n",
              "      <th></th>\n",
              "      <th></th>\n",
              "      <th></th>\n",
              "      <th></th>\n",
              "      <th></th>\n",
              "      <th></th>\n",
              "      <th></th>\n",
              "      <th></th>\n",
              "      <th></th>\n",
              "      <th></th>\n",
              "      <th></th>\n",
              "      <th></th>\n",
              "      <th></th>\n",
              "      <th></th>\n",
              "      <th></th>\n",
              "      <th></th>\n",
              "      <th></th>\n",
              "    </tr>\n",
              "  </thead>\n",
              "  <tbody>\n",
              "    <tr>\n",
              "      <th>0</th>\n",
              "      <td>0.035030</td>\n",
              "      <td>0.011553</td>\n",
              "      <td>0.037444</td>\n",
              "      <td>-0.045760</td>\n",
              "      <td>-0.013825</td>\n",
              "      <td>-0.030885</td>\n",
              "      <td>0.014315</td>\n",
              "      <td>-0.022432</td>\n",
              "      <td>-0.002227</td>\n",
              "      <td>0.001667</td>\n",
              "      <td>-0.004511</td>\n",
              "      <td>0.017434</td>\n",
              "      <td>0.004204</td>\n",
              "      <td>0.006542</td>\n",
              "      <td>-0.026640</td>\n",
              "      <td>0.001190</td>\n",
              "      <td>0.004481</td>\n",
              "      <td>-0.010892</td>\n",
              "      <td>-0.016554</td>\n",
              "      <td>-0.002896</td>\n",
              "      <td>-0.010583</td>\n",
              "      <td>-0.010206</td>\n",
              "      <td>-0.003305</td>\n",
              "      <td>-0.000918</td>\n",
              "      <td>-0.002613</td>\n",
              "      <td>-0.004651</td>\n",
              "      <td>-0.009584</td>\n",
              "      <td>0.002414</td>\n",
              "      <td>85.843714</td>\n",
              "    </tr>\n",
              "    <tr>\n",
              "      <th>1</th>\n",
              "      <td>-4.985211</td>\n",
              "      <td>3.321539</td>\n",
              "      <td>-7.293909</td>\n",
              "      <td>4.827952</td>\n",
              "      <td>-3.326587</td>\n",
              "      <td>-1.591882</td>\n",
              "      <td>-5.776541</td>\n",
              "      <td>1.395058</td>\n",
              "      <td>-2.537728</td>\n",
              "      <td>-5.917934</td>\n",
              "      <td>4.020563</td>\n",
              "      <td>-7.032865</td>\n",
              "      <td>-0.104179</td>\n",
              "      <td>-7.100399</td>\n",
              "      <td>-0.120265</td>\n",
              "      <td>-4.658854</td>\n",
              "      <td>-7.589219</td>\n",
              "      <td>-2.650436</td>\n",
              "      <td>0.894255</td>\n",
              "      <td>0.194580</td>\n",
              "      <td>0.703182</td>\n",
              "      <td>0.069065</td>\n",
              "      <td>-0.088374</td>\n",
              "      <td>-0.029425</td>\n",
              "      <td>-0.073336</td>\n",
              "      <td>-0.023377</td>\n",
              "      <td>0.380072</td>\n",
              "      <td>0.009304</td>\n",
              "      <td>113.469000</td>\n",
              "    </tr>\n",
              "  </tbody>\n",
              "</table>\n",
              "</div>"
            ],
            "text/plain": [
              "             V1        V2        V3  ...       V27       V28      Amount\n",
              "Class                                ...                                \n",
              "0      0.035030  0.011553  0.037444  ... -0.009584  0.002414   85.843714\n",
              "1     -4.985211  3.321539 -7.293909  ...  0.380072  0.009304  113.469000\n",
              "\n",
              "[2 rows x 29 columns]"
            ]
          },
          "metadata": {
            "tags": []
          },
          "execution_count": 48
        }
      ]
    },
    {
      "cell_type": "markdown",
      "metadata": {
        "id": "V3gnVUL7suh-"
      },
      "source": [
        "We can see a clear distinction between the mean values for most of the features."
      ]
    },
    {
      "cell_type": "code",
      "metadata": {
        "id": "15fRRxBnsmyw"
      },
      "source": [
        "# Implement a rule for stating which cases are flagged as fraud\n",
        "df['flag_as_fraud'] = np.where(np.logical_and(df['V1'] < -3 , df['V3']<-5), 1, 0)"
      ],
      "execution_count": null,
      "outputs": []
    },
    {
      "cell_type": "code",
      "metadata": {
        "colab": {
          "base_uri": "https://localhost:8080/"
        },
        "id": "MkAvCfrptRXy",
        "outputId": "a9bcfc7f-0ce1-4258-dcef-cdc6213399db"
      },
      "source": [
        "# Create a crosstab of flagged fraud cases versus the actual fraud cases\n",
        "print(pd.crosstab(df.Class, df.flag_as_fraud, rownames=['Actual Fraud'], colnames=['Flagged Fraud']))"
      ],
      "execution_count": null,
      "outputs": [
        {
          "output_type": "stream",
          "text": [
            "Flagged Fraud     0   1\n",
            "Actual Fraud           \n",
            "0              4984  16\n",
            "1                28  22\n"
          ],
          "name": "stdout"
        }
      ]
    },
    {
      "cell_type": "markdown",
      "metadata": {
        "id": "6ltHsWfsthyH"
      },
      "source": [
        "With this rule, 22 out of 50 fraud cases are detected, 28 are not detected, and 16 false positives are identified."
      ]
    },
    {
      "cell_type": "code",
      "metadata": {
        "id": "tKSvsnhdtZTf"
      },
      "source": [
        ""
      ],
      "execution_count": null,
      "outputs": []
    },
    {
      "cell_type": "markdown",
      "metadata": {
        "id": "9c6EV8EZtrsV"
      },
      "source": [
        "### Machine Learning to Detect Fraud"
      ]
    },
    {
      "cell_type": "markdown",
      "metadata": {
        "id": "pOpLMMwEulr-"
      },
      "source": [
        "**Logistic Regression**"
      ]
    },
    {
      "cell_type": "code",
      "metadata": {
        "id": "eyYfCYoOt762"
      },
      "source": [
        "from sklearn.model_selection import train_test_split\n",
        "from sklearn.metrics import confusion_matrix, classification_report"
      ],
      "execution_count": null,
      "outputs": []
    },
    {
      "cell_type": "code",
      "metadata": {
        "id": "nK1rIecCtZEJ"
      },
      "source": [
        "# Create the training and testing sets\n",
        "X_train, X_test, y_train, y_test = train_test_split(X, y, test_size=0.3, random_state=0)"
      ],
      "execution_count": null,
      "outputs": []
    },
    {
      "cell_type": "code",
      "metadata": {
        "colab": {
          "base_uri": "https://localhost:8080/"
        },
        "id": "ULWKRp_tuGoV",
        "outputId": "1017f31b-bfd7-4b5c-8f2e-cc962a9d7149"
      },
      "source": [
        "# Fit a logistic regression model to our data\n",
        "from sklearn.linear_model import LogisticRegression\n",
        "model = LogisticRegression(solver='liblinear')\n",
        "model.fit(X_train, y_train)"
      ],
      "execution_count": null,
      "outputs": [
        {
          "output_type": "execute_result",
          "data": {
            "text/plain": [
              "LogisticRegression(C=1.0, class_weight=None, dual=False, fit_intercept=True,\n",
              "                   intercept_scaling=1, l1_ratio=None, max_iter=100,\n",
              "                   multi_class='auto', n_jobs=None, penalty='l2',\n",
              "                   random_state=None, solver='liblinear', tol=0.0001, verbose=0,\n",
              "                   warm_start=False)"
            ]
          },
          "metadata": {
            "tags": []
          },
          "execution_count": 56
        }
      ]
    },
    {
      "cell_type": "code",
      "metadata": {
        "id": "nb8KjEmcuQya"
      },
      "source": [
        "# Obtain model predictions\n",
        "predicted = model.predict(X_test)"
      ],
      "execution_count": null,
      "outputs": []
    },
    {
      "cell_type": "code",
      "metadata": {
        "colab": {
          "base_uri": "https://localhost:8080/"
        },
        "id": "YnWDiQeeuY7d",
        "outputId": "fd9fbf6e-508d-49ab-e60c-0da429146e6f"
      },
      "source": [
        "# Print the classifcation report and confusion matrix\n",
        "print('Classification report:\\n', classification_report(y_test, predicted))\n",
        "conf_mat = confusion_matrix(y_true=y_test, y_pred=predicted)\n",
        "print('Confusion matrix:\\n', conf_mat)"
      ],
      "execution_count": null,
      "outputs": [
        {
          "output_type": "stream",
          "text": [
            "Classification report:\n",
            "               precision    recall  f1-score   support\n",
            "\n",
            "           0       1.00      1.00      1.00      1505\n",
            "           1       0.89      0.80      0.84        10\n",
            "\n",
            "    accuracy                           1.00      1515\n",
            "   macro avg       0.94      0.90      0.92      1515\n",
            "weighted avg       1.00      1.00      1.00      1515\n",
            "\n",
            "Confusion matrix:\n",
            " [[1504    1]\n",
            " [   2    8]]\n"
          ],
          "name": "stdout"
        }
      ]
    },
    {
      "cell_type": "code",
      "metadata": {
        "id": "fGVkzUu0upUt"
      },
      "source": [
        ""
      ],
      "execution_count": null,
      "outputs": []
    },
    {
      "cell_type": "markdown",
      "metadata": {
        "id": "fo3Fv98sups6"
      },
      "source": [
        "**Logistic regression combined with SMOTE**"
      ]
    },
    {
      "cell_type": "code",
      "metadata": {
        "id": "ZODX33BRuq3H"
      },
      "source": [
        "from imblearn.pipeline import Pipeline "
      ],
      "execution_count": null,
      "outputs": []
    },
    {
      "cell_type": "code",
      "metadata": {
        "id": "wzM7XsB6uu8n"
      },
      "source": [
        "# Define which resampling method and which ML model to use in the pipeline\n",
        "resampling = SMOTE(kind = 'borderline2')\n",
        "model = LogisticRegression(solver='liblinear')"
      ],
      "execution_count": null,
      "outputs": []
    },
    {
      "cell_type": "code",
      "metadata": {
        "id": "6jvlQJO-u0Gl"
      },
      "source": [
        "# Define the pipeline to combine SMOTE with the Logistic Regression model\n",
        "pipeline = Pipeline([('SMOTE', resampling), ('Logistic Regression', model)])"
      ],
      "execution_count": null,
      "outputs": []
    },
    {
      "cell_type": "code",
      "metadata": {
        "colab": {
          "base_uri": "https://localhost:8080/"
        },
        "id": "XJUQeAxIu5nX",
        "outputId": "33d673ab-ae62-4502-96cc-233412f56be7"
      },
      "source": [
        "# Fit pipeline onto your training set and obtain predictions on the test data \n",
        "pipeline.fit(X_train, y_train) \n",
        "predicted = pipeline.predict(X_test)"
      ],
      "execution_count": null,
      "outputs": [
        {
          "output_type": "stream",
          "text": [
            "/usr/local/lib/python3.7/dist-packages/sklearn/utils/deprecation.py:87: FutureWarning: Function safe_indexing is deprecated; safe_indexing is deprecated in version 0.22 and will be removed in version 0.24.\n",
            "  warnings.warn(msg, category=FutureWarning)\n",
            "/usr/local/lib/python3.7/dist-packages/sklearn/utils/deprecation.py:87: FutureWarning: Function safe_indexing is deprecated; safe_indexing is deprecated in version 0.22 and will be removed in version 0.24.\n",
            "  warnings.warn(msg, category=FutureWarning)\n",
            "/usr/local/lib/python3.7/dist-packages/sklearn/utils/deprecation.py:87: FutureWarning: Function safe_indexing is deprecated; safe_indexing is deprecated in version 0.22 and will be removed in version 0.24.\n",
            "  warnings.warn(msg, category=FutureWarning)\n"
          ],
          "name": "stderr"
        }
      ]
    },
    {
      "cell_type": "code",
      "metadata": {
        "colab": {
          "base_uri": "https://localhost:8080/"
        },
        "id": "CQ8ohRvnvJl2",
        "outputId": "b18c2e01-b340-465f-9c21-f4911b368570"
      },
      "source": [
        "# Obtain the results from the classification report and confusion matrix \n",
        "print('Classifcation report:\\n', classification_report(y_test, predicted))\n",
        "\n",
        "conf_mat = confusion_matrix(y_true=y_test, y_pred=predicted)\n",
        "print('Confusion matrix:\\n', conf_mat)"
      ],
      "execution_count": null,
      "outputs": [
        {
          "output_type": "stream",
          "text": [
            "Classifcation report:\n",
            "               precision    recall  f1-score   support\n",
            "\n",
            "           0       1.00      1.00      1.00      1505\n",
            "           1       0.91      1.00      0.95        10\n",
            "\n",
            "    accuracy                           1.00      1515\n",
            "   macro avg       0.95      1.00      0.98      1515\n",
            "weighted avg       1.00      1.00      1.00      1515\n",
            "\n",
            "Confusion matrix:\n",
            " [[1504    1]\n",
            " [   0   10]]\n"
          ],
          "name": "stdout"
        }
      ]
    },
    {
      "cell_type": "markdown",
      "metadata": {
        "id": "5Oe-r5qgvcT_"
      },
      "source": [
        "We see that with SMOTE sampling, our model identified all of the fraud cases in the test data and also only mislclassified 1 of the non-fraud cases as fraud."
      ]
    },
    {
      "cell_type": "code",
      "metadata": {
        "id": "EpVL2F3Bvbt9"
      },
      "source": [
        ""
      ],
      "execution_count": null,
      "outputs": []
    }
  ]
}